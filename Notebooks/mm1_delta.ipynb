{
 "cells": [
  {
   "cell_type": "markdown",
   "metadata": {},
   "source": [
    "## Simulation of a M/M/1 queue\n",
    "\n",
    "### Confidence interval on average waiting time using Delta theorem"
   ]
  },
  {
   "cell_type": "code",
   "execution_count": 1,
   "metadata": {
    "collapsed": false
   },
   "outputs": [
    {
     "data": {
      "text/plain": [
       "Seed for next MRG32k3a generator:\n",
       "[12345,12345,12345,12345,12345,12345]"
      ]
     },
     "execution_count": 1,
     "metadata": {},
     "output_type": "execute_result"
    }
   ],
   "source": [
    "using SimJulia\n",
    "using Distributions\n",
    "using RandomStreams\n",
    "using Distributions\n",
    "\n",
    "const SEED = 12345\n",
    "\n",
    "rand_dist(rng::MRG32k3a, Dist::Distribution) = quantile(Dist, rand(rng))\n",
    "\n",
    "seeds = [SEED, SEED, SEED, SEED, SEED, SEED]\n",
    "gen = MRG32k3aGen(seeds)"
   ]
  },
  {
   "cell_type": "code",
   "execution_count": 2,
   "metadata": {
    "collapsed": false
   },
   "outputs": [
    {
     "data": {
      "text/plain": [
       "stdev (generic function with 1 method)"
      ]
     },
     "execution_count": 2,
     "metadata": {},
     "output_type": "execute_result"
    }
   ],
   "source": [
    "include(\"tally.jl\")"
   ]
  },
  {
   "cell_type": "code",
   "execution_count": 3,
   "metadata": {
    "collapsed": false
   },
   "outputs": [
    {
     "data": {
      "text/plain": [
       "add (generic function with 2 methods)"
      ]
     },
     "execution_count": 3,
     "metadata": {},
     "output_type": "execute_result"
    }
   ],
   "source": [
    "include(\"tallystore.jl\")"
   ]
  },
  {
   "cell_type": "code",
   "execution_count": 4,
   "metadata": {
    "collapsed": false
   },
   "outputs": [
    {
     "name": "stdout",
     "output_type": "stream",
     "text": [
      "M/M/1 with processes\n"
     ]
    },
    {
     "data": {
      "text/plain": [
       "restart (generic function with 1 method)"
      ]
     },
     "execution_count": 4,
     "metadata": {},
     "output_type": "execute_result"
    }
   ],
   "source": [
    "println(\"M/M/1 with processes\")\n",
    "\n",
    "#rates\n",
    "λ = 1.9\n",
    "μ = 2.0\n",
    "ρ = λ/μ\n",
    "\n",
    "warmup = 500 # this should be set with a formal procedure\n",
    "\n",
    "type System\n",
    "    W\n",
    "    arrival\n",
    "    service\n",
    "    counter\n",
    "    arrgen\n",
    "    servgen\n",
    "    \n",
    "    function System(text::String)\n",
    "        s = new()\n",
    "        s.W = Tally(text)\n",
    "        s.arrival = Exponential(1.0/λ)\n",
    "        s.service = Exponential(1.0/μ)\n",
    "        s.arrgen = next_stream(gen)\n",
    "        s.servgen = next_stream(gen)\n",
    "        return s;\n",
    "    end\n",
    "end\n",
    "\n",
    "function restart(s::System)\n",
    "    init(s.W)\n",
    "    next_substream!(s.arrgen)\n",
    "    next_substream!(s.servgen)\n",
    "end"
   ]
  },
  {
   "cell_type": "code",
   "execution_count": 5,
   "metadata": {
    "collapsed": false
   },
   "outputs": [
    {
     "data": {
      "text/plain": [
       "System(Tally(\"Waiting Times\",0,0.0,Inf,-Inf,0.0,0.0,0.0),Distributions.Exponential{Float64}(θ=0.5263157894736842),Distributions.Exponential{Float64}(θ=0.5),#undef,Full state of MRG32k3a generator:\n",
       "Cg = [12345,12345,12345,12345,12345,12345]\n",
       "Bg = [12345,12345,12345,12345,12345,12345]\n",
       "Ig = [12345,12345,12345,12345,12345,12345],Full state of MRG32k3a generator:\n",
       "Cg = [3692455944,1366884236,2968912127,335948734,4161675175,475798818]\n",
       "Bg = [3692455944,1366884236,2968912127,335948734,4161675175,475798818]\n",
       "Ig = [3692455944,1366884236,2968912127,335948734,4161675175,475798818])"
      ]
     },
     "execution_count": 5,
     "metadata": {},
     "output_type": "execute_result"
    }
   ],
   "source": [
    "s = System(\"Waiting Times\")"
   ]
  },
  {
   "cell_type": "code",
   "execution_count": 6,
   "metadata": {
    "collapsed": false
   },
   "outputs": [
    {
     "data": {
      "text/plain": [
       "customer (generic function with 1 method)"
      ]
     },
     "execution_count": 6,
     "metadata": {},
     "output_type": "execute_result"
    }
   ],
   "source": [
    "# Allow a simulation with a fixed number of clients\n",
    "\n",
    "function source(env::Environment, s::System, limit::Float64)\n",
    "    i = 0\n",
    "    while (true)\n",
    "        yield(Timeout(env, rand_dist(s.arrgen, s.arrival)))\n",
    "        if (now(env) > limit) break end\n",
    "        i += 1\n",
    "        Process(env, customer, s, i, s.counter)\n",
    "    end\n",
    "end\n",
    "\n",
    "function source_fixed(env::Environment, s::System, counter::Resource, nCusts::Int64)\n",
    "    for i = 1:nCusts\n",
    "        yield(Timeout(env, rand_dist(s.arrgen, s.arrival)))\n",
    "        Process(env, customer, s, i, counter)\n",
    "    end\n",
    "end\n",
    "\n",
    "function customer(env::Environment, s::System, idx::Int, counter::Resource)\n",
    "    # Record the arrival time in the system\n",
    "    arrive = now(env)\n",
    "    yield(Request(counter))\n",
    "    # The simulation clock now contains the time when the client goes to the server.\n",
    "    # Record the waiting time\n",
    "    if (idx > warmup)\n",
    "        wait = now(env) - arrive\n",
    "        add(s.W, wait)\n",
    "    end\n",
    "    yield(Timeout(env, rand_dist(s.servgen, s.service)))\n",
    "    yield(Release(counter))\n",
    "end"
   ]
  },
  {
   "cell_type": "code",
   "execution_count": 7,
   "metadata": {
    "collapsed": false
   },
   "outputs": [
    {
     "data": {
      "text/plain": [
       "onesim (generic function with 1 method)"
      ]
     },
     "execution_count": 7,
     "metadata": {},
     "output_type": "execute_result"
    }
   ],
   "source": [
    "function onesim(s::System)    \n",
    "    env = Environment()\n",
    "    s.counter = Resource(env, 1)\n",
    "    \n",
    "    # We consider a system over 24 hours\n",
    "    Process(env, source, s, 48*60.0)\n",
    "    run(env)\n",
    "end"
   ]
  },
  {
   "cell_type": "code",
   "execution_count": 8,
   "metadata": {
    "collapsed": false
   },
   "outputs": [],
   "source": [
    "onesim(s)"
   ]
  },
  {
   "cell_type": "code",
   "execution_count": 9,
   "metadata": {
    "collapsed": false
   },
   "outputs": [
    {
     "data": {
      "text/plain": [
       "7.351199208498522"
      ]
     },
     "execution_count": 9,
     "metadata": {},
     "output_type": "execute_result"
    }
   ],
   "source": [
    "average(s.W)"
   ]
  },
  {
   "cell_type": "code",
   "execution_count": 10,
   "metadata": {
    "collapsed": false
   },
   "outputs": [
    {
     "data": {
      "text/plain": [
       "4979"
      ]
     },
     "execution_count": 10,
     "metadata": {},
     "output_type": "execute_result"
    }
   ],
   "source": [
    "nobs(s.W)"
   ]
  },
  {
   "cell_type": "code",
   "execution_count": 11,
   "metadata": {
    "collapsed": false
   },
   "outputs": [
    {
     "data": {
      "text/plain": [
       "40.89354988685545"
      ]
     },
     "execution_count": 11,
     "metadata": {},
     "output_type": "execute_result"
    }
   ],
   "source": [
    "variance(s.W)"
   ]
  },
  {
   "cell_type": "code",
   "execution_count": 12,
   "metadata": {
    "collapsed": false
   },
   "outputs": [
    {
     "data": {
      "text/plain": [
       "TallyStore(Float64[],Tally(\"Average waiting times\",0,0.0,Inf,-Inf,0.0,0.0,0.0))"
      ]
     },
     "execution_count": 12,
     "metadata": {},
     "output_type": "execute_result"
    }
   ],
   "source": [
    "meanWaits = TallyStore(\"Average waiting times\")"
   ]
  },
  {
   "cell_type": "code",
   "execution_count": 13,
   "metadata": {
    "collapsed": false
   },
   "outputs": [
    {
     "data": {
      "text/plain": [
       "TallyStore(Float64[],Tally(\"Cumulative waiting times\",0,0.0,Inf,-Inf,0.0,0.0,0.0))"
      ]
     },
     "execution_count": 13,
     "metadata": {},
     "output_type": "execute_result"
    }
   ],
   "source": [
    "totWaits = TallyStore(\"Cumulative waiting times\")"
   ]
  },
  {
   "cell_type": "code",
   "execution_count": 14,
   "metadata": {
    "collapsed": false
   },
   "outputs": [
    {
     "data": {
      "text/plain": [
       "TallyStore(Float64[],Tally(\"Number of observations\",0,0.0,Inf,-Inf,0.0,0.0,0.0))"
      ]
     },
     "execution_count": 14,
     "metadata": {},
     "output_type": "execute_result"
    }
   ],
   "source": [
    "nObs = TallyStore(\"Number of observations\")"
   ]
  },
  {
   "cell_type": "code",
   "execution_count": 15,
   "metadata": {
    "collapsed": false
   },
   "outputs": [
    {
     "data": {
      "text/plain": [
       "50"
      ]
     },
     "execution_count": 15,
     "metadata": {},
     "output_type": "execute_result"
    }
   ],
   "source": [
    "nSim = 50"
   ]
  },
  {
   "cell_type": "code",
   "execution_count": 16,
   "metadata": {
    "collapsed": false
   },
   "outputs": [
    {
     "name": "stdout",
     "output_type": "stream",
     "text": [
      "Sim 1. Average waiting time: 7.923026555654201. Number of observations: 4952\n",
      "Sim 2. Average waiting time: 4.783584620592791. Number of observations: 4848\n",
      "Sim 3. Average waiting time: 8.98735624690155. Number of observations: 5049\n",
      "Sim 4. Average waiting time: 4.963218831979749. Number of observations: 4954\n",
      "Sim 5. Average waiting time: 9.862566899872856. Number of observations: 5061\n",
      "Sim 6. Average waiting time: 5.035487595806768. Number of observations: 4917\n",
      "Sim 7. Average waiting time: 7.6128357063099585. Number of observations: 4931\n",
      "Sim 8. Average waiting time: 8.477087768486514. Number of observations: 4915\n",
      "Sim 9. Average waiting time: 4.3736718361789055. Number of observations: 4974\n",
      "Sim 10. Average waiting time: 5.888797320103889. Number of observations: 4869\n",
      "Sim 11. Average waiting time: 20.348290444282092. Number of observations: 5165\n",
      "Sim 12. Average waiting time: 12.019813220592987. Number of observations: 4965\n",
      "Sim 13. Average waiting time: 6.075280686523191. Number of observations: 4978\n",
      "Sim 14. Average waiting time: 17.306307493201903. Number of observations: 5016\n",
      "Sim 15. Average waiting time: 6.094500598873442. Number of observations: 5004\n",
      "Sim 16. Average waiting time: 4.774085492088705. Number of observations: 4918\n",
      "Sim 17. Average waiting time: 12.423924628891914. Number of observations: 5026\n",
      "Sim 18. Average waiting time: 12.57002163899818. Number of observations: 4981\n",
      "Sim 19. Average waiting time: 12.79514951605715. Number of observations: 4898\n",
      "Sim 20. Average waiting time: 11.866891963317252. Number of observations: 4890\n",
      "Sim 21. Average waiting time: 8.414237846366767. Number of observations: 4881\n",
      "Sim 22. Average waiting time: 10.044780856019159. Number of observations: 5017\n",
      "Sim 23. Average waiting time: 5.7273214107258426. Number of observations: 4891\n",
      "Sim 24. Average waiting time: 10.527895093453498. Number of observations: 4949\n",
      "Sim 25. Average waiting time: 11.101721344330779. Number of observations: 5047\n",
      "Sim 26. Average waiting time: 11.389101793960045. Number of observations: 4915\n",
      "Sim 27. Average waiting time: 10.874519039599182. Number of observations: 5047\n",
      "Sim 28. Average waiting time: 10.245226701708907. Number of observations: 5070\n",
      "Sim 29. Average waiting time: 15.250667547180743. Number of observations: 5025\n",
      "Sim 30. Average waiting time: 10.626136627909744. Number of observations: 5011\n",
      "Sim 31. Average waiting time: 13.756591286274134. Number of observations: 5037\n",
      "Sim 32. Average waiting time: 6.5187064464116355. Number of observations: 4963\n",
      "Sim 33. Average waiting time: 10.565309628020445. Number of observations: 5034\n",
      "Sim 34. Average waiting time: 11.703006995239729. Number of observations: 4914\n",
      "Sim 35. Average waiting time: 7.35196303272571. Number of observations: 4953\n",
      "Sim 36. Average waiting time: 10.618706380566575. Number of observations: 4984\n",
      "Sim 37. Average waiting time: 10.423751746173027. Number of observations: 4990\n",
      "Sim 38. Average waiting time: 16.773892247402678. Number of observations: 5054\n",
      "Sim 39. Average waiting time: 7.5966351276654684. Number of observations: 5016\n",
      "Sim 40. Average waiting time: 10.584350945121969. Number of observations: 4999\n",
      "Sim 41. Average waiting time: 19.380706824729874. Number of observations: 5083\n",
      "Sim 42. Average waiting time: 7.075997382440564. Number of observations: 5067\n",
      "Sim 43. Average waiting time: 6.294637995866658. Number of observations: 4952\n",
      "Sim 44. Average waiting time: 12.008451258896894. Number of observations: 5050\n",
      "Sim 45. Average waiting time: 10.282145843874222. Number of observations: 4972\n",
      "Sim 46. Average waiting time: 10.094191702669676. Number of observations: 5002\n",
      "Sim 47. Average waiting time: 6.463346813055246. Number of observations: 4926\n",
      "Sim 48. Average waiting time: 6.075763416330862. Number of observations: 4971\n",
      "Sim 49. Average waiting time: 12.009256604866634. Number of observations: 4953\n",
      "Sim 50. Average waiting time: 12.841816653591838. Number of observations: 5042\n"
     ]
    }
   ],
   "source": [
    "for n=1:nSim\n",
    "    restart(s)\n",
    "    onesim(s)\n",
    "    w = average(s.W)\n",
    "    N = nobs(s.W)\n",
    "    add(meanWaits, w)\n",
    "    add(totWaits, sum(s.W))\n",
    "    add(nObs, Float64(N))\n",
    "    println(\"Sim $n. Average waiting time: $w. Number of observations: $N\")\n",
    "end"
   ]
  },
  {
   "cell_type": "code",
   "execution_count": 18,
   "metadata": {
    "collapsed": false
   },
   "outputs": [
    {
     "data": {
      "text/plain": [
       "9.936054713157848"
      ]
     },
     "execution_count": 18,
     "metadata": {},
     "output_type": "execute_result"
    }
   ],
   "source": [
    "average(meanWaits.t)"
   ]
  },
  {
   "cell_type": "code",
   "execution_count": 19,
   "metadata": {
    "collapsed": false
   },
   "outputs": [
    {
     "data": {
      "text/plain": [
       "13.911827919365427"
      ]
     },
     "execution_count": 19,
     "metadata": {},
     "output_type": "execute_result"
    }
   ],
   "source": [
    "variance(meanWaits.t)"
   ]
  },
  {
   "cell_type": "code",
   "execution_count": 20,
   "metadata": {
    "collapsed": false
   },
   "outputs": [
    {
     "data": {
      "text/plain": [
       "13.911827919365418"
      ]
     },
     "execution_count": 20,
     "metadata": {},
     "output_type": "execute_result"
    }
   ],
   "source": [
    "var(meanWaits.obs)"
   ]
  },
  {
   "cell_type": "code",
   "execution_count": 21,
   "metadata": {
    "collapsed": false
   },
   "outputs": [
    {
     "data": {
      "text/plain": [
       "49641.9480761314"
      ]
     },
     "execution_count": 21,
     "metadata": {},
     "output_type": "execute_result"
    }
   ],
   "source": [
    "totw = average(totWaits.t)"
   ]
  },
  {
   "cell_type": "code",
   "execution_count": 22,
   "metadata": {
    "collapsed": false
   },
   "outputs": [
    {
     "data": {
      "text/plain": [
       "4982.520000000002"
      ]
     },
     "execution_count": 22,
     "metadata": {},
     "output_type": "execute_result"
    }
   ],
   "source": [
    "no = average(nObs.t)"
   ]
  },
  {
   "cell_type": "code",
   "execution_count": 23,
   "metadata": {
    "collapsed": false
   },
   "outputs": [
    {
     "data": {
      "text/plain": [
       "9.963221035968019"
      ]
     },
     "execution_count": 23,
     "metadata": {},
     "output_type": "execute_result"
    }
   ],
   "source": [
    "totw/no"
   ]
  },
  {
   "cell_type": "code",
   "execution_count": 24,
   "metadata": {
    "collapsed": false
   },
   "outputs": [
    {
     "data": {
      "text/plain": [
       "ci_normal (generic function with 1 method)"
      ]
     },
     "execution_count": 24,
     "metadata": {},
     "output_type": "execute_result"
    }
   ],
   "source": [
    "function ci_normal(n::Int64, mean::Float64, stdev::Float64, α::Float64)\n",
    "    z = quantile(Normal(), 1-α/2)\n",
    "    w = z*stdev/sqrt(n)\n",
    "    # Lower bound\n",
    "    l = mean - w\n",
    "    # Upper bound\n",
    "    u = mean + w\n",
    "    \n",
    "    return l, u\n",
    "end"
   ]
  },
  {
   "cell_type": "code",
   "execution_count": 25,
   "metadata": {
    "collapsed": false
   },
   "outputs": [
    {
     "data": {
      "text/plain": [
       "(8.902210294758007,10.969899131557689)"
      ]
     },
     "execution_count": 25,
     "metadata": {},
     "output_type": "execute_result"
    }
   ],
   "source": [
    "ci_normal(nobs(meanWaits.t), average(meanWaits.t), stdev(meanWaits.t), 0.05)"
   ]
  },
  {
   "cell_type": "code",
   "execution_count": 26,
   "metadata": {
    "collapsed": false,
    "scrolled": true
   },
   "outputs": [
    {
     "data": {
      "text/plain": [
       "ci_tdist (generic function with 1 method)"
      ]
     },
     "execution_count": 26,
     "metadata": {},
     "output_type": "execute_result"
    }
   ],
   "source": [
    "function ci_tdist(n::Int64, mean::Float64, stdev::Float64, α::Float64)\n",
    "    z = quantile(TDist(n-1), 1-α/2)\n",
    "    w = z*stdev/sqrt(n)\n",
    "    # Lower bound\n",
    "    l = mean - w\n",
    "    # Upper bound\n",
    "    u = mean + w\n",
    "    \n",
    "    return l, u\n",
    "end"
   ]
  },
  {
   "cell_type": "code",
   "execution_count": 27,
   "metadata": {
    "collapsed": false
   },
   "outputs": [
    {
     "data": {
      "text/plain": [
       "(8.86471490016308,11.007394526152616)"
      ]
     },
     "execution_count": 27,
     "metadata": {},
     "output_type": "execute_result"
    }
   ],
   "source": [
    "ci_tdist(nobs(meanWaits.t)-1, average(meanWaits.t), stdev(meanWaits.t), 0.05)"
   ]
  },
  {
   "cell_type": "markdown",
   "metadata": {},
   "source": [
    "Average waiting time according to M/M/1 formulas. In stationnary regime, the mean waiting time is\n",
    "$$ \\overline{W} = \\frac{\\frac{\\rho}{\\mu}}{1-\\rho} = \\frac{\\rho}{\\mu-\\lambda}. $$"
   ]
  },
  {
   "cell_type": "code",
   "execution_count": 28,
   "metadata": {
    "collapsed": false
   },
   "outputs": [
    {
     "data": {
      "text/plain": [
       "9.499999999999991"
      ]
     },
     "execution_count": 28,
     "metadata": {},
     "output_type": "execute_result"
    }
   ],
   "source": [
    "w = (ρ/μ)/(1-ρ)"
   ]
  },
  {
   "cell_type": "code",
   "execution_count": 29,
   "metadata": {
    "collapsed": false
   },
   "outputs": [
    {
     "data": {
      "text/plain": [
       "735748.6102991527"
      ]
     },
     "execution_count": 29,
     "metadata": {},
     "output_type": "execute_result"
    }
   ],
   "source": [
    "covariance = cov(totWaits.obs, nObs.obs)"
   ]
  },
  {
   "cell_type": "code",
   "execution_count": 30,
   "metadata": {
    "collapsed": false
   },
   "outputs": [
    {
     "data": {
      "text/plain": [
       "0.5958331591255"
      ]
     },
     "execution_count": 30,
     "metadata": {},
     "output_type": "execute_result"
    }
   ],
   "source": [
    "cor(totWaits.obs, nObs.obs)"
   ]
  },
  {
   "cell_type": "code",
   "execution_count": 31,
   "metadata": {
    "collapsed": false
   },
   "outputs": [
    {
     "data": {
      "text/plain": [
       "ci_ratio (generic function with 1 method)"
      ]
     },
     "execution_count": 31,
     "metadata": {},
     "output_type": "execute_result"
    }
   ],
   "source": [
    "function ci_ratio(x, y::TallyStore, α::Float64)\n",
    "    n = nobs(x.t)\n",
    "    z = quantile(TDist(n-1), 1-α/2)\n",
    "\n",
    "    μ1 = average(x.t)\n",
    "    μ2 = average(y.t)\n",
    "    # Ratio estimator\n",
    "    if (μ2 == 0)\n",
    "        ν = NaN\n",
    "    else\n",
    "        ν = μ1/μ2\n",
    "    end\n",
    "    \n",
    "    # Variance of the ratio\n",
    "    σ = sqrt((variance(x.t) + variance(y.t)*ν*ν - 2*cov(x.obs, y.obs)*ν)/(μ2*μ2))\n",
    "\n",
    "    w = z*σ/sqrt(n)\n",
    "\n",
    "    # Lower bound\n",
    "    l = ν - w\n",
    "    # Upper bound\n",
    "    u = ν + w\n",
    "    \n",
    "    return ν, l, u\n",
    "end"
   ]
  },
  {
   "cell_type": "code",
   "execution_count": 32,
   "metadata": {
    "collapsed": false
   },
   "outputs": [
    {
     "data": {
      "text/plain": [
       "(9.963221035968019,8.895957541375745,11.030484530560292)"
      ]
     },
     "execution_count": 32,
     "metadata": {},
     "output_type": "execute_result"
    }
   ],
   "source": [
    "ci_ratio(totWaits, nObs, 0.05)"
   ]
  },
  {
   "cell_type": "code",
   "execution_count": null,
   "metadata": {
    "collapsed": true
   },
   "outputs": [],
   "source": []
  }
 ],
 "metadata": {
  "kernelspec": {
   "display_name": "Julia 0.5.0",
   "language": "julia",
   "name": "julia-0.5"
  },
  "language_info": {
   "file_extension": ".jl",
   "mimetype": "application/julia",
   "name": "julia",
   "version": "0.5.0"
  }
 },
 "nbformat": 4,
 "nbformat_minor": 0
}
