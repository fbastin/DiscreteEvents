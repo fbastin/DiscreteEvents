{
 "cells": [
  {
   "cell_type": "markdown",
   "metadata": {},
   "source": [
    "## Lindley recurrence"
   ]
  },
  {
   "cell_type": "markdown",
   "metadata": {},
   "source": [
    "Add the unofficial RandomStreams package if needed"
   ]
  },
  {
   "cell_type": "code",
   "execution_count": 1,
   "metadata": {
    "collapsed": false
   },
   "outputs": [
    {
     "name": "stderr",
     "output_type": "stream",
     "text": [
      "INFO: Cloning RandomStreams from https://github.com/prsteele/RandomStreams.jl\n",
      "INFO: Computing changes...\n",
      "INFO: Updating METADATA...\n",
      "INFO: Updating RandomStreams master...\n",
      "INFO: Computing changes...\n",
      "INFO: No packages to install, update or remove\n"
     ]
    }
   ],
   "source": [
    "Pkg.clone(\"https://github.com/prsteele/RandomStreams.jl\")\n",
    "Pkg.update()"
   ]
  },
  {
   "cell_type": "code",
   "execution_count": 1,
   "metadata": {
    "collapsed": false
   },
   "outputs": [],
   "source": [
    "using Distributions\n",
    "using RandomStreams  # provides the MRG32K3a generator along with random streams"
   ]
  },
  {
   "cell_type": "code",
   "execution_count": 2,
   "metadata": {
    "collapsed": false
   },
   "outputs": [
    {
     "name": "stderr",
     "output_type": "stream",
     "text": [
      "INFO: Updating METADATA...\n",
      "INFO: Updating cache of DataFrames...\n",
      "INFO: Updating cache of Rmath...\n",
      "INFO: Updating cache of DataArrays...\n",
      "INFO: Updating cache of Conda...\n",
      "INFO: Updating cache of Compat...\n",
      "INFO: Updating cache of PDMats...\n",
      "INFO: Updating cache of DataFrames...\n",
      "WARNING: Package RandomStreams: skipping update (dirty)...\n",
      "INFO: Computing changes...\n",
      "INFO: Upgrading Compat: v0.9.2 => v0.9.3\n",
      "INFO: Upgrading Conda: v0.3.2 => v0.4.0\n",
      "INFO: Upgrading DataArrays: v0.3.9 => v0.3.10\n",
      "INFO: Upgrading PDMats: v0.5.0 => v0.5.1\n",
      "INFO: Upgrading Rmath: v0.1.3 => v0.1.4\n",
      "INFO: Building Conda\n",
      "INFO: Building Rmath\n"
     ]
    }
   ],
   "source": [
    "Pkg.update()"
   ]
  },
  {
   "cell_type": "code",
   "execution_count": 3,
   "metadata": {
    "collapsed": false
   },
   "outputs": [
    {
     "data": {
      "text/plain": [
       "Full state of MRG32k3a generator:\n",
       "Cg = [12345,12345,12345,12345,12345,12345]\n",
       "Bg = [12345,12345,12345,12345,12345,12345]\n",
       "Ig = [12345,12345,12345,12345,12345,12345]"
      ]
     },
     "execution_count": 3,
     "metadata": {},
     "output_type": "execute_result"
    }
   ],
   "source": [
    "const SEED = 12345\n",
    "\n",
    "seeds = Array[[SEED, SEED, SEED, SEED, SEED, SEED]]\n",
    "gen = MRG32k3aGen(seeds[1])\n",
    "arrival_gen = next_stream(gen)"
   ]
  },
  {
   "cell_type": "markdown",
   "metadata": {},
   "source": [
    "- Cg is the current state of the generator\n",
    "- Bg is the first state of the substream\n",
    "- Ig is the first state of the stream"
   ]
  },
  {
   "cell_type": "code",
   "execution_count": 4,
   "metadata": {
    "collapsed": false
   },
   "outputs": [
    {
     "data": {
      "text/plain": [
       "Full state of MRG32k3a generator:\n",
       "Cg = [3692455944,1366884236,2968912127,335948734,4161675175,475798818]\n",
       "Bg = [3692455944,1366884236,2968912127,335948734,4161675175,475798818]\n",
       "Ig = [3692455944,1366884236,2968912127,335948734,4161675175,475798818]"
      ]
     },
     "execution_count": 4,
     "metadata": {},
     "output_type": "execute_result"
    }
   ],
   "source": [
    "service_gen = next_stream(gen)"
   ]
  },
  {
   "cell_type": "code",
   "execution_count": 5,
   "metadata": {
    "collapsed": false
   },
   "outputs": [
    {
     "data": {
      "text/plain": [
       "rand_dist (generic function with 1 method)"
      ]
     },
     "execution_count": 5,
     "metadata": {},
     "output_type": "execute_result"
    }
   ],
   "source": [
    "rand_dist(rng::MRG32k3a, Dist::Distribution) = quantile(Dist, rand(rng))"
   ]
  },
  {
   "cell_type": "markdown",
   "metadata": {},
   "source": [
    "Lindley recurrence:\n",
    "$$\n",
    " W_1 = 0,\\quad W_{i+1} = \\max(0,\\; W_i + S_i - A_{i+1}).\n",
    "$$\n"
   ]
  },
  {
   "cell_type": "code",
   "execution_count": 7,
   "metadata": {
    "collapsed": false
   },
   "outputs": [
    {
     "name": "stderr",
     "output_type": "stream",
     "text": [
      "WARNING: Method definition mean_wait() in module Main at In[6]:2 overwritten at In[7]:2.\n"
     ]
    },
    {
     "data": {
      "text/plain": [
       "mean_wait (generic function with 1 method)"
      ]
     },
     "execution_count": 7,
     "metadata": {},
     "output_type": "execute_result"
    }
   ],
   "source": [
    "function mean_wait()\n",
    "    N = 1000000 # Number of clients\n",
    "    Waits = Array(Float64, N)\n",
    "    Waits[1] = 0.0 # The first client does not wait.\n",
    "    lambda = 1.9   # arrival rate\n",
    "    mu = 2.0       # service rate\n",
    "    arrival = Exponential(1.0/lambda)\n",
    "    service = Exponential(1.0/mu)\n",
    "\n",
    "    for i in 2:N\n",
    "        Waits[i] = max(0, Waits[i-1]-rand_dist(arrival_gen, arrival)+rand_dist(service_gen, service))\n",
    "    end\n",
    "    \n",
    "    return Waits\n",
    "end"
   ]
  },
  {
   "cell_type": "code",
   "execution_count": 8,
   "metadata": {
    "collapsed": false
   },
   "outputs": [],
   "source": [
    "Waits = mean_wait();"
   ]
  },
  {
   "cell_type": "code",
   "execution_count": 9,
   "metadata": {
    "collapsed": false
   },
   "outputs": [
    {
     "data": {
      "text/plain": [
       "9.957419540675662"
      ]
     },
     "execution_count": 9,
     "metadata": {},
     "output_type": "execute_result"
    }
   ],
   "source": [
    "mean(Waits)"
   ]
  },
  {
   "cell_type": "code",
   "execution_count": 10,
   "metadata": {
    "collapsed": false
   },
   "outputs": [],
   "source": [
    "next_substream!(arrival_gen)"
   ]
  },
  {
   "cell_type": "code",
   "execution_count": 11,
   "metadata": {
    "collapsed": false
   },
   "outputs": [
    {
     "data": {
      "text/plain": [
       "Full state of MRG32k3a generator:\n",
       "Cg = [870504860,2641697727,884013853,339352413,2374306706,3651603887]\n",
       "Bg = [870504860,2641697727,884013853,339352413,2374306706,3651603887]\n",
       "Ig = [12345,12345,12345,12345,12345,12345]"
      ]
     },
     "execution_count": 11,
     "metadata": {},
     "output_type": "execute_result"
    }
   ],
   "source": [
    "arrival_gen\n"
   ]
  },
  {
   "cell_type": "code",
   "execution_count": 12,
   "metadata": {
    "collapsed": true
   },
   "outputs": [],
   "source": [
    "next_substream!(service_gen)"
   ]
  },
  {
   "cell_type": "code",
   "execution_count": 13,
   "metadata": {
    "collapsed": false
   },
   "outputs": [
    {
     "data": {
      "text/plain": [
       "Full state of MRG32k3a generator:\n",
       "Cg = [3119395571,2178405402,1065030501,3980307777,2117495919,1836828492]\n",
       "Bg = [3119395571,2178405402,1065030501,3980307777,2117495919,1836828492]\n",
       "Ig = [3692455944,1366884236,2968912127,335948734,4161675175,475798818]"
      ]
     },
     "execution_count": 13,
     "metadata": {},
     "output_type": "execute_result"
    }
   ],
   "source": [
    "service_gen"
   ]
  },
  {
   "cell_type": "code",
   "execution_count": 15,
   "metadata": {
    "collapsed": false
   },
   "outputs": [
    {
     "data": {
      "text/plain": [
       "0.4487765693750297"
      ]
     },
     "execution_count": 15,
     "metadata": {},
     "output_type": "execute_result"
    }
   ],
   "source": [
    "Waits = mean_wait()\n",
    "mean(Waits)"
   ]
  },
  {
   "cell_type": "code",
   "execution_count": 16,
   "metadata": {
    "collapsed": false
   },
   "outputs": [
    {
     "data": {
      "text/plain": [
       "Full state of MRG32k3a generator:\n",
       "Cg = [2826986986,2700790508,2240279461,1099791616,3966731335,486127084]\n",
       "Bg = [870504860,2641697727,884013853,339352413,2374306706,3651603887]\n",
       "Ig = [12345,12345,12345,12345,12345,12345]"
      ]
     },
     "execution_count": 16,
     "metadata": {},
     "output_type": "execute_result"
    }
   ],
   "source": [
    "arrival_gen"
   ]
  },
  {
   "cell_type": "code",
   "execution_count": 14,
   "metadata": {
    "collapsed": false
   },
   "outputs": [
    {
     "data": {
      "text/plain": [
       "100-element Array{Float64,1}:\n",
       " 0.0      \n",
       " 1.17113  \n",
       " 0.828511 \n",
       " 0.0      \n",
       " 0.694298 \n",
       " 0.653771 \n",
       " 0.150675 \n",
       " 0.0      \n",
       " 0.0      \n",
       " 0.0      \n",
       " 0.533166 \n",
       " 0.0      \n",
       " 0.265602 \n",
       " ⋮        \n",
       " 0.0      \n",
       " 0.0      \n",
       " 0.238497 \n",
       " 0.0530849\n",
       " 0.0      \n",
       " 0.0      \n",
       " 0.556536 \n",
       " 0.0      \n",
       " 0.160575 \n",
       " 0.0      \n",
       " 0.0      \n",
       " 0.0      "
      ]
     },
     "execution_count": 14,
     "metadata": {},
     "output_type": "execute_result"
    }
   ],
   "source": [
    "Waits"
   ]
  },
  {
   "cell_type": "code",
   "execution_count": null,
   "metadata": {
    "collapsed": true
   },
   "outputs": [],
   "source": []
  }
 ],
 "metadata": {
  "kernelspec": {
   "display_name": "Julia 0.4.6",
   "language": "julia",
   "name": "julia-0.4"
  },
  "language_info": {
   "file_extension": ".jl",
   "mimetype": "application/julia",
   "name": "julia",
   "version": "0.5.0"
  }
 },
 "nbformat": 4,
 "nbformat_minor": 0
}
