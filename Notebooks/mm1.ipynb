{
 "cells": [
  {
   "cell_type": "markdown",
   "metadata": {},
   "source": [
    "## Simulation of a M/M/1 queue using processes"
   ]
  },
  {
   "cell_type": "markdown",
   "metadata": {
    "collapsed": false
   },
   "source": [
    "This simulation is adapted from the Bank Renege example in Simjulia documentation: http://simjuliajl.readthedocs.io/en/stable/examples/1_bank_renege.html"
   ]
  },
  {
   "cell_type": "code",
   "execution_count": 1,
   "metadata": {
    "collapsed": false
   },
   "outputs": [],
   "source": [
    "using SimJulia\n",
    "using Distributions\n",
    "using RandomStreams"
   ]
  },
  {
   "cell_type": "markdown",
   "metadata": {
    "collapsed": false
   },
   "source": [
    "Let's first simulate a fixed number of clients."
   ]
  },
  {
   "cell_type": "code",
   "execution_count": 4,
   "metadata": {
    "collapsed": false
   },
   "outputs": [
    {
     "name": "stderr",
     "output_type": "stream",
     "text": [
      "WARNING: Method definition source(SimJulia.Environment, Int64, Float64, SimJulia.Resource) in module Main at In[2]:7 overwritten at In[4]:7.\n",
      "WARNING: Method definition customer(SimJulia.Environment, Int64, SimJulia.Resource, Float64) in module Main at In[2]:16 overwritten at In[4]:16.\n"
     ]
    },
    {
     "data": {
      "text/plain": [
       "customer (generic function with 1 method)"
      ]
     },
     "execution_count": 4,
     "metadata": {},
     "output_type": "execute_result"
    }
   ],
   "source": [
    "const RANDOM_SEED = 200\n",
    "const NEW_CUSTOMERS = 5  # Total number of customers\n",
    "const INTERVAL_CUSTOMERS = 2.0  # Generate new customers roughly every x seconds\n",
    "const MEAN_SERVICE = 1.9\n",
    "\n",
    "function source(env::Environment, number::Int, interval::Float64, counter::Resource)\n",
    "    d = Exponential(interval)\n",
    "    for i in 1:number\n",
    "        yield(Timeout(env, rand(d)))\n",
    "        Process(env, customer, i, counter, MEAN_SERVICE)\n",
    "    end\n",
    "end\n",
    "\n",
    "function customer(env::Environment, idx::Int, counter::Resource, time_in_system::Float64)\n",
    "    # Record the arrival time in the system\n",
    "    arrive = now(env)\n",
    "    println(\"$arrive: arrival of customer $idx\")\n",
    "    yield(Request(counter))\n",
    "    # The simulation clock now contains the time when the client goes to the server.\n",
    "    wait = now(env) - arrive\n",
    "    # Record the waiting time\n",
    "    waits[idx] = wait\n",
    "    println(\"$(now(env)): customer $idx has waited $wait\")\n",
    "    yield(Timeout(env, rand(Exponential(time_in_system))))\n",
    "    println(\"$(now(env)): customer $idx: finished\")\n",
    "    yield(Release(counter))\n",
    "end\n"
   ]
  },
  {
   "cell_type": "code",
   "execution_count": 5,
   "metadata": {
    "collapsed": false
   },
   "outputs": [
    {
     "name": "stdout",
     "output_type": "stream",
     "text": [
      "M/M/1 with processes\n"
     ]
    },
    {
     "data": {
      "text/plain": [
       "SimJulia.Environment(0.0,Base.Collections.PriorityQueue{SimJulia.BaseEvent,SimJulia.EventKey,Base.Order.ForwardOrdering}(),0,0,Nullable{SimJulia.Process}())"
      ]
     },
     "execution_count": 5,
     "metadata": {},
     "output_type": "execute_result"
    }
   ],
   "source": [
    "# Setup and start the simulation\n",
    "println(\"M/M/1 with processes\")\n",
    "waits = Array(Float64, NEW_CUSTOMERS)\n",
    "srand(RANDOM_SEED)\n",
    "env = Environment()"
   ]
  },
  {
   "cell_type": "code",
   "execution_count": 6,
   "metadata": {
    "collapsed": false,
    "scrolled": true
   },
   "outputs": [
    {
     "name": "stdout",
     "output_type": "stream",
     "text": [
      "1.2050403125807367: arrival of customer 1\n",
      "1.2050403125807367: customer 1 has waited 0.0\n",
      "1.4181503510677775: arrival of customer 2\n",
      "1.7579446126823792: arrival of customer 3\n",
      "3.3655840436959545: arrival of customer 4\n",
      "3.5932863161203605: customer 1: finished\n",
      "3.5932863161203605: customer 2 has waited 2.1751359650525828\n",
      "3.6479776093878162: customer 2: finished\n",
      "3.6479776093878162: customer 3 has waited 1.890032996705437\n",
      "4.429115262189869: customer 3: finished\n",
      "4.429115262189869: customer 4 has waited 1.0635312184939147\n",
      "6.231843986748496: arrival of customer 5\n",
      "11.115163310168295: customer 4: finished\n",
      "11.115163310168295: customer 5 has waited 4.8833193234198\n",
      "14.890451525141378: customer 5: finished\n"
     ]
    }
   ],
   "source": [
    "# Start processes and run\n",
    "counter = Resource(env, 1)\n",
    "Process(env, source, NEW_CUSTOMERS, INTERVAL_CUSTOMERS, counter)\n",
    "run(env)"
   ]
  },
  {
   "cell_type": "markdown",
   "metadata": {},
   "source": [
    "We can compute the mean waiting time by"
   ]
  },
  {
   "cell_type": "code",
   "execution_count": 7,
   "metadata": {
    "collapsed": false
   },
   "outputs": [
    {
     "data": {
      "text/plain": [
       "2.002403900734347"
      ]
     },
     "execution_count": 7,
     "metadata": {},
     "output_type": "execute_result"
    }
   ],
   "source": [
    "mean(waits)"
   ]
  },
  {
   "cell_type": "markdown",
   "metadata": {
    "collapsed": true
   },
   "source": [
    "However, most of the time, we do not know the number of client. We first set the end of simulation event by specifying an time horizon when running the simulation."
   ]
  },
  {
   "cell_type": "code",
   "execution_count": 8,
   "metadata": {
    "collapsed": false
   },
   "outputs": [
    {
     "name": "stdout",
     "output_type": "stream",
     "text": [
      "16.75032685090032: arrival of customer 1\n",
      "16.75032685090032: customer 1 has waited 0.0\n",
      "18.006294710192993: arrival of customer 2\n",
      "18.19956590875879: customer 1: finished\n",
      "18.19956590875879: customer 2 has waited 0.193271198565796\n",
      "19.03895740537856: customer 2: finished\n"
     ]
    }
   ],
   "source": [
    "Process(env, source, NEW_CUSTOMERS, INTERVAL_CUSTOMERS, counter)\n",
    "run(env, 5.0)"
   ]
  },
  {
   "cell_type": "markdown",
   "metadata": {},
   "source": [
    "We observe however that the simulation time has not been reset to 0. A simple solution is to create a new simulation environment. This also requires to set the resource again."
   ]
  },
  {
   "cell_type": "code",
   "execution_count": 9,
   "metadata": {
    "collapsed": false
   },
   "outputs": [
    {
     "name": "stdout",
     "output_type": "stream",
     "text": [
      "3.560848405790721: arrival of customer 1\n",
      "3.560848405790721: customer 1 has waited 0.0\n",
      "3.96822071626369: customer 1: finished\n"
     ]
    }
   ],
   "source": [
    "env = Environment()\n",
    "counter = Resource(env, 1)\n",
    "Process(env, source, NEW_CUSTOMERS, INTERVAL_CUSTOMERS, counter)\n",
    "run(env, 5.0)"
   ]
  },
  {
   "cell_type": "markdown",
   "metadata": {
    "collapsed": true
   },
   "source": [
    "The random draws are different but we can produce the same as previously by using the same seed, i.e. the same initial state."
   ]
  },
  {
   "cell_type": "code",
   "execution_count": 10,
   "metadata": {
    "collapsed": false
   },
   "outputs": [
    {
     "name": "stdout",
     "output_type": "stream",
     "text": [
      "1.2050403125807367: arrival of customer 1\n",
      "1.2050403125807367: customer 1 has waited 0.0\n",
      "1.4181503510677775: arrival of customer 2\n",
      "1.7579446126823792: arrival of customer 3\n",
      "3.3655840436959545: arrival of customer 4\n",
      "3.5932863161203605: customer 1: finished\n",
      "3.5932863161203605: customer 2 has waited 2.1751359650525828\n",
      "3.6479776093878162: customer 2: finished\n",
      "3.6479776093878162: customer 3 has waited 1.890032996705437\n",
      "4.429115262189869: customer 3: finished\n",
      "4.429115262189869: customer 4 has waited 1.0635312184939147\n"
     ]
    }
   ],
   "source": [
    "srand(RANDOM_SEED)\n",
    "env = Environment()\n",
    "counter = Resource(env, 1)\n",
    "Process(env, source, NEW_CUSTOMERS, INTERVAL_CUSTOMERS, counter)\n",
    "run(env, 5.0)"
   ]
  },
  {
   "cell_type": "markdown",
   "metadata": {},
   "source": [
    "However, a possible issue is that Customer 4 never finishes his service. If we want to allow the customer to complete his experience, we have to modify the source function. We can circumvent it by redefining the source function so that no customer is generated after a horizon limit, but we do not put a limit when calling the run function."
   ]
  },
  {
   "cell_type": "code",
   "execution_count": 11,
   "metadata": {
    "collapsed": false
   },
   "outputs": [
    {
     "data": {
      "text/plain": [
       "source! (generic function with 1 method)"
      ]
     },
     "execution_count": 11,
     "metadata": {},
     "output_type": "execute_result"
    }
   ],
   "source": [
    "function source!(env::Environment, number::Int, interval::Float64, counter::Resource, limit::Float64, nserved::Array{Int64,1})\n",
    "    nserved[1] = 0\n",
    "    d = Exponential(interval)\n",
    "    for i in 1:number\n",
    "        yield(Timeout(env, rand(d)))\n",
    "        if (now(env) > limit) break end\n",
    "        Process(env, customer, i, counter, MEAN_SERVICE)\n",
    "        nserved[1] += 1\n",
    "    end\n",
    "end"
   ]
  },
  {
   "cell_type": "code",
   "execution_count": 12,
   "metadata": {
    "collapsed": false
   },
   "outputs": [
    {
     "name": "stdout",
     "output_type": "stream",
     "text": [
      "1.2050403125807367: arrival of customer 1\n",
      "1.2050403125807367: customer 1 has waited 0.0\n",
      "1.4181503510677775: arrival of customer 2\n",
      "1.7579446126823792: arrival of customer 3\n",
      "3.3655840436959545: arrival of customer 4\n",
      "3.5932863161203605: customer 1: finished\n",
      "3.5932863161203605: customer 2 has waited 2.1751359650525828\n",
      "3.6479776093878162: customer 2: finished\n",
      "3.6479776093878162: customer 3 has waited 1.890032996705437\n",
      "4.429115262189869: customer 3: finished\n",
      "4.429115262189869: customer 4 has waited 1.0635312184939147\n",
      "11.115163310168295: customer 4: finished\n"
     ]
    }
   ],
   "source": [
    "nserved = [ 0 ]\n",
    "srand(RANDOM_SEED)\n",
    "env = Environment()\n",
    "counter = Resource(env, 1)\n",
    "Process(env, source!, NEW_CUSTOMERS, INTERVAL_CUSTOMERS, counter, 5.0, nserved)\n",
    "run(env)"
   ]
  },
  {
   "cell_type": "markdown",
   "metadata": {},
   "source": [
    "This raises the question: should we flush the entities in the system at the end of the horizon of allow the entities in the system to complete their process? It depends on the context!\n",
    "\n",
    "In our case, the mean waiting time is"
   ]
  },
  {
   "cell_type": "code",
   "execution_count": 13,
   "metadata": {
    "collapsed": false
   },
   "outputs": [
    {
     "data": {
      "text/plain": [
       "1.2821750450629836"
      ]
     },
     "execution_count": 13,
     "metadata": {},
     "output_type": "execute_result"
    }
   ],
   "source": [
    "mean(waits[1:nserved[1]])"
   ]
  },
  {
   "cell_type": "code",
   "execution_count": 14,
   "metadata": {
    "collapsed": false
   },
   "outputs": [
    {
     "data": {
      "text/plain": [
       "new_source! (generic function with 1 method)"
      ]
     },
     "execution_count": 14,
     "metadata": {},
     "output_type": "execute_result"
    }
   ],
   "source": [
    "function new_source!(env::Environment, interval::Float64, counter::Resource, limit::Float64, nserved::Array{Int64,1})\n",
    "    nserved[1] = 0\n",
    "    i = 0\n",
    "    d = Exponential(interval)\n",
    "    while (true)\n",
    "        yield(Timeout(env, rand(d)))\n",
    "        if (now(env) > limit) break end\n",
    "        i += 1\n",
    "        Process(env, new_customer, i, counter, MEAN_SERVICE, new_waits)\n",
    "    end\n",
    "    nserved[1] = i\n",
    " end"
   ]
  },
  {
   "cell_type": "code",
   "execution_count": 15,
   "metadata": {
    "collapsed": false
   },
   "outputs": [
    {
     "data": {
      "text/plain": [
       "new_customer (generic function with 1 method)"
      ]
     },
     "execution_count": 15,
     "metadata": {},
     "output_type": "execute_result"
    }
   ],
   "source": [
    "function new_customer(env::Environment, idx::Int, counter::Resource, time_in_system::Float64, waits::Array{Float64,1})\n",
    "    # Record the arrival time in the system\n",
    "    arrive = now(env)\n",
    "    println(\"$arrive: arrival of customer $idx\")\n",
    "    yield(Request(counter))\n",
    "    # The simulation clock now contains the time when the client goes to the server.\n",
    "    wait = now(env) - arrive\n",
    "    # Record the waiting time\n",
    "    waits = push!(waits, wait)\n",
    "    println(\"$(now(env)): customer $idx has waited $wait\")\n",
    "    yield(Timeout(env, rand(Exponential(time_in_system))))\n",
    "    println(\"$(now(env)): customer $idx: finished\")\n",
    "    yield(Release(counter))\n",
    "end"
   ]
  },
  {
   "cell_type": "code",
   "execution_count": 16,
   "metadata": {
    "collapsed": false
   },
   "outputs": [
    {
     "name": "stdout",
     "output_type": "stream",
     "text": [
      "1.2050403125807367: arrival of customer 1\n",
      "1.2050403125807367: customer 1 has waited 0.0\n",
      "1.4181503510677775: arrival of customer 2\n",
      "1.7579446126823792: arrival of customer 3\n",
      "3.3655840436959545: arrival of customer 4\n",
      "3.5932863161203605: customer 1: finished\n",
      "3.5932863161203605: customer 2 has waited 2.1751359650525828\n",
      "3.6479776093878162: customer 2: finished\n",
      "3.6479776093878162: customer 3 has waited 1.890032996705437\n",
      "4.429115262189869: customer 3: finished\n",
      "4.429115262189869: customer 4 has waited 1.0635312184939147\n",
      "11.115163310168295: customer 4: finished\n"
     ]
    }
   ],
   "source": [
    "nserved = [ 0 ]\n",
    "srand(RANDOM_SEED)\n",
    "env = Environment()\n",
    "counter = Resource(env, 1)\n",
    "new_waits = Float64[]\n",
    "Process(env, new_source!, INTERVAL_CUSTOMERS, counter, 5.0, nserved)\n",
    "run(env)"
   ]
  },
  {
   "cell_type": "code",
   "execution_count": 17,
   "metadata": {
    "collapsed": false
   },
   "outputs": [
    {
     "data": {
      "text/plain": [
       "4-element Array{Float64,1}:\n",
       " 0.0    \n",
       " 2.17514\n",
       " 1.89003\n",
       " 1.06353"
      ]
     },
     "execution_count": 17,
     "metadata": {},
     "output_type": "execute_result"
    }
   ],
   "source": [
    "new_waits"
   ]
  },
  {
   "cell_type": "code",
   "execution_count": 18,
   "metadata": {
    "collapsed": false
   },
   "outputs": [
    {
     "data": {
      "text/plain": [
       "4"
      ]
     },
     "execution_count": 18,
     "metadata": {},
     "output_type": "execute_result"
    }
   ],
   "source": [
    "nserved[1]"
   ]
  },
  {
   "cell_type": "code",
   "execution_count": null,
   "metadata": {
    "collapsed": true
   },
   "outputs": [],
   "source": []
  }
 ],
 "metadata": {
  "kernelspec": {
   "display_name": "Julia 0.5.0",
   "language": "julia",
   "name": "julia-0.5"
  },
  "language_info": {
   "file_extension": ".jl",
   "mimetype": "application/julia",
   "name": "julia",
   "version": "0.5.0"
  }
 },
 "nbformat": 4,
 "nbformat_minor": 0
}
