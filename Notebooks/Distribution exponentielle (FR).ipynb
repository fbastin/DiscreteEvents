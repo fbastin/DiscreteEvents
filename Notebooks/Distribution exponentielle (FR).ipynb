{
 "cells": [
  {
   "cell_type": "code",
   "execution_count": 8,
   "metadata": {
    "collapsed": false
   },
   "outputs": [
    {
     "name": "stderr",
     "output_type": "stream",
     "text": [
      "INFO: Recompiling stale cache file /home/bastin/.julia/lib/v0.5/Distributions.ji for module Distributions.\n"
     ]
    }
   ],
   "source": [
    "# Un nombre important de distributions aléatoires sont disponibles dans la librairie Distributions\n",
    "using Distributions"
   ]
  },
  {
   "cell_type": "markdown",
   "metadata": {},
   "source": [
    "La libraire vient avec une documentation assez complète, à l'adresse http://distributionsjl.readthedocs.io/en/latest/index.html"
   ]
  },
  {
   "cell_type": "markdown",
   "metadata": {},
   "source": [
    "## Loi exponentielle"
   ]
  },
  {
   "cell_type": "markdown",
   "metadata": {},
   "source": [
    "Nous nous intéressons en particulier à la distribution exponentielle, fréquemment utilisée en théorie des files d'attente pour représenter le temps entre deux arrivées, dont les propriétés sont décrites sur Wikipedia: https://en.wikipedia.org/wiki/Exponential_distribution\n",
    "\n",
    "Sa fonction de densité est\n",
    "$$ f(x) = \\lambda e^{-\\lambda x} $$\n",
    "avec $0 < x < \\infty$ ($f(x) = 0$ pour $x \\leq 0$).\n",
    "\n",
    "Le paramètre $\\lambda$ est un paramètre d'échelle. Une paramétrisation alternative est de choice $\\theta = 1/\\lambda$, de sorte que le fonction de densité devient\n",
    "$$ f(x) = \\frac{1}{\\theta} e^{-\\frac{1}{\\theta} x} $$\n",
    "C'est cette paramétrisation qui est retenue en Julia, mais nous utiliserons habituellement la première paramétrisation."
   ]
  },
  {
   "cell_type": "code",
   "execution_count": 17,
   "metadata": {
    "collapsed": false
   },
   "outputs": [
    {
     "name": "stderr",
     "output_type": "stream",
     "text": [
      "INFO: Nothing to be done\n",
      "INFO: METADATA is out-of-date — you may not have the latest version of PyPlot\n",
      "INFO: Use `Pkg.update()` to get the latest versions of your packages\n"
     ]
    }
   ],
   "source": [
    "Pkg.add(\"PyPlot\")"
   ]
  },
  {
   "cell_type": "code",
   "execution_count": 2,
   "metadata": {
    "collapsed": false
   },
   "outputs": [
    {
     "name": "stderr",
     "output_type": "stream",
     "text": [
      "INFO: Precompiling module SHA.\n",
      "INFO: Recompiling stale cache file /home/bastin/.julia/lib/v0.5/Conda.ji for module Conda.\n",
      "INFO: Recompiling stale cache file /home/bastin/.julia/lib/v0.5/PyCall.ji for module PyCall.\n",
      "INFO: Recompiling stale cache file /home/bastin/.julia/lib/v0.5/PyPlot.ji for module PyPlot.\n"
     ]
    },
    {
     "data": {
      "image/png": "[encoded data removed]",
      "text/plain": [
       "PyPlot.Figure(PyObject <matplotlib.figure.Figure object at 0x7f6bc2770ac8>)"
      ]
     },
     "metadata": {},
     "output_type": "display_data"
    }
   ],
   "source": [
    "using PyPlot\n",
    "x = linspace(0,10,1000); y = 0.5*exp(-0.5*x)\n",
    "plot(x, y, color=\"red\", linewidth=1.0, linestyle=\"--\");"
   ]
  },
  {
   "cell_type": "markdown",
   "metadata": {},
   "source": [
    "On peut créer un objet de type exponentiel avec la fonction Exponential."
   ]
  },
  {
   "cell_type": "code",
   "execution_count": 9,
   "metadata": {
    "collapsed": false
   },
   "outputs": [
    {
     "data": {
      "text/plain": [
       "Distributions.Exponential{Float64}(θ=0.5)"
      ]
     },
     "execution_count": 9,
     "metadata": {},
     "output_type": "execute_result"
    }
   ],
   "source": [
    "d = Exponential() # crée une distribution exponentielle de paramètre 1\n",
    "θ = 0.5  # le nom de variable peut être défini en utilisant le code LaTeX suivi de tabulation\n",
    "d = Exponential(θ) # crée une distribution exponentielle de paramètre θ"
   ]
  },
  {
   "cell_type": "markdown",
   "metadata": {},
   "source": [
    "On peut accéder aux principales caractéristiques de la distribution avec les fonctions proposées dans la librairie. Commençons par la moyenne, donnée par $1/\\lambda$ ou $\\theta$."
   ]
  },
  {
   "cell_type": "code",
   "execution_count": 10,
   "metadata": {
    "collapsed": false
   },
   "outputs": [
    {
     "data": {
      "text/plain": [
       "0.5"
      ]
     },
     "execution_count": 10,
     "metadata": {},
     "output_type": "execute_result"
    }
   ],
   "source": [
    "mean(d)"
   ]
  },
  {
   "cell_type": "markdown",
   "metadata": {},
   "source": [
    "De même, la médiane est donnée par $\\frac{1}{\\lambda}\\ln 2$."
   ]
  },
  {
   "cell_type": "code",
   "execution_count": 11,
   "metadata": {
    "collapsed": false
   },
   "outputs": [
    {
     "data": {
      "text/plain": [
       "0.34657359027997264"
      ]
     },
     "execution_count": 11,
     "metadata": {},
     "output_type": "execute_result"
    }
   ],
   "source": [
    "median(d)"
   ]
  },
  {
   "cell_type": "markdown",
   "metadata": {
    "collapsed": true
   },
   "source": [
    "La distribution peut être évaluée en $x$ avec la fonction pdf."
   ]
  },
  {
   "cell_type": "code",
   "execution_count": 12,
   "metadata": {
    "collapsed": false
   },
   "outputs": [
    {
     "data": {
      "text/plain": [
       "0.2706705664732254"
      ]
     },
     "execution_count": 12,
     "metadata": {},
     "output_type": "execute_result"
    }
   ],
   "source": [
    "pdf(d, 1.0)"
   ]
  },
  {
   "cell_type": "code",
   "execution_count": 13,
   "metadata": {
    "collapsed": false
   },
   "outputs": [
    {
     "data": {
      "text/plain": [
       "0.0"
      ]
     },
     "execution_count": 13,
     "metadata": {},
     "output_type": "execute_result"
    }
   ],
   "source": [
    "pdf(d, -1.0)"
   ]
  },
  {
   "cell_type": "markdown",
   "metadata": {},
   "source": [
    "La fonction de répartition $F_X(x) = P[X \\leq x]$ vaut $\\int_0^x \\lambda e^{-\\lambda t} dt = 1 - e^{-\\lambda x}$, et est représentée par la fonction cdf (cumulative distribution function)."
   ]
  },
  {
   "cell_type": "code",
   "execution_count": 14,
   "metadata": {
    "collapsed": false
   },
   "outputs": [
    {
     "data": {
      "text/plain": [
       "0.8646647167633873"
      ]
     },
     "execution_count": 14,
     "metadata": {},
     "output_type": "execute_result"
    }
   ],
   "source": [
    "cdf(d, 1.0)"
   ]
  },
  {
   "cell_type": "markdown",
   "metadata": {},
   "source": [
    "Le quantile $\\alpha$ peut être obtenu avec la fonction quantile. Ceci revient à calculer l'inverse de la fonction de répartition: $x = F^{-1}(\\alpha)$, avec\n",
    "$$\n",
    "F^{-1}(\\alpha) = \\min \\lbrace x \\mbox{ t.q. } F (x)  \\geq \\alpha \\rbrace.\n",
    "$$\n"
   ]
  },
  {
   "cell_type": "code",
   "execution_count": 15,
   "metadata": {
    "collapsed": false
   },
   "outputs": [
    {
     "data": {
      "text/plain": [
       "1.0"
      ]
     },
     "execution_count": 15,
     "metadata": {},
     "output_type": "execute_result"
    }
   ],
   "source": [
    "quantile(d, cdf(d, 1.0))"
   ]
  },
  {
   "cell_type": "markdown",
   "metadata": {},
   "source": [
    "Il s'agit de la seule loi continue qui jouit de la propriété sans mémoire:\n",
    "$$\n",
    " P[X > t + x \\mid X > t]\n",
    "    = {P[X > t+x]\\over P[X > t]} \n",
    "    = {e^{-\\lambda(t+x)}\\over e^{-\\lambda t}} \n",
    "    = e^{-\\lambda x} = P[X > x].\n",
    "$$\n",
    "Cette propriété simplifie beaucoup l'analyse mathématique\n",
    "et l'explique la grande popularité de la loi exponentielle."
   ]
  },
  {
   "cell_type": "markdown",
   "metadata": {},
   "source": [
    "### Estimateur de maximum de vraisemblance"
   ]
  },
  {
   "cell_type": "markdown",
   "metadata": {},
   "source": [
    "Étant donné un ensemble de $N$ observations $\\lbrace x_1, x_2,\\ldots, x_N \\rbrace$, l'estimateur de maximum de vraisemblance $\\hat{\\lambda}$ de $\\lambda$ est simplement $\\hat{\\lambda} = \\frac{N}{\\sum_{i=1}^N x_i}$."
   ]
  },
  {
   "cell_type": "markdown",
   "metadata": {},
   "source": [
    "## Processus de Poisson"
   ]
  },
  {
   "cell_type": "markdown",
   "metadata": {},
   "source": [
    "La distribution exponentielle est intimement reliée à la distribution (discrète) de Poisson, dont la masse de probabilité est\n",
    "$$\n",
    " P[X=x] = {\\lambda^x e^{-\\lambda} \\over x!} \n",
    "                   \\mbox{ pour } x=0,1,2,\\dots.\n",
    "$$"
   ]
  },
  {
   "cell_type": "markdown",
   "metadata": {},
   "source": [
    "Un processus stochastique est une famille $\\{{Y_t},\\, t\\in I\\}$ de variables aléatoires\n",
    "définies sur un même espace de probabilité.\n",
    "L'indice ${t}$ est souvent interprété comme le temps.\n",
    "Le processus est en temps continu si $I$ est continu (e.g., $I = [0,\\infty)$), et en temps discret si $I$ est discret (e.g., $I = \\{0, 1, 2, \\dots\\}$).\n",
    "Lorsque $t$ est continu, on note souvent $Y_t$ par $Y(t)$.\n",
    "On supposera ici que $Y_t$ prend ses valeurs dans $\\mathbb{R}^d$."
   ]
  },
  {
   "cell_type": "markdown",
   "metadata": {},
   "source": [
    "Un processus de comptage est un processus en temps continu $\\{{N(t)},\\, t\\ge 0\\}$, à valeurs dans $\\{0,1,2,\\dots\\}$, et dont les trajectoires sont non décroissantes et continues à droite."
   ]
  },
  {
   "cell_type": "markdown",
   "metadata": {},
   "source": [
    "Note: Une fonction $f$ est continue à droite en un point $a$ si $\\lim_{x \\rightarrow a, x > a} f(x) = f(a)$."
   ]
  },
  {
   "cell_type": "markdown",
   "metadata": {},
   "source": [
    "Habituellement, $N(0)=0$, et les instants de saut\n",
    "$0 < T_1\\le T_2\\le \\ldots\\le {T_j} \\le \\ldots$ \n",
    "s'appellent les instants d'arrivées.\n",
    "Ainsi, ${N(t)}$ représente le nombre d'arrivées durant $[0,t]$, on\n",
    "note ${A_j} = T_j - T_{j-1}$.\n",
    "Si les $A_j$ sont des v.a. i.i.d., on a un processus de renouvellement."
   ]
  },
  {
   "cell_type": "markdown",
   "metadata": {},
   "source": [
    "Nous avons un processus de Poisson si $N(0)=0$ et\n",
    "- les arrivées se font une à une (la probabilité de 2 arrivées simultanées est nulle);\n",
    "- pour $s, t \\ge 0$, la variable aléatoire $N(t+s) - N(t)$ est indépendente de\n",
    "  $\\{N(u),\\, u\\le t\\}$ (i.e., elle ne dépend pas de l'histoire passée)."
   ]
  },
  {
   "cell_type": "markdown",
   "metadata": {
    "collapsed": true
   },
   "source": [
    "Posons ${\\Lambda}(t) := E[N(t)]$.\n",
    "Supposons que $\\Lambda(t)$ est continue partout, et dérivable sauf possiblement en un nombre fini de points sur tout intervalle fini. Alors\n",
    "- $\\lambda(t) = \\Lambda'(t)$ est la fonction de taux du\n",
    "processus (aux points où la dérivée existe);\n",
    "- $\\Lambda(t) = \\int_0^t \\lambda(s)ds$ est la fonction de taux cumulé."
   ]
  },
  {
   "cell_type": "markdown",
   "metadata": {},
   "source": [
    "Interprétation: pour un petit $\\epsilon > 0$, la probabilité\n",
    "d'un saut du processus dans l'intervalle de temps $(t, t+\\epsilon]$ est \n",
    "$$\n",
    "P[N(t+\\epsilon)-N(t) = 1] \\approx 1-P[N(t+\\epsilon)-N(t) = 0]\n",
    " \\approx E[N(t+\\epsilon)] - E[N(t)] \\approx \\lambda(t)\\epsilon\n",
    "$$\n",
    "et la probabilité de plus d'un saut est $o(\\epsilon)$.\n"
   ]
  },
  {
   "cell_type": "markdown",
   "metadata": {},
   "source": [
    "Un processus de Poisson est dit stationnaire si $\\lambda(t) = {\\lambda} > 0$ pour tout $t\\ge 0$. Si $\\lambda=1$, on a un processus de Poisson standard (et donc\n",
    "$\\Lambda(t) = t$)."
   ]
  },
  {
   "cell_type": "markdown",
   "metadata": {},
   "source": [
    "Proposition\n",
    "\n",
    "Si $\\{N(t),\\,t\\ge 0\\}$ est un processus de Poisson et \n",
    "$t_2 > t_1 \\ge 0$, alors $N(t_2) - N(t_1)$ suit la \n",
    "loi de Poisson de moyenne \n",
    "$$\n",
    "  \\Lambda(t_2) - \\Lambda(t_1) = \\int_{t_1}^{t_2} \\lambda(t)dt.\n",
    "$$\n",
    "Dans le cas stationnaire, la moyenne est $(t_2-t_1)\\lambda$."
   ]
  },
  {
   "cell_type": "markdown",
   "metadata": {},
   "source": [
    "### Proposition\n",
    "\n",
    "Un processus de comptage $\\{N(t),\\, t\\ge 0\\}$, avec $N(0)=0$, \n",
    "est un processus de Poisson stationnaire de taux $\\lambda$ ssi\n",
    "les variables aléatoires $A_1,A_2,\\dots$ sont i.i.d. exponentielles de paramètre $\\lambda$."
   ]
  },
  {
   "cell_type": "markdown",
   "metadata": {},
   "source": [
    "Dans le cas stationnaire, on peut donc générer les sauts en générant des exponentielles i.i.d.\n",
    "\n",
    "On sait que pour un processus de Poisson, le nombre d'arrivées durant un intervalle $(t_1, t_2]$ suite une loi de Poisson$(\\Lambda(t_2)-\\Lambda(t_1))$. On peut donc générer ce nombre directement.\n",
    "Mais comment générer ensuite les instants de ces arrivées?\n",
    "Dans le cas stationnaire, c'est facile."
   ]
  },
  {
   "cell_type": "markdown",
   "metadata": {},
   "source": [
    "### Proposition\n",
    "\n",
    "Pour un processus de Poisson stationnaire, si $n$ arrivées ont eu lieu durant un intervalle $(t_1,t_2]$, alors la loi conditionnelle des temps de ces $n$ arrivées est la même que celle des statistiques d'ordre de $n$ variables aléatoires i.i.d. $U(t_1,t_2)$ (i.e. $n$ variables aléatoires i.i.d. $U(t_1,t_2)$, triées par ordre croissant)."
   ]
  },
  {
   "cell_type": "markdown",
   "metadata": {
    "collapsed": true
   },
   "source": [
    "Supposons par exemple que nous considérons un processus de Poisson stationnaire entre les instant 100 et 150, et que nous savons que 20 observations y prennent place. Nous pouvons alors générer les instants de ces arrivées comme suit: "
   ]
  },
  {
   "cell_type": "code",
   "execution_count": 16,
   "metadata": {
    "collapsed": false
   },
   "outputs": [
    {
     "data": {
      "text/plain": [
       "20-element Array{Any,1}:\n",
       " 103.204\n",
       " 104.246\n",
       " 105.212\n",
       " 105.984\n",
       " 110.021\n",
       " 110.805\n",
       " 111.576\n",
       " 113.685\n",
       " 116.298\n",
       " 119.251\n",
       " 119.511\n",
       " 120.592\n",
       " 131.72 \n",
       " 131.986\n",
       " 133.109\n",
       " 133.725\n",
       " 137.48 \n",
       " 137.609\n",
       " 142.18 \n",
       " 146.496"
      ]
     },
     "execution_count": 16,
     "metadata": {},
     "output_type": "execute_result"
    }
   ],
   "source": [
    "n = 20\n",
    "t1 = 100\n",
    "t2 = 150\n",
    "inter = t2-t1\n",
    "\n",
    "arrivals = []\n",
    "\n",
    "for i = 1:n\n",
    "    arrivals = [ arrivals; t1+inter*rand() ]\n",
    "end\n",
    "\n",
    "arrivals = sort(arrivals)"
   ]
  },
  {
   "cell_type": "code",
   "execution_count": null,
   "metadata": {
    "collapsed": true
   },
   "outputs": [],
   "source": []
  }
 ],
 "metadata": {
  "kernelspec": {
   "display_name": "Julia 0.4.6",
   "language": "julia",
   "name": "julia-0.4"
  },
  "language_info": {
   "file_extension": ".jl",
   "mimetype": "application/julia",
   "name": "julia",
   "version": "0.5.0"
  }
 },
 "nbformat": 4,
 "nbformat_minor": 0
}
