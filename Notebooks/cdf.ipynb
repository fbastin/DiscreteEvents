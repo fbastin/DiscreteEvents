{
 "cells": [
  {
   "cell_type": "markdown",
   "metadata": {},
   "source": [
    "## The cumulative distribution function"
   ]
  },
  {
   "cell_type": "markdown",
   "metadata": {},
   "source": [
    "The distribution function completely caracterizes a random variable."
   ]
  },
  {
   "cell_type": "markdown",
   "metadata": {},
   "source": [
    "$$F_{U(0,1)}(x) = P[U(0,1) \\leq x] = \\int_0^x 1dt = x$$"
   ]
  },
  {
   "cell_type": "markdown",
   "metadata": {},
   "source": [
    "$$F_X(a) = P[X \\leq a]$$\n",
    "\n",
    "Assume that $X$ is a continuous random variable and let $Z = F_X(X)$. If $x \\in [0,1]$, the cumulative distribution function of $Z$ is\n",
    "$$\n",
    "F_Z(x) = P[Z \\leq x] = P[F_X(X) \\leq x] = P[X \\leq F_X^{-1}(x)]\n",
    "= F_X(F_X^{-1}(x)) = x.\n",
    "$$\n",
    "In other terms, the distribution function of any continuous random variable follows a $U(0,1)$."
   ]
  },
  {
   "cell_type": "markdown",
   "metadata": {},
   "source": [
    "## Empirical distribution function"
   ]
  },
  {
   "cell_type": "markdown",
   "metadata": {},
   "source": [
    "Assume that we observe ${x_1,\\dots,x_n}$, and sort them by ascending order. The sorted observations are denoted by ${x_{(1)},\\dots,x_{(n)}}$.\n",
    "The empirical distribution function is defined as\n",
    "$$\n",
    "{\\hat F_n(x)} = \\frac{1}{n} \\sum_{i=1}^n I[x_{(i)} \\le x],\n",
    "$$\n",
    "where\n",
    "$$\n",
    "I[y \\le x] =\n",
    "\\begin{cases}\n",
    "1 \\mbox{ if } y \\le x, \\\\\n",
    "0 \\mbox{ otherwise.}\n",
    "\\end{cases}\n",
    "$$\n",
    "\n"
   ]
  },
  {
   "cell_type": "markdown",
   "metadata": {},
   "source": [
    "### Example"
   ]
  },
  {
   "cell_type": "code",
   "execution_count": 1,
   "metadata": {
    "collapsed": false
   },
   "outputs": [],
   "source": [
    "using RandomStreams\n",
    "using Distributions\n",
    "\n",
    "const SEED = 12345\n",
    "\n",
    "seeds = [SEED, SEED, SEED, SEED, SEED, SEED]\n",
    "gen = MRG32k3aGen(seeds)\n",
    "unif = next_stream(gen)\n",
    "\n",
    "n = 10\n",
    "\n",
    "x = Array(Float64, n)\n",
    "for i = 1:n\n",
    "    x[i] = rand(Poisson(10000))/10000\n",
    "end"
   ]
  },
  {
   "cell_type": "code",
   "execution_count": 2,
   "metadata": {
    "collapsed": false
   },
   "outputs": [
    {
     "data": {
      "text/plain": [
       "10-element Array{Float64,1}:\n",
       " 1.0003\n",
       " 1.0096\n",
       " 1.0047\n",
       " 0.9886\n",
       " 0.9901\n",
       " 0.9847\n",
       " 1.0152\n",
       " 0.9717\n",
       " 0.9963\n",
       " 1.0157"
      ]
     },
     "execution_count": 2,
     "metadata": {},
     "output_type": "execute_result"
    }
   ],
   "source": [
    "x"
   ]
  },
  {
   "cell_type": "markdown",
   "metadata": {
    "collapsed": false
   },
   "source": [
    "We can directly represent the empirical distribution function in Julia using the method ef."
   ]
  },
  {
   "cell_type": "code",
   "execution_count": 3,
   "metadata": {
    "collapsed": true
   },
   "outputs": [],
   "source": [
    "using StatsBase\n",
    "\n",
    "ef = ecdf(x)\n",
    "methods(ef)"
   ]
  },
  {
   "cell_type": "markdown",
   "metadata": {},
   "source": [
    "We can the evaluate it as any other distribution function."
   ]
  },
  {
   "cell_type": "code",
   "execution_count": 30,
   "metadata": {
    "collapsed": false
   },
   "outputs": [
    {
     "data": {
      "text/plain": [
       "0.3"
      ]
     },
     "execution_count": 30,
     "metadata": {},
     "output_type": "execute_result"
    }
   ],
   "source": [
    "u = ef(0.99)"
   ]
  },
  {
   "cell_type": "markdown",
   "metadata": {},
   "source": [
    "### Quantiles"
   ]
  },
  {
   "cell_type": "markdown",
   "metadata": {},
   "source": [
    "Several definitions exist to quantify the quantile of a sample, but all of them are consistent as an Monte Carlo estimator of a quantile."
   ]
  },
  {
   "cell_type": "code",
   "execution_count": 9,
   "metadata": {
    "collapsed": false,
    "scrolled": true
   },
   "outputs": [
    {
     "data": {
      "text/plain": [
       "10-element Array{Float64,1}:\n",
       " 0.9717\n",
       " 0.9847\n",
       " 0.9886\n",
       " 0.9901\n",
       " 0.9963\n",
       " 1.0003\n",
       " 1.0047\n",
       " 1.0096\n",
       " 1.0152\n",
       " 1.0157"
      ]
     },
     "execution_count": 9,
     "metadata": {},
     "output_type": "execute_result"
    }
   ],
   "source": [
    "y = sort(x)"
   ]
  },
  {
   "cell_type": "code",
   "execution_count": 10,
   "metadata": {
    "collapsed": false
   },
   "outputs": [
    {
     "data": {
      "text/plain": [
       "10"
      ]
     },
     "execution_count": 10,
     "metadata": {},
     "output_type": "execute_result"
    }
   ],
   "source": [
    "l = length(y)"
   ]
  },
  {
   "cell_type": "code",
   "execution_count": 11,
   "metadata": {
    "collapsed": false
   },
   "outputs": [
    {
     "data": {
      "text/plain": [
       "4"
      ]
     },
     "execution_count": 11,
     "metadata": {},
     "output_type": "execute_result"
    }
   ],
   "source": [
    "m = Int64(floor(n*0.45))"
   ]
  },
  {
   "cell_type": "code",
   "execution_count": 12,
   "metadata": {
    "collapsed": false
   },
   "outputs": [
    {
     "data": {
      "text/plain": [
       "0.9901"
      ]
     },
     "execution_count": 12,
     "metadata": {},
     "output_type": "execute_result"
    }
   ],
   "source": [
    "y[m]"
   ]
  },
  {
   "cell_type": "code",
   "execution_count": 13,
   "metadata": {
    "collapsed": false
   },
   "outputs": [
    {
     "data": {
      "text/plain": [
       "0.9963"
      ]
     },
     "execution_count": 13,
     "metadata": {},
     "output_type": "execute_result"
    }
   ],
   "source": [
    "y[m+1]"
   ]
  },
  {
   "cell_type": "code",
   "execution_count": 14,
   "metadata": {
    "collapsed": false
   },
   "outputs": [
    {
     "data": {
      "text/plain": [
       "1.0003"
      ]
     },
     "execution_count": 14,
     "metadata": {},
     "output_type": "execute_result"
    }
   ],
   "source": [
    "y[m+2]"
   ]
  },
  {
   "cell_type": "code",
   "execution_count": 15,
   "metadata": {
    "collapsed": false
   },
   "outputs": [
    {
     "data": {
      "text/plain": [
       "6.0"
      ]
     },
     "execution_count": 15,
     "metadata": {},
     "output_type": "execute_result"
    }
   ],
   "source": [
    "n*0.6"
   ]
  },
  {
   "cell_type": "code",
   "execution_count": 16,
   "metadata": {
    "collapsed": false
   },
   "outputs": [
    {
     "data": {
      "text/plain": [
       "0.9964999999999999"
      ]
     },
     "execution_count": 16,
     "metadata": {},
     "output_type": "execute_result"
    }
   ],
   "source": [
    "quantile(y,0.45)"
   ]
  },
  {
   "cell_type": "code",
   "execution_count": 17,
   "metadata": {
    "collapsed": false
   },
   "outputs": [
    {
     "data": {
      "text/plain": [
       "0.6"
      ]
     },
     "execution_count": 17,
     "metadata": {},
     "output_type": "execute_result"
    }
   ],
   "source": [
    "ef(quantile(y,0.6))"
   ]
  },
  {
   "cell_type": "code",
   "execution_count": 18,
   "metadata": {
    "collapsed": false
   },
   "outputs": [
    {
     "data": {
      "text/plain": [
       "0.9983"
      ]
     },
     "execution_count": 18,
     "metadata": {},
     "output_type": "execute_result"
    }
   ],
   "source": [
    "0.5*(y[m+1]+y[m+2])"
   ]
  },
  {
   "cell_type": "code",
   "execution_count": 19,
   "metadata": {
    "collapsed": false
   },
   "outputs": [
    {
     "data": {
      "text/plain": [
       "5.0"
      ]
     },
     "execution_count": 19,
     "metadata": {},
     "output_type": "execute_result"
    }
   ],
   "source": [
    "n/2.0"
   ]
  },
  {
   "cell_type": "code",
   "execution_count": 20,
   "metadata": {
    "collapsed": false
   },
   "outputs": [
    {
     "data": {
      "text/html": [
       "59 methods for generic function <b>quantile</b>:<ul><li> quantile(d::<b>Distributions.DiscreteUniform</b>, p::<b>Float64</b>) at <a href=\"https://github.com/JuliaStats/Distributions.jl/tree/091cad865281c92746dc455cc50f4b2a311d3dd9/src/univariate/discrete/discreteuniform.jl#L114\" target=\"_blank\">/home/bastin/.julia/v0.5/Distributions/src/univariate/discrete/discreteuniform.jl:114</a></li> <li> quantile(d::<b>Distributions.EmpiricalUnivariateDistribution</b>, p::<b>Float64</b>) at <a href=\"https://github.com/JuliaStats/Distributions.jl/tree/091cad865281c92746dc455cc50f4b2a311d3dd9/src/empirical.jl#L61\" target=\"_blank\">/home/bastin/.julia/v0.5/Distributions/src/empirical.jl:61</a></li> <li> quantile(d::<b>Distributions.Hypergeometric</b>, q::<b>Real</b>) at <a href=\"https://github.com/JuliaStats/Distributions.jl/tree/091cad865281c92746dc455cc50f4b2a311d3dd9/src/univariates.jl#L328\" target=\"_blank\">/home/bastin/.julia/v0.5/Distributions/src/univariates.jl:328</a></li> <li> quantile(d::<b>Distributions.Kolmogorov</b>, p::<b>Real</b>) at <a href=\"https://github.com/JuliaStats/Distributions.jl/tree/091cad865281c92746dc455cc50f4b2a311d3dd9/src/quantilealgs.jl#L129\" target=\"_blank\">/home/bastin/.julia/v0.5/Distributions/src/quantilealgs.jl:129</a></li> <li> quantile<i>{V,W<:Real}</i>(v::<b>AbstractArray{V,1}</b>, w::<b>StatsBase.WeightVec{W,Vec<:AbstractArray{T<:Real,1}}</b>, p::<b>AbstractArray{T<:Real,1}</b>) at <a href=\"https://github.com/JuliaStats/StatsBase.jl/tree/96cd82a5c8461d81ac4d14723abe7b9f075ac7a0/src/weights.jl#L348\" target=\"_blank\">/home/bastin/.julia/v0.5/StatsBase/src/weights.jl:348</a></li> <li> quantile<i>{W<:Real}</i>(v::<b>AbstractArray{T<:Real,1}</b>, w::<b>StatsBase.WeightVec{W,Vec<:AbstractArray{T<:Real,1}}</b>, p::<b>Number</b>) at <a href=\"https://github.com/JuliaStats/StatsBase.jl/tree/96cd82a5c8461d81ac4d14723abe7b9f075ac7a0/src/weights.jl#L413\" target=\"_blank\">/home/bastin/.julia/v0.5/StatsBase/src/weights.jl:413</a></li> <li> quantile(v::<b>AbstractArray{T<:Any,1}</b>, p; <i>sorted</i>) at <a href=\"https://github.com/JuliaLang/julia/tree/3c9d75391c72d7c32eea75ff187ce77b2d5effc8/base/statistics.jl#L694\" target=\"_blank\">statistics.jl:694</a></li> <li> quantile<i>{T<:Real}</i>(v::<b>AbstractArray{T,N<:Any}</b>) at <a href=\"https://github.com/JuliaStats/StatsBase.jl/tree/96cd82a5c8461d81ac4d14723abe7b9f075ac7a0/src/scalarstats.jl#L213\" target=\"_blank\">/home/bastin/.julia/v0.5/StatsBase/src/scalarstats.jl:213</a></li> <li> quantile<i>{T<:Real}</i>(d::<b>Distributions.Bernoulli{T}</b>, p::<b>Real</b>) at <a href=\"https://github.com/JuliaStats/Distributions.jl/tree/091cad865281c92746dc455cc50f4b2a311d3dd9/src/univariate/discrete/bernoulli.jl#L96\" target=\"_blank\">/home/bastin/.julia/v0.5/Distributions/src/univariate/discrete/bernoulli.jl:96</a></li> <li> quantile(d::<b>Distributions.BetaBinomial</b>, p::<b>Float64</b>) at <a href=\"https://github.com/JuliaStats/Distributions.jl/tree/091cad865281c92746dc455cc50f4b2a311d3dd9/src/univariate/discrete/betabinomial.jl#L104\" target=\"_blank\">/home/bastin/.julia/v0.5/Distributions/src/univariate/discrete/betabinomial.jl:104</a></li> <li> quantile(d::<b>Distributions.Binomial</b>, q::<b>Real</b>) at <a href=\"https://github.com/JuliaStats/Distributions.jl/tree/091cad865281c92746dc455cc50f4b2a311d3dd9/src/univariates.jl#L328\" target=\"_blank\">/home/bastin/.julia/v0.5/Distributions/src/univariates.jl:328</a></li> <li> quantile(d::<b>Distributions.Categorical</b>, p::<b>Float64</b>) at <a href=\"https://github.com/JuliaStats/Distributions.jl/tree/091cad865281c92746dc455cc50f4b2a311d3dd9/src/univariate/discrete/categorical.jl#L195\" target=\"_blank\">/home/bastin/.julia/v0.5/Distributions/src/univariate/discrete/categorical.jl:195</a></li> <li> quantile(d::<b>Distributions.Geometric</b>, p::<b>Real</b>) at <a href=\"https://github.com/JuliaStats/Distributions.jl/tree/091cad865281c92746dc455cc50f4b2a311d3dd9/src/univariate/discrete/geometric.jl#L111\" target=\"_blank\">/home/bastin/.julia/v0.5/Distributions/src/univariate/discrete/geometric.jl:111</a></li> <li> quantile(d::<b>Distributions.NegativeBinomial</b>, q::<b>Real</b>) at <a href=\"https://github.com/JuliaStats/Distributions.jl/tree/091cad865281c92746dc455cc50f4b2a311d3dd9/src/univariates.jl#L328\" target=\"_blank\">/home/bastin/.julia/v0.5/Distributions/src/univariates.jl:328</a></li> <li> quantile<i>{T<:Real}</i>(d::<b>Distributions.NoncentralHypergeometric{T}</b>, q::<b>Real</b>) at <a href=\"https://github.com/JuliaStats/Distributions.jl/tree/091cad865281c92746dc455cc50f4b2a311d3dd9/src/univariate/discrete/noncentralhypergeometric.jl#L17\" target=\"_blank\">/home/bastin/.julia/v0.5/Distributions/src/univariate/discrete/noncentralhypergeometric.jl:17</a></li> <li> quantile(d::<b>Distributions.Poisson</b>, q::<b>Real</b>) at <a href=\"https://github.com/JuliaStats/Distributions.jl/tree/091cad865281c92746dc455cc50f4b2a311d3dd9/src/univariates.jl#L328\" target=\"_blank\">/home/bastin/.julia/v0.5/Distributions/src/univariates.jl:328</a></li> <li> quantile(d::<b>Distributions.PoissonBinomial</b>, x::<b>Float64</b>) at <a href=\"https://github.com/JuliaStats/Distributions.jl/tree/091cad865281c92746dc455cc50f4b2a311d3dd9/src/univariate/discrete/poissonbinomial.jl#L97\" target=\"_blank\">/home/bastin/.julia/v0.5/Distributions/src/univariate/discrete/poissonbinomial.jl:97</a></li> <li> quantile(d::<b>Distributions.Arcsine</b>, p::<b>Real</b>) at <a href=\"https://github.com/JuliaStats/Distributions.jl/tree/091cad865281c92746dc455cc50f4b2a311d3dd9/src/univariate/continuous/arcsine.jl#L85\" target=\"_blank\">/home/bastin/.julia/v0.5/Distributions/src/univariate/continuous/arcsine.jl:85</a></li> <li> quantile(d::<b>Distributions.Beta</b>, q::<b>Real</b>) at <a href=\"https://github.com/JuliaStats/Distributions.jl/tree/091cad865281c92746dc455cc50f4b2a311d3dd9/src/univariates.jl#L328\" target=\"_blank\">/home/bastin/.julia/v0.5/Distributions/src/univariates.jl:328</a></li> <li> quantile(d::<b>Distributions.BetaPrime</b>, p::<b>Real</b>) at <a href=\"https://github.com/JuliaStats/Distributions.jl/tree/091cad865281c92746dc455cc50f4b2a311d3dd9/src/univariate/continuous/betaprime.jl#L99\" target=\"_blank\">/home/bastin/.julia/v0.5/Distributions/src/univariate/continuous/betaprime.jl:99</a></li> <li> quantile(d::<b>Distributions.Biweight</b>, p::<b>Real</b>) at <a href=\"https://github.com/JuliaStats/Distributions.jl/tree/091cad865281c92746dc455cc50f4b2a311d3dd9/src/quantilealgs.jl#L129\" target=\"_blank\">/home/bastin/.julia/v0.5/Distributions/src/quantilealgs.jl:129</a></li> <li> quantile(d::<b>Distributions.Cauchy</b>, p::<b>Real</b>) at <a href=\"https://github.com/JuliaStats/Distributions.jl/tree/091cad865281c92746dc455cc50f4b2a311d3dd9/src/univariate/continuous/cauchy.jl#L91\" target=\"_blank\">/home/bastin/.julia/v0.5/Distributions/src/univariate/continuous/cauchy.jl:91</a></li> <li> quantile(d::<b>Distributions.Chisq</b>, q::<b>Real</b>) at <a href=\"https://github.com/JuliaStats/Distributions.jl/tree/091cad865281c92746dc455cc50f4b2a311d3dd9/src/univariates.jl#L328\" target=\"_blank\">/home/bastin/.julia/v0.5/Distributions/src/univariates.jl:328</a></li> <li> quantile(d::<b>Distributions.Chi</b>, p::<b>Real</b>) at <a href=\"https://github.com/JuliaStats/Distributions.jl/tree/091cad865281c92746dc455cc50f4b2a311d3dd9/src/univariate/continuous/chi.jl#L89\" target=\"_blank\">/home/bastin/.julia/v0.5/Distributions/src/univariate/continuous/chi.jl:89</a></li> <li> quantile(d::<b>Distributions.Cosine</b>, p::<b>Real</b>) at <a href=\"https://github.com/JuliaStats/Distributions.jl/tree/091cad865281c92746dc455cc50f4b2a311d3dd9/src/univariate/continuous/cosine.jl#L78\" target=\"_blank\">/home/bastin/.julia/v0.5/Distributions/src/univariate/continuous/cosine.jl:78</a></li> <li> quantile(d::<b>Distributions.Epanechnikov</b>, p::<b>Real</b>) at <a href=\"https://github.com/JuliaStats/Distributions.jl/tree/091cad865281c92746dc455cc50f4b2a311d3dd9/src/quantilealgs.jl#L129\" target=\"_blank\">/home/bastin/.julia/v0.5/Distributions/src/quantilealgs.jl:129</a></li> <li> quantile(d::<b>Distributions.Exponential</b>, p::<b>Real</b>) at <a href=\"https://github.com/JuliaStats/Distributions.jl/tree/091cad865281c92746dc455cc50f4b2a311d3dd9/src/univariate/continuous/exponential.jl#L76\" target=\"_blank\">/home/bastin/.julia/v0.5/Distributions/src/univariate/continuous/exponential.jl:76</a></li> <li> quantile(d::<b>Distributions.FDist</b>, q::<b>Real</b>) at <a href=\"https://github.com/JuliaStats/Distributions.jl/tree/091cad865281c92746dc455cc50f4b2a311d3dd9/src/univariates.jl#L328\" target=\"_blank\">/home/bastin/.julia/v0.5/Distributions/src/univariates.jl:328</a></li> <li> quantile(d::<b>Distributions.Frechet</b>, p::<b>Real</b>) at <a href=\"https://github.com/JuliaStats/Distributions.jl/tree/091cad865281c92746dc455cc50f4b2a311d3dd9/src/univariate/continuous/frechet.jl#L128\" target=\"_blank\">/home/bastin/.julia/v0.5/Distributions/src/univariate/continuous/frechet.jl:128</a></li> <li> quantile(d::<b>Distributions.Gamma</b>, q::<b>Real</b>) at <a href=\"https://github.com/JuliaStats/Distributions.jl/tree/091cad865281c92746dc455cc50f4b2a311d3dd9/src/univariates.jl#L328\" target=\"_blank\">/home/bastin/.julia/v0.5/Distributions/src/univariates.jl:328</a></li> <li> quantile(d::<b>Distributions.Erlang</b>, q::<b>Real</b>) at <a href=\"https://github.com/JuliaStats/Distributions.jl/tree/091cad865281c92746dc455cc50f4b2a311d3dd9/src/univariates.jl#L328\" target=\"_blank\">/home/bastin/.julia/v0.5/Distributions/src/univariates.jl:328</a></li> <li> quantile<i>{T<:Real}</i>(d::<b>Distributions.GeneralizedPareto{T}</b>, p::<b>Real</b>) at <a href=\"https://github.com/JuliaStats/Distributions.jl/tree/091cad865281c92746dc455cc50f4b2a311d3dd9/src/univariate/continuous/generalizedpareto.jl#L160\" target=\"_blank\">/home/bastin/.julia/v0.5/Distributions/src/univariate/continuous/generalizedpareto.jl:160</a></li> <li> quantile(d::<b>Distributions.GeneralizedExtremeValue</b>, p::<b>Real</b>) at <a href=\"https://github.com/JuliaStats/Distributions.jl/tree/091cad865281c92746dc455cc50f4b2a311d3dd9/src/univariate/continuous/generalizedextremevalue.jl#L160\" target=\"_blank\">/home/bastin/.julia/v0.5/Distributions/src/univariate/continuous/generalizedextremevalue.jl:160</a></li> <li> quantile(d::<b>Distributions.Gumbel</b>, p::<b>Real</b>) at <a href=\"https://github.com/JuliaStats/Distributions.jl/tree/091cad865281c92746dc455cc50f4b2a311d3dd9/src/univariate/continuous/gumbel.jl#L88\" target=\"_blank\">/home/bastin/.julia/v0.5/Distributions/src/univariate/continuous/gumbel.jl:88</a></li> <li> quantile(d::<b>Distributions.InverseGamma</b>, p::<b>Real</b>) at <a href=\"https://github.com/JuliaStats/Distributions.jl/tree/091cad865281c92746dc455cc50f4b2a311d3dd9/src/univariate/continuous/inversegamma.jl#L100\" target=\"_blank\">/home/bastin/.julia/v0.5/Distributions/src/univariate/continuous/inversegamma.jl:100</a></li> <li> quantile(d::<b>Distributions.InverseGaussian</b>, p::<b>Real</b>) at <a href=\"https://github.com/JuliaStats/Distributions.jl/tree/091cad865281c92746dc455cc50f4b2a311d3dd9/src/quantilealgs.jl#L129\" target=\"_blank\">/home/bastin/.julia/v0.5/Distributions/src/quantilealgs.jl:129</a></li> <li> quantile(d::<b>Distributions.Laplace</b>, p::<b>Real</b>) at <a href=\"https://github.com/JuliaStats/Distributions.jl/tree/091cad865281c92746dc455cc50f4b2a311d3dd9/src/univariate/continuous/laplace.jl#L85\" target=\"_blank\">/home/bastin/.julia/v0.5/Distributions/src/univariate/continuous/laplace.jl:85</a></li> <li> quantile(d::<b>Distributions.Levy</b>, p::<b>Real</b>) at <a href=\"https://github.com/JuliaStats/Distributions.jl/tree/091cad865281c92746dc455cc50f4b2a311d3dd9/src/univariate/continuous/levy.jl#L80\" target=\"_blank\">/home/bastin/.julia/v0.5/Distributions/src/univariate/continuous/levy.jl:80</a></li> <li> quantile(d::<b>Distributions.Logistic</b>, p::<b>Real</b>) at <a href=\"https://github.com/JuliaStats/Distributions.jl/tree/091cad865281c92746dc455cc50f4b2a311d3dd9/src/univariate/continuous/logistic.jl#L84\" target=\"_blank\">/home/bastin/.julia/v0.5/Distributions/src/univariate/continuous/logistic.jl:84</a></li> <li> quantile(d::<b>Distributions.NoncentralBeta</b>, q::<b>Real</b>) at <a href=\"https://github.com/JuliaStats/Distributions.jl/tree/091cad865281c92746dc455cc50f4b2a311d3dd9/src/univariates.jl#L328\" target=\"_blank\">/home/bastin/.julia/v0.5/Distributions/src/univariates.jl:328</a></li> <li> quantile(d::<b>Distributions.NoncentralChisq</b>, q::<b>Real</b>) at <a href=\"https://github.com/JuliaStats/Distributions.jl/tree/091cad865281c92746dc455cc50f4b2a311d3dd9/src/univariates.jl#L328\" target=\"_blank\">/home/bastin/.julia/v0.5/Distributions/src/univariates.jl:328</a></li> <li> quantile(d::<b>Distributions.NoncentralF</b>, q::<b>Real</b>) at <a href=\"https://github.com/JuliaStats/Distributions.jl/tree/091cad865281c92746dc455cc50f4b2a311d3dd9/src/univariates.jl#L328\" target=\"_blank\">/home/bastin/.julia/v0.5/Distributions/src/univariates.jl:328</a></li> <li> quantile(d::<b>Distributions.NoncentralT</b>, q::<b>Real</b>) at <a href=\"https://github.com/JuliaStats/Distributions.jl/tree/091cad865281c92746dc455cc50f4b2a311d3dd9/src/univariates.jl#L328\" target=\"_blank\">/home/bastin/.julia/v0.5/Distributions/src/univariates.jl:328</a></li> <li> quantile(d::<b>Distributions.Normal</b>, q::<b>Real</b>) at <a href=\"https://github.com/JuliaStats/Distributions.jl/tree/091cad865281c92746dc455cc50f4b2a311d3dd9/src/univariates.jl#L328\" target=\"_blank\">/home/bastin/.julia/v0.5/Distributions/src/univariates.jl:328</a></li> <li> quantile(d::<b>Distributions.NormalCanon</b>, p::<b>Real</b>) at <a href=\"https://github.com/JuliaStats/Distributions.jl/tree/091cad865281c92746dc455cc50f4b2a311d3dd9/src/univariate/continuous/normalcanon.jl#L65\" target=\"_blank\">/home/bastin/.julia/v0.5/Distributions/src/univariate/continuous/normalcanon.jl:65</a></li> <li> quantile(d::<b>Distributions.LogNormal</b>, q::<b>Real</b>) at <a href=\"https://github.com/JuliaStats/Distributions.jl/tree/091cad865281c92746dc455cc50f4b2a311d3dd9/src/univariate/continuous/lognormal.jl#L104\" target=\"_blank\">/home/bastin/.julia/v0.5/Distributions/src/univariate/continuous/lognormal.jl:104</a></li> <li> quantile(d::<b>Distributions.Pareto</b>, p::<b>Real</b>) at <a href=\"https://github.com/JuliaStats/Distributions.jl/tree/091cad865281c92746dc455cc50f4b2a311d3dd9/src/univariate/continuous/pareto.jl#L107\" target=\"_blank\">/home/bastin/.julia/v0.5/Distributions/src/univariate/continuous/pareto.jl:107</a></li> <li> quantile(d::<b>Distributions.Rayleigh</b>, p::<b>Real</b>) at <a href=\"https://github.com/JuliaStats/Distributions.jl/tree/091cad865281c92746dc455cc50f4b2a311d3dd9/src/univariate/continuous/rayleigh.jl#L81\" target=\"_blank\">/home/bastin/.julia/v0.5/Distributions/src/univariate/continuous/rayleigh.jl:81</a></li> <li> quantile(d::<b>Distributions.SymTriangularDist</b>, p::<b>Real</b>) at <a href=\"https://github.com/JuliaStats/Distributions.jl/tree/091cad865281c92746dc455cc50f4b2a311d3dd9/src/univariate/continuous/symtriangular.jl#L107\" target=\"_blank\">/home/bastin/.julia/v0.5/Distributions/src/univariate/continuous/symtriangular.jl:107</a></li> <li> quantile(d::<b>Distributions.TDist</b>, q::<b>Real</b>) at <a href=\"https://github.com/JuliaStats/Distributions.jl/tree/091cad865281c92746dc455cc50f4b2a311d3dd9/src/univariates.jl#L328\" target=\"_blank\">/home/bastin/.julia/v0.5/Distributions/src/univariates.jl:328</a></li> <li> quantile(d::<b>Distributions.TriangularDist</b>, p::<b>Real</b>) at <a href=\"https://github.com/JuliaStats/Distributions.jl/tree/091cad865281c92746dc455cc50f4b2a311d3dd9/src/univariate/continuous/triangular.jl#L112\" target=\"_blank\">/home/bastin/.julia/v0.5/Distributions/src/univariate/continuous/triangular.jl:112</a></li> <li> quantile(d::<b>Distributions.Triweight</b>, p::<b>Real</b>) at <a href=\"https://github.com/JuliaStats/Distributions.jl/tree/091cad865281c92746dc455cc50f4b2a311d3dd9/src/quantilealgs.jl#L129\" target=\"_blank\">/home/bastin/.julia/v0.5/Distributions/src/quantilealgs.jl:129</a></li> <li> quantile(d::<b>Distributions.Uniform</b>, p::<b>Real</b>) at <a href=\"https://github.com/JuliaStats/Distributions.jl/tree/091cad865281c92746dc455cc50f4b2a311d3dd9/src/univariate/continuous/uniform.jl#L83\" target=\"_blank\">/home/bastin/.julia/v0.5/Distributions/src/univariate/continuous/uniform.jl:83</a></li> <li> quantile(d::<b>Distributions.Weibull</b>, p::<b>Real</b>) at <a href=\"https://github.com/JuliaStats/Distributions.jl/tree/091cad865281c92746dc455cc50f4b2a311d3dd9/src/univariate/continuous/weibull.jl#L119\" target=\"_blank\">/home/bastin/.julia/v0.5/Distributions/src/univariate/continuous/weibull.jl:119</a></li> <li> quantile(d::<b>Distributions.EdgeworthZ</b>, p::<b>Float64</b>) at <a href=\"https://github.com/JuliaStats/Distributions.jl/tree/091cad865281c92746dc455cc50f4b2a311d3dd9/src/edgeworth.jl#L59\" target=\"_blank\">/home/bastin/.julia/v0.5/Distributions/src/edgeworth.jl:59</a></li> <li> quantile(d::<b>Distributions.EdgeworthAbstract</b>, p::<b>Float64</b>) at <a href=\"https://github.com/JuliaStats/Distributions.jl/tree/091cad865281c92746dc455cc50f4b2a311d3dd9/src/edgeworth.jl#L115\" target=\"_blank\">/home/bastin/.julia/v0.5/Distributions/src/edgeworth.jl:115</a></li> <li> quantile(d::<b>Distributions.Truncated</b>, p::<b>Float64</b>) at <a href=\"https://github.com/JuliaStats/Distributions.jl/tree/091cad865281c92746dc455cc50f4b2a311d3dd9/src/truncate.jl#L61\" target=\"_blank\">/home/bastin/.julia/v0.5/Distributions/src/truncate.jl:61</a></li> <li> quantile(d::<b>Distributions.Distribution{Distributions.Univariate,S<:Distributions.ValueSupport}</b>, p::<b>Real</b>) at <a href=\"https://github.com/JuliaStats/Distributions.jl/tree/091cad865281c92746dc455cc50f4b2a311d3dd9/src/univariates.jl#L163\" target=\"_blank\">/home/bastin/.julia/v0.5/Distributions/src/univariates.jl:163</a></li> <li> quantile(d::<b>Distributions.Distribution{Distributions.Univariate,S<:Distributions.ValueSupport}</b>, X::<b>AbstractArray</b>) at <a href=\"https://github.com/JuliaStats/Distributions.jl/tree/091cad865281c92746dc455cc50f4b2a311d3dd9/src/univariates.jl#L205\" target=\"_blank\">/home/bastin/.julia/v0.5/Distributions/src/univariates.jl:205</a></li> </ul>"
      ],
      "text/plain": [
       "# 59 methods for generic function \"quantile\":\n",
       "quantile(d::Distributions.DiscreteUniform, p::Float64) at /home/bastin/.julia/v0.5/Distributions/src/univariate/discrete/discreteuniform.jl:114\n",
       "quantile(d::Distributions.EmpiricalUnivariateDistribution, p::Float64) at /home/bastin/.julia/v0.5/Distributions/src/empirical.jl:61\n",
       "quantile(d::Distributions.Hypergeometric, q::Real) at /home/bastin/.julia/v0.5/Distributions/src/univariates.jl:328\n",
       "quantile(d::Distributions.Kolmogorov, p::Real) at /home/bastin/.julia/v0.5/Distributions/src/quantilealgs.jl:129\n",
       "quantile{V,W<:Real}(v::AbstractArray{V,1}, w::StatsBase.WeightVec{W,Vec<:AbstractArray{T<:Real,1}}, p::AbstractArray{T<:Real,1}) at /home/bastin/.julia/v0.5/StatsBase/src/weights.jl:348\n",
       "quantile{W<:Real}(v::AbstractArray{T<:Real,1}, w::StatsBase.WeightVec{W,Vec<:AbstractArray{T<:Real,1}}, p::Number) at /home/bastin/.julia/v0.5/StatsBase/src/weights.jl:413\n",
       "quantile(v::AbstractArray{T<:Any,1}, p; sorted) at statistics.jl:694\n",
       "quantile{T<:Real}(v::AbstractArray{T,N<:Any}) at /home/bastin/.julia/v0.5/StatsBase/src/scalarstats.jl:213\n",
       "quantile{T<:Real}(d::Distributions.Bernoulli{T}, p::Real) at /home/bastin/.julia/v0.5/Distributions/src/univariate/discrete/bernoulli.jl:96\n",
       "quantile(d::Distributions.BetaBinomial, p::Float64) at /home/bastin/.julia/v0.5/Distributions/src/univariate/discrete/betabinomial.jl:104\n",
       "quantile(d::Distributions.Binomial, q::Real) at /home/bastin/.julia/v0.5/Distributions/src/univariates.jl:328\n",
       "quantile(d::Distributions.Categorical, p::Float64) at /home/bastin/.julia/v0.5/Distributions/src/univariate/discrete/categorical.jl:195\n",
       "quantile(d::Distributions.Geometric, p::Real) at /home/bastin/.julia/v0.5/Distributions/src/univariate/discrete/geometric.jl:111\n",
       "quantile(d::Distributions.NegativeBinomial, q::Real) at /home/bastin/.julia/v0.5/Distributions/src/univariates.jl:328\n",
       "quantile{T<:Real}(d::Distributions.NoncentralHypergeometric{T}, q::Real) at /home/bastin/.julia/v0.5/Distributions/src/univariate/discrete/noncentralhypergeometric.jl:17\n",
       "quantile(d::Distributions.Poisson, q::Real) at /home/bastin/.julia/v0.5/Distributions/src/univariates.jl:328\n",
       "quantile(d::Distributions.PoissonBinomial, x::Float64) at /home/bastin/.julia/v0.5/Distributions/src/univariate/discrete/poissonbinomial.jl:97\n",
       "quantile(d::Distributions.Arcsine, p::Real) at /home/bastin/.julia/v0.5/Distributions/src/univariate/continuous/arcsine.jl:85\n",
       "quantile(d::Distributions.Beta, q::Real) at /home/bastin/.julia/v0.5/Distributions/src/univariates.jl:328\n",
       "quantile(d::Distributions.BetaPrime, p::Real) at /home/bastin/.julia/v0.5/Distributions/src/univariate/continuous/betaprime.jl:99\n",
       "quantile(d::Distributions.Biweight, p::Real) at /home/bastin/.julia/v0.5/Distributions/src/quantilealgs.jl:129\n",
       "quantile(d::Distributions.Cauchy, p::Real) at /home/bastin/.julia/v0.5/Distributions/src/univariate/continuous/cauchy.jl:91\n",
       "quantile(d::Distributions.Chisq, q::Real) at /home/bastin/.julia/v0.5/Distributions/src/univariates.jl:328\n",
       "quantile(d::Distributions.Chi, p::Real) at /home/bastin/.julia/v0.5/Distributions/src/univariate/continuous/chi.jl:89\n",
       "quantile(d::Distributions.Cosine, p::Real) at /home/bastin/.julia/v0.5/Distributions/src/univariate/continuous/cosine.jl:78\n",
       "quantile(d::Distributions.Epanechnikov, p::Real) at /home/bastin/.julia/v0.5/Distributions/src/quantilealgs.jl:129\n",
       "quantile(d::Distributions.Exponential, p::Real) at /home/bastin/.julia/v0.5/Distributions/src/univariate/continuous/exponential.jl:76\n",
       "quantile(d::Distributions.FDist, q::Real) at /home/bastin/.julia/v0.5/Distributions/src/univariates.jl:328\n",
       "quantile(d::Distributions.Frechet, p::Real) at /home/bastin/.julia/v0.5/Distributions/src/univariate/continuous/frechet.jl:128\n",
       "quantile(d::Distributions.Gamma, q::Real) at /home/bastin/.julia/v0.5/Distributions/src/univariates.jl:328\n",
       "quantile(d::Distributions.Erlang, q::Real) at /home/bastin/.julia/v0.5/Distributions/src/univariates.jl:328\n",
       "quantile{T<:Real}(d::Distributions.GeneralizedPareto{T}, p::Real) at /home/bastin/.julia/v0.5/Distributions/src/univariate/continuous/generalizedpareto.jl:160\n",
       "quantile(d::Distributions.GeneralizedExtremeValue, p::Real) at /home/bastin/.julia/v0.5/Distributions/src/univariate/continuous/generalizedextremevalue.jl:160\n",
       "quantile(d::Distributions.Gumbel, p::Real) at /home/bastin/.julia/v0.5/Distributions/src/univariate/continuous/gumbel.jl:88\n",
       "quantile(d::Distributions.InverseGamma, p::Real) at /home/bastin/.julia/v0.5/Distributions/src/univariate/continuous/inversegamma.jl:100\n",
       "quantile(d::Distributions.InverseGaussian, p::Real) at /home/bastin/.julia/v0.5/Distributions/src/quantilealgs.jl:129\n",
       "quantile(d::Distributions.Laplace, p::Real) at /home/bastin/.julia/v0.5/Distributions/src/univariate/continuous/laplace.jl:85\n",
       "quantile(d::Distributions.Levy, p::Real) at /home/bastin/.julia/v0.5/Distributions/src/univariate/continuous/levy.jl:80\n",
       "quantile(d::Distributions.Logistic, p::Real) at /home/bastin/.julia/v0.5/Distributions/src/univariate/continuous/logistic.jl:84\n",
       "quantile(d::Distributions.NoncentralBeta, q::Real) at /home/bastin/.julia/v0.5/Distributions/src/univariates.jl:328\n",
       "quantile(d::Distributions.NoncentralChisq, q::Real) at /home/bastin/.julia/v0.5/Distributions/src/univariates.jl:328\n",
       "quantile(d::Distributions.NoncentralF, q::Real) at /home/bastin/.julia/v0.5/Distributions/src/univariates.jl:328\n",
       "quantile(d::Distributions.NoncentralT, q::Real) at /home/bastin/.julia/v0.5/Distributions/src/univariates.jl:328\n",
       "quantile(d::Distributions.Normal, q::Real) at /home/bastin/.julia/v0.5/Distributions/src/univariates.jl:328\n",
       "quantile(d::Distributions.NormalCanon, p::Real) at /home/bastin/.julia/v0.5/Distributions/src/univariate/continuous/normalcanon.jl:65\n",
       "quantile(d::Distributions.LogNormal, q::Real) at /home/bastin/.julia/v0.5/Distributions/src/univariate/continuous/lognormal.jl:104\n",
       "quantile(d::Distributions.Pareto, p::Real) at /home/bastin/.julia/v0.5/Distributions/src/univariate/continuous/pareto.jl:107\n",
       "quantile(d::Distributions.Rayleigh, p::Real) at /home/bastin/.julia/v0.5/Distributions/src/univariate/continuous/rayleigh.jl:81\n",
       "quantile(d::Distributions.SymTriangularDist, p::Real) at /home/bastin/.julia/v0.5/Distributions/src/univariate/continuous/symtriangular.jl:107\n",
       "quantile(d::Distributions.TDist, q::Real) at /home/bastin/.julia/v0.5/Distributions/src/univariates.jl:328\n",
       "quantile(d::Distributions.TriangularDist, p::Real) at /home/bastin/.julia/v0.5/Distributions/src/univariate/continuous/triangular.jl:112\n",
       "quantile(d::Distributions.Triweight, p::Real) at /home/bastin/.julia/v0.5/Distributions/src/quantilealgs.jl:129\n",
       "quantile(d::Distributions.Uniform, p::Real) at /home/bastin/.julia/v0.5/Distributions/src/univariate/continuous/uniform.jl:83\n",
       "quantile(d::Distributions.Weibull, p::Real) at /home/bastin/.julia/v0.5/Distributions/src/univariate/continuous/weibull.jl:119\n",
       "quantile(d::Distributions.EdgeworthZ, p::Float64) at /home/bastin/.julia/v0.5/Distributions/src/edgeworth.jl:59\n",
       "quantile(d::Distributions.EdgeworthAbstract, p::Float64) at /home/bastin/.julia/v0.5/Distributions/src/edgeworth.jl:115\n",
       "quantile(d::Distributions.Truncated, p::Float64) at /home/bastin/.julia/v0.5/Distributions/src/truncate.jl:61\n",
       "quantile(d::Distributions.Distribution{Distributions.Univariate,S<:Distributions.ValueSupport}, p::Real) at /home/bastin/.julia/v0.5/Distributions/src/univariates.jl:163\n",
       "quantile(d::Distributions.Distribution{Distributions.Univariate,S<:Distributions.ValueSupport}, X::AbstractArray) at /home/bastin/.julia/v0.5/Distributions/src/univariates.jl:205"
      ]
     },
     "execution_count": 20,
     "metadata": {},
     "output_type": "execute_result"
    }
   ],
   "source": [
    "methods(quantile)"
   ]
  },
  {
   "cell_type": "code",
   "execution_count": 21,
   "metadata": {
    "collapsed": false
   },
   "outputs": [
    {
     "data": {
      "text/plain": [
       "1.0"
      ]
     },
     "execution_count": 21,
     "metadata": {},
     "output_type": "execute_result"
    }
   ],
   "source": [
    "ef(9)"
   ]
  },
  {
   "cell_type": "code",
   "execution_count": 22,
   "metadata": {
    "collapsed": false
   },
   "outputs": [
    {
     "data": {
      "text/plain": [
       "1.0"
      ]
     },
     "execution_count": 22,
     "metadata": {},
     "output_type": "execute_result"
    }
   ],
   "source": [
    "ef(10)"
   ]
  },
  {
   "cell_type": "code",
   "execution_count": 23,
   "metadata": {
    "collapsed": false
   },
   "outputs": [
    {
     "name": "stdout",
     "output_type": "stream",
     "text": [
      "search: ecdf searchsortedfirst secd vecdot asecd ObjectIdDict reducedim\n",
      "\n"
     ]
    },
    {
     "data": {
      "text/markdown": [
       "```\n",
       "ecdf(X)\n",
       "```\n",
       "\n",
       "Compute the empirical cumulative distribution function (ECDF) of a real-valued vector.\n"
      ],
      "text/plain": [
       "```\n",
       "ecdf(X)\n",
       "```\n",
       "\n",
       "Compute the empirical cumulative distribution function (ECDF) of a real-valued vector.\n"
      ]
     },
     "execution_count": 23,
     "metadata": {},
     "output_type": "execute_result"
    }
   ],
   "source": [
    "?ecdf"
   ]
  },
  {
   "cell_type": "code",
   "execution_count": 24,
   "metadata": {
    "collapsed": false
   },
   "outputs": [
    {
     "data": {
      "text/plain": [
       "0.6"
      ]
     },
     "execution_count": 24,
     "metadata": {},
     "output_type": "execute_result"
    }
   ],
   "source": [
    "ef(quantile(y,0.6))"
   ]
  },
  {
   "cell_type": "code",
   "execution_count": 25,
   "metadata": {
    "collapsed": false
   },
   "outputs": [
    {
     "data": {
      "text/plain": [
       "1.00206"
      ]
     },
     "execution_count": 25,
     "metadata": {},
     "output_type": "execute_result"
    }
   ],
   "source": [
    "quantile(y,0.6)"
   ]
  },
  {
   "cell_type": "code",
   "execution_count": 26,
   "metadata": {
    "collapsed": false
   },
   "outputs": [
    {
     "ename": "LoadError",
     "evalue": "LoadError: BoundsError: attempt to access 10-element Array{Float64,1} at index [700]\nwhile loading In[26], in expression starting on line 1",
     "output_type": "error",
     "traceback": [
      "LoadError: BoundsError: attempt to access 10-element Array{Float64,1} at index [700]\nwhile loading In[26], in expression starting on line 1",
      "",
      " in execute_request(::ZMQ.Socket, ::IJulia.Msg) at /home/bastin/.julia/v0.5/IJulia/src/execute_request.jl:169",
      " in eventloop(::ZMQ.Socket) at /home/bastin/.julia/v0.5/IJulia/src/eventloop.jl:8",
      " in (::IJulia.##9#15)() at ./task.jl:360"
     ]
    }
   ],
   "source": [
    "y[700]"
   ]
  },
  {
   "cell_type": "code",
   "execution_count": 27,
   "metadata": {
    "collapsed": false
   },
   "outputs": [
    {
     "ename": "LoadError",
     "evalue": "LoadError: BoundsError: attempt to access 10-element Array{Float64,1} at index [700]\nwhile loading In[27], in expression starting on line 1",
     "output_type": "error",
     "traceback": [
      "LoadError: BoundsError: attempt to access 10-element Array{Float64,1} at index [700]\nwhile loading In[27], in expression starting on line 1",
      "",
      " in execute_request(::ZMQ.Socket, ::IJulia.Msg) at /home/bastin/.julia/v0.5/IJulia/src/execute_request.jl:169",
      " in eventloop(::ZMQ.Socket) at /home/bastin/.julia/v0.5/IJulia/src/eventloop.jl:8",
      " in (::IJulia.##9#15)() at ./task.jl:360"
     ]
    }
   ],
   "source": [
    "ef(y[700])"
   ]
  },
  {
   "cell_type": "code",
   "execution_count": 28,
   "metadata": {
    "collapsed": false
   },
   "outputs": [
    {
     "data": {
      "text/plain": [
       "6.0"
      ]
     },
     "execution_count": 28,
     "metadata": {},
     "output_type": "execute_result"
    }
   ],
   "source": [
    "ceil(n*0.6)"
   ]
  },
  {
   "cell_type": "code",
   "execution_count": 233,
   "metadata": {
    "collapsed": false
   },
   "outputs": [
    {
     "data": {
      "text/plain": [
       "1.0052"
      ]
     },
     "execution_count": 233,
     "metadata": {},
     "output_type": "execute_result"
    }
   ],
   "source": [
    "y[Int64(ceil(n*0.6))]"
   ]
  },
  {
   "cell_type": "code",
   "execution_count": 234,
   "metadata": {
    "collapsed": false
   },
   "outputs": [
    {
     "name": "stdout",
     "output_type": "stream",
     "text": [
      "search: quantile quantile! wquantile nquantile cquantile\n",
      "\n"
     ]
    },
    {
     "data": {
      "text/markdown": [
       "```\n",
       "quantile(v, p; sorted=false)\n",
       "```\n",
       "\n",
       "Compute the quantile(s) of a vector `v` at a specified probability or vector `p`. The keyword argument `sorted` indicates whether `v` can be assumed to be sorted.\n",
       "\n",
       "The `p` should be on the interval [0,1], and `v` should not have any `NaN` values.\n",
       "\n",
       "Quantiles are computed via linear interpolation between the points `((k-1)/(n-1), v[k])`, for `k = 1:n` where `n = length(v)`. This corresponds to Definition 7 of Hyndman and Fan (1996), and is the same as the R default.\n",
       "\n",
       "!!! note\n",
       "    Julia does not ignore `NaN` values in the computation. For applications requiring the handling of missing data, the `DataArrays.jl` package is recommended. `quantile` will throw an `ArgumentError` in the presence of `NaN` values in the data array.\n",
       "\n",
       "\n",
       "  * Hyndman, R.J and Fan, Y. (1996) \"Sample Quantiles in Statistical Packages\", *The American Statistician*, Vol. 50, No. 4, pp. 361-365\n",
       "\n",
       "```\n",
       "quantile(v, w::WeightVec, p)\n",
       "```\n",
       "\n",
       "Compute `p`th quantile(s) of `v` with weights `w`.\n"
      ],
      "text/plain": [
       "```\n",
       "quantile(v, p; sorted=false)\n",
       "```\n",
       "\n",
       "Compute the quantile(s) of a vector `v` at a specified probability or vector `p`. The keyword argument `sorted` indicates whether `v` can be assumed to be sorted.\n",
       "\n",
       "The `p` should be on the interval [0,1], and `v` should not have any `NaN` values.\n",
       "\n",
       "Quantiles are computed via linear interpolation between the points `((k-1)/(n-1), v[k])`, for `k = 1:n` where `n = length(v)`. This corresponds to Definition 7 of Hyndman and Fan (1996), and is the same as the R default.\n",
       "\n",
       "!!! note\n",
       "    Julia does not ignore `NaN` values in the computation. For applications requiring the handling of missing data, the `DataArrays.jl` package is recommended. `quantile` will throw an `ArgumentError` in the presence of `NaN` values in the data array.\n",
       "\n",
       "\n",
       "  * Hyndman, R.J and Fan, Y. (1996) \"Sample Quantiles in Statistical Packages\", *The American Statistician*, Vol. 50, No. 4, pp. 361-365\n",
       "\n",
       "```\n",
       "quantile(v, w::WeightVec, p)\n",
       "```\n",
       "\n",
       "Compute `p`th quantile(s) of `v` with weights `w`.\n"
      ]
     },
     "execution_count": 234,
     "metadata": {},
     "output_type": "execute_result"
    }
   ],
   "source": [
    "?quantile"
   ]
  },
  {
   "cell_type": "code",
   "execution_count": 272,
   "metadata": {
    "collapsed": false
   },
   "outputs": [
    {
     "data": {
      "text/plain": [
       "6-element Array{Int64,1}:\n",
       "  1\n",
       "  3\n",
       "  5\n",
       "  6\n",
       "  6\n",
       " 21"
      ]
     },
     "execution_count": 272,
     "metadata": {},
     "output_type": "execute_result"
    }
   ],
   "source": [
    "x = [1, 3, 5, 6, 6, 21]"
   ]
  },
  {
   "cell_type": "code",
   "execution_count": 273,
   "metadata": {
    "collapsed": false
   },
   "outputs": [
    {
     "data": {
      "text/plain": [
       "5.5"
      ]
     },
     "execution_count": 273,
     "metadata": {},
     "output_type": "execute_result"
    }
   ],
   "source": [
    "quantile(x,0.5)"
   ]
  },
  {
   "cell_type": "code",
   "execution_count": null,
   "metadata": {
    "collapsed": true
   },
   "outputs": [],
   "source": []
  },
  {
   "cell_type": "code",
   "execution_count": null,
   "metadata": {
    "collapsed": true
   },
   "outputs": [],
   "source": []
  }
 ],
 "metadata": {
  "kernelspec": {
   "display_name": "Julia 0.5.0",
   "language": "julia",
   "name": "julia-0.5"
  },
  "language_info": {
   "file_extension": ".jl",
   "mimetype": "application/julia",
   "name": "julia",
   "version": "0.5.0"
  }
 },
 "nbformat": 4,
 "nbformat_minor": 0
}
