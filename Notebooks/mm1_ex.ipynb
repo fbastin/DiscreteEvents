{
 "cells": [
  {
   "cell_type": "markdown",
   "metadata": {},
   "source": [
    "## Simulation of a M/M/1 queue using processes"
   ]
  },
  {
   "cell_type": "markdown",
   "metadata": {
    "collapsed": false
   },
   "source": [
    "This simulation is adapted from the Bank Renege example in Simjulia documentation: http://simjuliajl.readthedocs.io/en/stable/examples/1_bank_renege.html"
   ]
  },
  {
   "cell_type": "code",
   "execution_count": 14,
   "metadata": {
    "collapsed": false
   },
   "outputs": [],
   "source": [
    "using SimJulia\n",
    "using Distributions\n",
    "using RandomStreams"
   ]
  },
  {
   "cell_type": "markdown",
   "metadata": {
    "collapsed": false
   },
   "source": [
    "Let's first simulate a fixed number of clients."
   ]
  },
  {
   "cell_type": "code",
   "execution_count": 15,
   "metadata": {
    "collapsed": false
   },
   "outputs": [
    {
     "data": {
      "text/plain": [
       "customer (generic function with 2 methods)"
      ]
     },
     "execution_count": 15,
     "metadata": {},
     "output_type": "execute_result"
    }
   ],
   "source": [
    "const RANDOM_SEED = 200\n",
    "const NEW_CUSTOMERS = 5  # Total number of customers\n",
    "const INTERVAL_CUSTOMERS = 2.0  # Generate new customers roughly every x seconds\n",
    "const MEAN_SERVICE = 1.9\n",
    "\n",
    "function source(env::Environment, interval::Float64, counter::Resource, limit::Float64, nserved::Array{Int64,1})\n",
    "    nserved[1] = 0\n",
    "    i = 0\n",
    "    d = Exponential(interval)\n",
    "    while (true)\n",
    "        yield(Timeout(env, rand(d)))\n",
    "        if (now(env) > limit) break end\n",
    "        i += 1\n",
    "        Process(env, new_customer, i, counter, MEAN_SERVICE, new_waits)\n",
    "    end\n",
    "    nserved[1] = i\n",
    "end\n",
    "\n",
    "function customer(env::Environment, idx::Int, counter::Resource, time_in_system::Float64, waits::Array{Float64,1})\n",
    "    # Record the arrival time in the system\n",
    "    arrive = now(env)\n",
    "    println(\"$arrive: arrival of customer $idx\")\n",
    "    yield(Request(counter))\n",
    "    # The simulation clock now contains the time when the client goes to the server.\n",
    "    wait = now(env) - arrive\n",
    "    # Record the waiting time\n",
    "    waits = push!(waits, wait)\n",
    "    println(\"$(now(env)): customer $idx has waited $wait\")\n",
    "    yield(Timeout(env, rand(Exponential(time_in_system))))\n",
    "    println(\"$(now(env)): customer $idx: finished\")\n",
    "    yield(Release(counter))\n",
    "end"
   ]
  },
  {
   "cell_type": "code",
   "execution_count": 16,
   "metadata": {
    "collapsed": false
   },
   "outputs": [
    {
     "name": "stdout",
     "output_type": "stream",
     "text": [
      "M/M/1 with processes\n"
     ]
    },
    {
     "data": {
      "text/plain": [
       "SimJulia.Environment(0.0,Base.Collections.PriorityQueue{SimJulia.BaseEvent,SimJulia.EventKey,Base.Order.ForwardOrdering}(),0,0,Nullable{SimJulia.Process}())"
      ]
     },
     "execution_count": 16,
     "metadata": {},
     "output_type": "execute_result"
    }
   ],
   "source": [
    "# Setup and start the simulation\n",
    "println(\"M/M/1 with processes\")\n",
    "waits = Array(Float64, NEW_CUSTOMERS)\n",
    "srand(RANDOM_SEED)\n",
    "env = Environment()"
   ]
  },
  {
   "cell_type": "code",
   "execution_count": 18,
   "metadata": {
    "collapsed": false
   },
   "outputs": [
    {
     "name": "stdout",
     "output_type": "stream",
     "text": [
      "1.2050403125807367: arrival of customer 1\n",
      "1.2050403125807367: customer 1 has waited 0.0\n",
      "1.4181503510677775: arrival of customer 2\n",
      "1.7579446126823792: arrival of customer 3\n",
      "3.3655840436959545: arrival of customer 4\n",
      "3.5932863161203605: customer 1: finished\n",
      "3.5932863161203605: customer 2 has waited 2.1751359650525828\n",
      "3.6479776093878162: customer 2: finished\n",
      "3.6479776093878162: customer 3 has waited 1.890032996705437\n",
      "4.429115262189869: customer 3: finished\n",
      "4.429115262189869: customer 4 has waited 1.0635312184939147\n",
      "11.115163310168295: customer 4: finished\n"
     ]
    }
   ],
   "source": [
    "nserved = [ 0 ]\n",
    "srand(RANDOM_SEED)\n",
    "env = Environment()\n",
    "counter = Resource(env, 1)\n",
    "new_waits = Float64[]\n",
    "Process(env, new_source!, INTERVAL_CUSTOMERS, counter, 5.0, nserved)\n",
    "run(env)"
   ]
  },
  {
   "cell_type": "code",
   "execution_count": null,
   "metadata": {
    "collapsed": true
   },
   "outputs": [],
   "source": []
  }
 ],
 "metadata": {
  "kernelspec": {
   "display_name": "Julia 0.4.6",
   "language": "julia",
   "name": "julia-0.4"
  },
  "language_info": {
   "file_extension": ".jl",
   "mimetype": "application/julia",
   "name": "julia",
   "version": "0.5.0"
  }
 },
 "nbformat": 4,
 "nbformat_minor": 0
}
