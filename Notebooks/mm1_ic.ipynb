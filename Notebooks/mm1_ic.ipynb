{
 "cells": [
  {
   "cell_type": "markdown",
   "metadata": {},
   "source": [
    "## Simulation of a M/M/1 queue using processes"
   ]
  },
  {
   "cell_type": "code",
   "execution_count": 1,
   "metadata": {
    "collapsed": false
   },
   "outputs": [
    {
     "data": {
      "text/plain": [
       "Seed for next MRG32k3a generator:\n",
       "[12345,12345,12345,12345,12345,12345]"
      ]
     },
     "execution_count": 1,
     "metadata": {},
     "output_type": "execute_result"
    }
   ],
   "source": [
    "using SimJulia\n",
    "using Distributions\n",
    "using RandomStreams\n",
    "using Distributions\n",
    "\n",
    "const SEED = 12345\n",
    "\n",
    "rand_dist(rng::MRG32k3a, Dist::Distribution) = quantile(Dist, rand(rng))\n",
    "\n",
    "seeds = [SEED, SEED, SEED, SEED, SEED, SEED]\n",
    "gen = MRG32k3aGen(seeds)"
   ]
  },
  {
   "cell_type": "code",
   "execution_count": 2,
   "metadata": {
    "collapsed": false
   },
   "outputs": [
    {
     "data": {
      "text/plain": [
       "stdev (generic function with 1 method)"
      ]
     },
     "execution_count": 2,
     "metadata": {},
     "output_type": "execute_result"
    }
   ],
   "source": [
    "include(\"tally.jl\")"
   ]
  },
  {
   "cell_type": "code",
   "execution_count": 3,
   "metadata": {
    "collapsed": false
   },
   "outputs": [
    {
     "data": {
      "text/plain": [
       "add (generic function with 2 methods)"
      ]
     },
     "execution_count": 3,
     "metadata": {},
     "output_type": "execute_result"
    }
   ],
   "source": [
    "include(\"tallystore.jl\")"
   ]
  },
  {
   "cell_type": "code",
   "execution_count": 4,
   "metadata": {
    "collapsed": false
   },
   "outputs": [
    {
     "name": "stdout",
     "output_type": "stream",
     "text": [
      "M/M/1 with processes\n"
     ]
    },
    {
     "data": {
      "text/plain": [
       "restart (generic function with 1 method)"
      ]
     },
     "execution_count": 4,
     "metadata": {},
     "output_type": "execute_result"
    }
   ],
   "source": [
    "println(\"M/M/1 with processes\")\n",
    "\n",
    "#rates\n",
    "λ = 1.9\n",
    "μ = 2.0\n",
    "ρ = λ/μ\n",
    "\n",
    "type System\n",
    "    W\n",
    "    arrival\n",
    "    service\n",
    "    counter\n",
    "    arrgen\n",
    "    servgen\n",
    "    \n",
    "    function System(text::String)\n",
    "        s = new()\n",
    "        s.W = Tally(text)\n",
    "        s.arrival = Exponential(1.0/λ)\n",
    "        s.service = Exponential(1.0/μ)\n",
    "        s.arrgen = next_stream(gen)\n",
    "        s.servgen = next_stream(gen)\n",
    "        return s;\n",
    "    end\n",
    "end\n",
    "\n",
    "function restart(s::System)\n",
    "    init(s.W)\n",
    "    next_substream!(s.arrgen)\n",
    "    next_substream!(s.servgen)\n",
    "end"
   ]
  },
  {
   "cell_type": "code",
   "execution_count": 5,
   "metadata": {
    "collapsed": false
   },
   "outputs": [
    {
     "data": {
      "text/plain": [
       "System(Tally(\"Waiting Times\",0,0.0,Inf,-Inf,0.0,0.0,0.0),Distributions.Exponential{Float64}(θ=0.5263157894736842),Distributions.Exponential{Float64}(θ=0.5),#undef,Full state of MRG32k3a generator:\n",
       "Cg = [12345,12345,12345,12345,12345,12345]\n",
       "Bg = [12345,12345,12345,12345,12345,12345]\n",
       "Ig = [12345,12345,12345,12345,12345,12345],Full state of MRG32k3a generator:\n",
       "Cg = [3692455944,1366884236,2968912127,335948734,4161675175,475798818]\n",
       "Bg = [3692455944,1366884236,2968912127,335948734,4161675175,475798818]\n",
       "Ig = [3692455944,1366884236,2968912127,335948734,4161675175,475798818])"
      ]
     },
     "execution_count": 5,
     "metadata": {},
     "output_type": "execute_result"
    }
   ],
   "source": [
    "s = System(\"Waiting Times\")"
   ]
  },
  {
   "cell_type": "code",
   "execution_count": 6,
   "metadata": {
    "collapsed": false
   },
   "outputs": [
    {
     "data": {
      "text/plain": [
       "customer (generic function with 1 method)"
      ]
     },
     "execution_count": 6,
     "metadata": {},
     "output_type": "execute_result"
    }
   ],
   "source": [
    "# Allow a simulation with a fixed number of clients\n",
    "function source(env::Environment, s::System, counter::Resource, limit::Float64)\n",
    "    i = 0\n",
    "    while (true)\n",
    "        yield(Timeout(env, rand_dist(s.arrgen, s.arrival)))\n",
    "        if (now(env) > limit) break end\n",
    "        i += 1\n",
    "        Process(env, customer, s, i, counter)\n",
    "    end\n",
    "end\n",
    "\n",
    "function source_fixed(env::Environment, s::System, counter::Resource, nCusts::Int64)\n",
    "    for i = 1:nCusts\n",
    "        yield(Timeout(env, rand_dist(s.arrgen, s.arrival)))\n",
    "        Process(env, customer, s, i, counter)\n",
    "    end\n",
    "end\n",
    "\n",
    "function customer(env::Environment, s::System, idx::Int, counter::Resource)\n",
    "    # Record the arrival time in the system\n",
    "    arrive = now(env)\n",
    "    yield(Request(counter))\n",
    "    # The simulation clock now contains the time when the client goes to the server.\n",
    "    wait = now(env) - arrive\n",
    "    # Record the waiting time\n",
    "    add(s.W, wait)\n",
    "    yield(Timeout(env, rand_dist(s.servgen, s.service)))\n",
    "    yield(Release(counter))\n",
    "end"
   ]
  },
  {
   "cell_type": "code",
   "execution_count": 7,
   "metadata": {
    "collapsed": false
   },
   "outputs": [
    {
     "data": {
      "text/plain": [
       "onesim (generic function with 1 method)"
      ]
     },
     "execution_count": 7,
     "metadata": {},
     "output_type": "execute_result"
    }
   ],
   "source": [
    "function onesim(s::System)    \n",
    "    env = Environment()\n",
    "    s.counter = Resource(env, 1)\n",
    "    \n",
    "    Process(env, source_fixed, s, s.counter, 10000)\n",
    "    run(env)\n",
    "end"
   ]
  },
  {
   "cell_type": "code",
   "execution_count": 8,
   "metadata": {
    "collapsed": false
   },
   "outputs": [],
   "source": [
    "onesim(s)"
   ]
  },
  {
   "cell_type": "code",
   "execution_count": 9,
   "metadata": {
    "collapsed": false
   },
   "outputs": [
    {
     "data": {
      "text/plain": [
       "8.630432848122487"
      ]
     },
     "execution_count": 9,
     "metadata": {},
     "output_type": "execute_result"
    }
   ],
   "source": [
    "average(s.W)"
   ]
  },
  {
   "cell_type": "code",
   "execution_count": 10,
   "metadata": {
    "collapsed": false
   },
   "outputs": [
    {
     "data": {
      "text/plain": [
       "58.047664581853155"
      ]
     },
     "execution_count": 10,
     "metadata": {},
     "output_type": "execute_result"
    }
   ],
   "source": [
    "variance(s.W)"
   ]
  },
  {
   "cell_type": "code",
   "execution_count": 11,
   "metadata": {
    "collapsed": false
   },
   "outputs": [
    {
     "data": {
      "text/plain": [
       "TallyStore(Float64[],Tally(\"Temps d'attente moyen\",0,0.0,Inf,-Inf,0.0,0.0,0.0))"
      ]
     },
     "execution_count": 11,
     "metadata": {},
     "output_type": "execute_result"
    }
   ],
   "source": [
    "meanWaits = TallyStore(\"Temps d'attente moyen\")"
   ]
  },
  {
   "cell_type": "code",
   "execution_count": 12,
   "metadata": {
    "collapsed": false
   },
   "outputs": [
    {
     "data": {
      "text/plain": [
       "100"
      ]
     },
     "execution_count": 12,
     "metadata": {},
     "output_type": "execute_result"
    }
   ],
   "source": [
    "Nobs = 100"
   ]
  },
  {
   "cell_type": "code",
   "execution_count": 13,
   "metadata": {
    "collapsed": false
   },
   "outputs": [
    {
     "name": "stdout",
     "output_type": "stream",
     "text": [
      "Sim 1. Average waiting time: 7.550875546475624. Number of observations: 10000\n",
      "Sim 2. Average waiting time: 6.135640065836502. Number of observations: 10000\n",
      "Sim 3. Average waiting time: 18.479700395704146. Number of observations: 10000\n",
      "Sim 4. Average waiting time: 7.1030035604970845. Number of observations: 10000\n",
      "Sim 5. Average waiting time: 8.403267787576848. Number of observations: 10000\n",
      "Sim 6. Average waiting time: 6.415659416467969. Number of observations: 10000\n",
      "Sim 7. Average waiting time: 8.73956120790153. Number of observations: 10000\n",
      "Sim 8. Average waiting time: 13.827590833432248. Number of observations: 10000\n",
      "Sim 9. Average waiting time: 7.2529369795613725. Number of observations: 10000\n",
      "Sim 10. Average waiting time: 6.972471705468727. Number of observations: 10000\n",
      "Sim 11. Average waiting time: 25.000757727815806. Number of observations: 10000\n",
      "Sim 12. Average waiting time: 10.403505705804962. Number of observations: 10000\n",
      "Sim 13. Average waiting time: 6.573875031066891. Number of observations: 10000\n",
      "Sim 14. Average waiting time: 10.59801953586115. Number of observations: 10000\n",
      "Sim 15. Average waiting time: 8.302029107642944. Number of observations: 10000\n",
      "Sim 16. Average waiting time: 7.670967466513667. Number of observations: 10000\n",
      "Sim 17. Average waiting time: 9.775903650802116. Number of observations: 10000\n",
      "Sim 18. Average waiting time: 9.161448453860864. Number of observations: 10000\n",
      "Sim 19. Average waiting time: 12.137548343076784. Number of observations: 10000\n",
      "Sim 20. Average waiting time: 8.59635881725057. Number of observations: 10000\n",
      "Sim 21. Average waiting time: 7.312929088624517. Number of observations: 10000\n",
      "Sim 22. Average waiting time: 8.082020323542743. Number of observations: 10000\n",
      "Sim 23. Average waiting time: 5.796859303524818. Number of observations: 10000\n",
      "Sim 24. Average waiting time: 8.7250996977843. Number of observations: 10000\n",
      "Sim 25. Average waiting time: 10.567276957996386. Number of observations: 10000\n",
      "Sim 26. Average waiting time: 8.35159955100831. Number of observations: 10000\n",
      "Sim 27. Average waiting time: 7.846275921044625. Number of observations: 10000\n",
      "Sim 28. Average waiting time: 8.899368987086719. Number of observations: 10000\n",
      "Sim 29. Average waiting time: 12.597841058981693. Number of observations: 10000\n",
      "Sim 30. Average waiting time: 8.750700947098036. Number of observations: 10000\n",
      "Sim 31. Average waiting time: 12.21515119475553. Number of observations: 10000\n",
      "Sim 32. Average waiting time: 8.52527734482534. Number of observations: 10000\n",
      "Sim 33. Average waiting time: 8.680207530971977. Number of observations: 10000\n",
      "Sim 34. Average waiting time: 10.848071147112938. Number of observations: 10000\n",
      "Sim 35. Average waiting time: 6.636960390277445. Number of observations: 10000\n",
      "Sim 36. Average waiting time: 10.15161077276834. Number of observations: 10000\n",
      "Sim 37. Average waiting time: 18.472365677350737. Number of observations: 10000\n",
      "Sim 38. Average waiting time: 12.465040782002. Number of observations: 10000\n",
      "Sim 39. Average waiting time: 15.672132998968967. Number of observations: 10000\n",
      "Sim 40. Average waiting time: 8.39655186879722. Number of observations: 10000\n",
      "Sim 41. Average waiting time: 12.468352534821092. Number of observations: 10000\n",
      "Sim 42. Average waiting time: 6.745994420404428. Number of observations: 10000\n",
      "Sim 43. Average waiting time: 6.393493809960708. Number of observations: 10000\n",
      "Sim 44. Average waiting time: 10.785812374891092. Number of observations: 10000\n",
      "Sim 45. Average waiting time: 8.358377212698135. Number of observations: 10000\n",
      "Sim 46. Average waiting time: 11.640812378656275. Number of observations: 10000\n",
      "Sim 47. Average waiting time: 7.708491948405319. Number of observations: 10000\n",
      "Sim 48. Average waiting time: 6.610284958413338. Number of observations: 10000\n",
      "Sim 49. Average waiting time: 8.349272036464981. Number of observations: 10000\n",
      "Sim 50. Average waiting time: 10.040841692337187. Number of observations: 10000\n",
      "Sim 51. Average waiting time: 19.252682756661844. Number of observations: 10000\n",
      "Sim 52. Average waiting time: 5.256290598915242. Number of observations: 10000\n",
      "Sim 53. Average waiting time: 23.398687352001488. Number of observations: 10000\n",
      "Sim 54. Average waiting time: 11.38000216727769. Number of observations: 10000\n",
      "Sim 55. Average waiting time: 8.220315531084587. Number of observations: 10000\n",
      "Sim 56. Average waiting time: 7.5673280082090635. Number of observations: 10000\n",
      "Sim 57. Average waiting time: 10.028287913393807. Number of observations: 10000\n",
      "Sim 58. Average waiting time: 8.229687683095229. Number of observations: 10000\n",
      "Sim 59. Average waiting time: 9.765994102863353. Number of observations: 10000\n",
      "Sim 60. Average waiting time: 9.098813984165014. Number of observations: 10000\n",
      "Sim 61. Average waiting time: 8.42558901744938. Number of observations: 10000\n",
      "Sim 62. Average waiting time: 5.610610870643271. Number of observations: 10000\n",
      "Sim 63. Average waiting time: 7.375631305064171. Number of observations: 10000\n",
      "Sim 64. Average waiting time: 7.696562549029279. Number of observations: 10000\n",
      "Sim 65. Average waiting time: 6.678604708627378. Number of observations: 10000\n",
      "Sim 66. Average waiting time: 8.982336545700855. Number of observations: 10000\n",
      "Sim 67. Average waiting time: 15.521364809294722. Number of observations: 10000\n",
      "Sim 68. Average waiting time: 6.0131431880542525. Number of observations: 10000\n",
      "Sim 69. Average waiting time: 8.475354599687648. Number of observations: 10000\n",
      "Sim 70. Average waiting time: 6.835090794667892. Number of observations: 10000\n",
      "Sim 71. Average waiting time: 11.004517757543574. Number of observations: 10000\n",
      "Sim 72. Average waiting time: 4.333467973786756. Number of observations: 10000\n",
      "Sim 73. Average waiting time: 14.236020681448935. Number of observations: 10000\n",
      "Sim 74. Average waiting time: 8.752754742403631. Number of observations: 10000\n",
      "Sim 75. Average waiting time: 8.352449176930318. Number of observations: 10000\n",
      "Sim 76. Average waiting time: 7.832362865396419. Number of observations: 10000\n",
      "Sim 77. Average waiting time: 7.3480511423385035. Number of observations: 10000\n",
      "Sim 78. Average waiting time: 7.363887962772469. Number of observations: 10000\n",
      "Sim 79. Average waiting time: 10.239940177557065. Number of observations: 10000\n",
      "Sim 80. Average waiting time: 10.99086745663789. Number of observations: 10000\n",
      "Sim 81. Average waiting time: 12.987964211500442. Number of observations: 10000\n",
      "Sim 82. Average waiting time: 9.156572585651364. Number of observations: 10000\n",
      "Sim 83. Average waiting time: 9.987819465134903. Number of observations: 10000\n",
      "Sim 84. Average waiting time: 6.224500234931603. Number of observations: 10000\n",
      "Sim 85. Average waiting time: 4.309563619007913. Number of observations: 10000\n",
      "Sim 86. Average waiting time: 6.099212347029085. Number of observations: 10000\n",
      "Sim 87. Average waiting time: 19.781836101003204. Number of observations: 10000\n",
      "Sim 88. Average waiting time: 9.42091418306728. Number of observations: 10000\n",
      "Sim 89. Average waiting time: 17.44075038328643. Number of observations: 10000\n",
      "Sim 90. Average waiting time: 11.09368379323515. Number of observations: 10000\n",
      "Sim 91. Average waiting time: 5.855314115022598. Number of observations: 10000\n",
      "Sim 92. Average waiting time: 5.287724985892333. Number of observations: 10000\n",
      "Sim 93. Average waiting time: 7.671024147330372. Number of observations: 10000\n",
      "Sim 94. Average waiting time: 5.934812617614721. Number of observations: 10000\n",
      "Sim 95. Average waiting time: 7.583350457447502. Number of observations: 10000\n",
      "Sim 96. Average waiting time: 8.426929923217156. Number of observations: 10000\n",
      "Sim 97. Average waiting time: 8.40186894534914. Number of observations: 10000\n",
      "Sim 98. Average waiting time: 8.587434937736656. Number of observations: 10000\n",
      "Sim 99. Average waiting time: 6.846353251046987. Number of observations: 10000\n",
      "Sim 100. Average waiting time: 5.946051568878529. Number of observations: 10000\n"
     ]
    }
   ],
   "source": [
    "for n=1:Nobs\n",
    "    restart(s)\n",
    "    onesim(s)\n",
    "    w = average(s.W)\n",
    "    N = nobs(s.W)\n",
    "    add(meanWaits, w)\n",
    "    println(\"Sim $n. Average waiting time: $w. Number of observations: $N\")\n",
    "end"
   ]
  },
  {
   "cell_type": "code",
   "execution_count": 14,
   "metadata": {
    "collapsed": false
   },
   "outputs": [
    {
     "data": {
      "text/plain": [
       "9.485065765462775"
      ]
     },
     "execution_count": 14,
     "metadata": {},
     "output_type": "execute_result"
    }
   ],
   "source": [
    "average(meanWaits.t)"
   ]
  },
  {
   "cell_type": "code",
   "execution_count": 15,
   "metadata": {
    "collapsed": false
   },
   "outputs": [
    {
     "data": {
      "text/plain": [
       "14.333654709875363"
      ]
     },
     "execution_count": 15,
     "metadata": {},
     "output_type": "execute_result"
    }
   ],
   "source": [
    "variance(meanWaits.t)"
   ]
  },
  {
   "cell_type": "code",
   "execution_count": 23,
   "metadata": {
    "collapsed": false
   },
   "outputs": [
    {
     "data": {
      "text/plain": [
       "3.7859813404024276"
      ]
     },
     "execution_count": 23,
     "metadata": {},
     "output_type": "execute_result"
    }
   ],
   "source": [
    "stdev(meanWaits.t)"
   ]
  },
  {
   "cell_type": "code",
   "execution_count": 16,
   "metadata": {
    "collapsed": false
   },
   "outputs": [
    {
     "data": {
      "text/plain": [
       "14.333654709875377"
      ]
     },
     "execution_count": 16,
     "metadata": {},
     "output_type": "execute_result"
    }
   ],
   "source": [
    "var(meanWaits.obs)"
   ]
  },
  {
   "cell_type": "code",
   "execution_count": 17,
   "metadata": {
    "collapsed": false
   },
   "outputs": [
    {
     "data": {
      "text/plain": [
       "ci_normal (generic function with 1 method)"
      ]
     },
     "execution_count": 17,
     "metadata": {},
     "output_type": "execute_result"
    }
   ],
   "source": [
    "function ci_normal(n::Int64, mean::Float64, stdev::Float64, α::Float64)\n",
    "    z = quantile(Normal(), 1-α/2)\n",
    "    w = z*stdev/sqrt(n)\n",
    "    # Lower bound\n",
    "    l = mean - w\n",
    "    # Upper bound\n",
    "    u = mean + w\n",
    "    \n",
    "    return l, u\n",
    "end"
   ]
  },
  {
   "cell_type": "code",
   "execution_count": 18,
   "metadata": {
    "collapsed": false
   },
   "outputs": [
    {
     "data": {
      "text/plain": [
       "(8.74302705812983,10.22710447279572)"
      ]
     },
     "execution_count": 18,
     "metadata": {},
     "output_type": "execute_result"
    }
   ],
   "source": [
    "ci_normal(nobs(meanWaits.t), average(meanWaits.t), stdev(meanWaits.t), 0.05)"
   ]
  },
  {
   "cell_type": "code",
   "execution_count": 19,
   "metadata": {
    "collapsed": false,
    "scrolled": true
   },
   "outputs": [
    {
     "data": {
      "text/plain": [
       "ci_tdist (generic function with 1 method)"
      ]
     },
     "execution_count": 19,
     "metadata": {},
     "output_type": "execute_result"
    }
   ],
   "source": [
    "function ci_tdist(n::Int64, mean::Float64, stdev::Float64, α::Float64)\n",
    "    z = quantile(TDist(n-1), 1-α/2)\n",
    "    w = z*stdev/sqrt(n)\n",
    "    # Lower bound\n",
    "    l = mean - w\n",
    "    # Upper bound\n",
    "    u = mean + w\n",
    "    \n",
    "    return l, u\n",
    "end"
   ]
  },
  {
   "cell_type": "code",
   "execution_count": 20,
   "metadata": {
    "collapsed": false
   },
   "outputs": [
    {
     "data": {
      "text/plain": [
       "(8.729965100548558,10.240166430376991)"
      ]
     },
     "execution_count": 20,
     "metadata": {},
     "output_type": "execute_result"
    }
   ],
   "source": [
    "ci_tdist(nobs(meanWaits.t)-1, average(meanWaits.t), stdev(meanWaits.t), 0.05)"
   ]
  },
  {
   "cell_type": "markdown",
   "metadata": {},
   "source": [
    "Average waiting time according to M/M/1 formulas. In stationnary regime, the mean waiting time is\n",
    "$$ \\overline{W} = \\frac{\\frac{\\rho}{\\mu}}{1-\\rho} = \\frac{\\rho}{\\mu-\\lambda}. $$"
   ]
  },
  {
   "cell_type": "code",
   "execution_count": 21,
   "metadata": {
    "collapsed": false
   },
   "outputs": [
    {
     "data": {
      "text/plain": [
       "9.499999999999991"
      ]
     },
     "execution_count": 21,
     "metadata": {},
     "output_type": "execute_result"
    }
   ],
   "source": [
    "w = (ρ/μ)/(1-ρ)"
   ]
  },
  {
   "cell_type": "code",
   "execution_count": 22,
   "metadata": {
    "collapsed": false
   },
   "outputs": [
    {
     "data": {
      "text/plain": [
       "100-element Array{Float64,1}:\n",
       "  4.30956\n",
       "  4.33347\n",
       "  5.25629\n",
       "  5.28772\n",
       "  5.61061\n",
       "  5.79686\n",
       "  5.85531\n",
       "  5.93481\n",
       "  5.94605\n",
       "  6.01314\n",
       "  6.09921\n",
       "  6.13564\n",
       "  6.2245 \n",
       "  ⋮      \n",
       " 12.988  \n",
       " 13.8276 \n",
       " 14.236  \n",
       " 15.5214 \n",
       " 15.6721 \n",
       " 17.4408 \n",
       " 18.4724 \n",
       " 18.4797 \n",
       " 19.2527 \n",
       " 19.7818 \n",
       " 23.3987 \n",
       " 25.0008 "
      ]
     },
     "execution_count": 22,
     "metadata": {},
     "output_type": "execute_result"
    }
   ],
   "source": [
    "sortedObs = sort(meanWaits.obs)"
   ]
  },
  {
   "cell_type": "markdown",
   "metadata": {},
   "source": [
    "Bootstrap?"
   ]
  },
  {
   "cell_type": "code",
   "execution_count": null,
   "metadata": {
    "collapsed": false
   },
   "outputs": [],
   "source": [
    "# Construct a bootstrap sample\n",
    "unif=next_stream(gen)"
   ]
  },
  {
   "cell_type": "code",
   "execution_count": null,
   "metadata": {
    "collapsed": false
   },
   "outputs": [],
   "source": [
    "m = 200\n",
    "\n",
    "wboostrap = TallyStore(\"Boostrap estimator\")"
   ]
  },
  {
   "cell_type": "code",
   "execution_count": null,
   "metadata": {
    "collapsed": false
   },
   "outputs": [],
   "source": [
    "for j = 1:m\n",
    "    xb = Array(Float64,Nobs)\n",
    "    for i=1:Nobs\n",
    "        k = Int64(ceil(rand(unif)*Nobs))\n",
    "        xb[i] = meanWaits.obs[k]\n",
    "    end\n",
    "    add(wboostrap, mean(xb))\n",
    "end"
   ]
  },
  {
   "cell_type": "code",
   "execution_count": null,
   "metadata": {
    "collapsed": false
   },
   "outputs": [],
   "source": [
    "average(wboostrap.t)"
   ]
  },
  {
   "cell_type": "code",
   "execution_count": null,
   "metadata": {
    "collapsed": false
   },
   "outputs": [],
   "source": [
    "sortwb = sort(wboostrap.obs)"
   ]
  },
  {
   "cell_type": "code",
   "execution_count": null,
   "metadata": {
    "collapsed": false
   },
   "outputs": [],
   "source": [
    "stdev(meanWaits.t)"
   ]
  },
  {
   "cell_type": "code",
   "execution_count": null,
   "metadata": {
    "collapsed": false
   },
   "outputs": [],
   "source": [
    "α = 0.05\n",
    "ceil(m*(1-α/2))"
   ]
  },
  {
   "cell_type": "code",
   "execution_count": null,
   "metadata": {
    "collapsed": false
   },
   "outputs": [],
   "source": [
    "ceil(m*α/2)"
   ]
  },
  {
   "cell_type": "code",
   "execution_count": null,
   "metadata": {
    "collapsed": false
   },
   "outputs": [],
   "source": [
    "y = average(meanWaits.t)"
   ]
  },
  {
   "cell_type": "code",
   "execution_count": null,
   "metadata": {
    "collapsed": false
   },
   "outputs": [],
   "source": [
    "2*y-sortwb[195]"
   ]
  },
  {
   "cell_type": "code",
   "execution_count": null,
   "metadata": {
    "collapsed": false
   },
   "outputs": [],
   "source": [
    "2*y-sortwb[5]"
   ]
  },
  {
   "cell_type": "code",
   "execution_count": null,
   "metadata": {
    "collapsed": true
   },
   "outputs": [],
   "source": []
  }
 ],
 "metadata": {
  "kernelspec": {
   "display_name": "Julia 0.5.0",
   "language": "julia",
   "name": "julia-0.5"
  },
  "language_info": {
   "file_extension": ".jl",
   "mimetype": "application/julia",
   "name": "julia",
   "version": "0.5.0"
  }
 },
 "nbformat": 4,
 "nbformat_minor": 0
}
