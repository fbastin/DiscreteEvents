{
 "cells": [
  {
   "cell_type": "markdown",
   "metadata": {},
   "source": [
    "## Simulation of a M/M/1 queue\n",
    "\n",
    "### Confidence interval on average waiting time using batch means"
   ]
  },
  {
   "cell_type": "code",
   "execution_count": 1,
   "metadata": {
    "collapsed": false
   },
   "outputs": [
    {
     "data": {
      "text/plain": [
       "Seed for next MRG32k3a generator:\n",
       "[12345,12345,12345,12345,12345,12345]"
      ]
     },
     "execution_count": 1,
     "metadata": {},
     "output_type": "execute_result"
    }
   ],
   "source": [
    "using SimJulia\n",
    "using Distributions\n",
    "using RandomStreams\n",
    "using Distributions\n",
    "\n",
    "const SEED = 12345\n",
    "\n",
    "rand_dist(rng::MRG32k3a, Dist::Distribution) = quantile(Dist, rand(rng))\n",
    "\n",
    "seeds = [SEED, SEED, SEED, SEED, SEED, SEED]\n",
    "gen = MRG32k3aGen(seeds)"
   ]
  },
  {
   "cell_type": "code",
   "execution_count": 2,
   "metadata": {
    "collapsed": false
   },
   "outputs": [
    {
     "data": {
      "text/plain": [
       "stdev (generic function with 1 method)"
      ]
     },
     "execution_count": 2,
     "metadata": {},
     "output_type": "execute_result"
    }
   ],
   "source": [
    "include(\"tally.jl\")"
   ]
  },
  {
   "cell_type": "code",
   "execution_count": 3,
   "metadata": {
    "collapsed": false
   },
   "outputs": [
    {
     "data": {
      "text/plain": [
       "add (generic function with 2 methods)"
      ]
     },
     "execution_count": 3,
     "metadata": {},
     "output_type": "execute_result"
    }
   ],
   "source": [
    "include(\"tallystore.jl\")"
   ]
  },
  {
   "cell_type": "code",
   "execution_count": 4,
   "metadata": {
    "collapsed": false
   },
   "outputs": [
    {
     "name": "stdout",
     "output_type": "stream",
     "text": [
      "M/M/1 with processes\n"
     ]
    },
    {
     "data": {
      "text/plain": [
       "restart (generic function with 1 method)"
      ]
     },
     "execution_count": 4,
     "metadata": {},
     "output_type": "execute_result"
    }
   ],
   "source": [
    "println(\"M/M/1 with processes\")\n",
    "\n",
    "#rates\n",
    "λ = 1.9\n",
    "μ = 2.0\n",
    "ρ = λ/μ\n",
    "\n",
    "warmup = 500 # this should be set with a formal procedure\n",
    "\n",
    "type System\n",
    "    W\n",
    "    arrival\n",
    "    service\n",
    "    counter\n",
    "    arrgen\n",
    "    servgen\n",
    "    \n",
    "    function System(text::String)\n",
    "        s = new()\n",
    "        s.W = Tally(text)\n",
    "        s.arrival = Exponential(1.0/λ)\n",
    "        s.service = Exponential(1.0/μ)\n",
    "        s.arrgen = next_stream(gen)\n",
    "        s.servgen = next_stream(gen)\n",
    "        return s;\n",
    "    end\n",
    "end\n",
    "\n",
    "function restart(s::System)\n",
    "    init(s.W)\n",
    "    next_substream!(s.arrgen)\n",
    "    next_substream!(s.servgen)\n",
    "end"
   ]
  },
  {
   "cell_type": "code",
   "execution_count": 5,
   "metadata": {
    "collapsed": false
   },
   "outputs": [
    {
     "data": {
      "text/plain": [
       "System(Tally(\"Waiting Times\",0,0.0,Inf,-Inf,0.0,0.0,0.0),Distributions.Exponential{Float64}(θ=0.5263157894736842),Distributions.Exponential{Float64}(θ=0.5),#undef,Full state of MRG32k3a generator:\n",
       "Cg = [12345,12345,12345,12345,12345,12345]\n",
       "Bg = [12345,12345,12345,12345,12345,12345]\n",
       "Ig = [12345,12345,12345,12345,12345,12345],Full state of MRG32k3a generator:\n",
       "Cg = [3692455944,1366884236,2968912127,335948734,4161675175,475798818]\n",
       "Bg = [3692455944,1366884236,2968912127,335948734,4161675175,475798818]\n",
       "Ig = [3692455944,1366884236,2968912127,335948734,4161675175,475798818])"
      ]
     },
     "execution_count": 5,
     "metadata": {},
     "output_type": "execute_result"
    }
   ],
   "source": [
    "s = System(\"Waiting Times\")"
   ]
  },
  {
   "cell_type": "code",
   "execution_count": 9,
   "metadata": {
    "collapsed": false
   },
   "outputs": [
    {
     "data": {
      "text/plain": [
       "10000"
      ]
     },
     "execution_count": 9,
     "metadata": {},
     "output_type": "execute_result"
    }
   ],
   "source": [
    "meanWaits = Tally(\"Mean waiting times\")\n",
    "\n",
    "k = 30            # number of batches\n",
    "batchSize = 10000 # number of clients per batch"
   ]
  },
  {
   "cell_type": "code",
   "execution_count": 6,
   "metadata": {
    "collapsed": false
   },
   "outputs": [
    {
     "data": {
      "text/plain": [
       "customer (generic function with 1 method)"
      ]
     },
     "execution_count": 6,
     "metadata": {},
     "output_type": "execute_result"
    }
   ],
   "source": [
    "# Allow a simulation with a fixed horizon\n",
    "\n",
    "function source(env::Environment, s::System, limit::Float64)\n",
    "    i = 0\n",
    "    while (true)\n",
    "        yield(Timeout(env, rand_dist(s.arrgen, s.arrival)))\n",
    "        if (now(env) > limit) break end\n",
    "        i += 1\n",
    "        Process(env, customer, s, i, s.counter)\n",
    "    end\n",
    "end\n",
    "\n",
    "# Allow a simulation with a fixed number of clients\n",
    "\n",
    "function source(env::Environment, s::System, nCusts::Int64)\n",
    "    for i = 1:nCusts\n",
    "        yield(Timeout(env, rand_dist(s.arrgen, s.arrival)))\n",
    "        Process(env, customer, s, i, s.counter)\n",
    "    end\n",
    "end\n",
    "\n",
    "function customer(env::Environment, s::System, idx::Int, counter::Resource)\n",
    "    # Record the arrival time in the system\n",
    "    arrive = now(env)\n",
    "    yield(Request(counter))\n",
    "    # The simulation clock now contains the time when the client goes to the server.\n",
    "    # Record the waiting time\n",
    "    if (idx > warmup)\n",
    "        wait = now(env) - arrive\n",
    "        add(s.W, wait)\n",
    "        # Check if we have a new batch\n",
    "        if ((idx - warmup) % batchSize == 0)\n",
    "            # Collect the information of the elapsed batch\n",
    "            println(\"Batch. Average waiting time: \", average(s.W),\n",
    "                    \"Number of observations: \", nobs(s.W))\n",
    "            add(meanWaits, average(s.W))\n",
    "            init(s.W)\n",
    "        end\n",
    "    end\n",
    "    yield(Timeout(env, rand_dist(s.servgen, s.service)))\n",
    "    yield(Release(counter))\n",
    "end"
   ]
  },
  {
   "cell_type": "code",
   "execution_count": 7,
   "metadata": {
    "collapsed": false
   },
   "outputs": [
    {
     "data": {
      "text/plain": [
       "onesim (generic function with 1 method)"
      ]
     },
     "execution_count": 7,
     "metadata": {},
     "output_type": "execute_result"
    }
   ],
   "source": [
    "function onesim(s::System)    \n",
    "    env = Environment()\n",
    "    s.counter = Resource(env, 1)\n",
    "    \n",
    "    Process(env, source, s, warmup+k*batchSize)\n",
    "    run(env)\n",
    "end"
   ]
  },
  {
   "cell_type": "code",
   "execution_count": 10,
   "metadata": {
    "collapsed": false
   },
   "outputs": [
    {
     "name": "stdout",
     "output_type": "stream",
     "text": [
      "Batch. Average waiting time: 8.621755467420913Number of observations: 10000\n",
      "Batch. Average waiting time: 7.398029305875097Number of observations: 10000\n",
      "Batch. Average waiting time: 9.046167606371142Number of observations: 10000\n",
      "Batch. Average waiting time: 8.161309524502816Number of observations: 10000\n",
      "Batch. Average waiting time: 10.867060883206099Number of observations: 10000\n",
      "Batch. Average waiting time: 8.251634028351802Number of observations: 10000\n",
      "Batch. Average waiting time: 10.74186672496718Number of observations: 10000\n",
      "Batch. Average waiting time: 15.372885210881343Number of observations: 10000\n",
      "Batch. Average waiting time: 6.5273934272794945Number of observations: 10000\n",
      "Batch. Average waiting time: 10.858159453177263Number of observations: 10000\n",
      "Batch. Average waiting time: 6.775052429493656Number of observations: 10000\n",
      "Batch. Average waiting time: 8.583728105781306Number of observations: 10000\n",
      "Batch. Average waiting time: 13.761091699137285Number of observations: 10000\n",
      "Batch. Average waiting time: 11.761739529831425Number of observations: 10000\n",
      "Batch. Average waiting time: 7.839947241178255Number of observations: 10000\n",
      "Batch. Average waiting time: 13.175341674302198Number of observations: 10000\n",
      "Batch. Average waiting time: 7.561304927962882Number of observations: 10000\n",
      "Batch. Average waiting time: 12.375469083609321Number of observations: 10000\n",
      "Batch. Average waiting time: 11.657675031947543Number of observations: 10000\n",
      "Batch. Average waiting time: 9.88746221743163Number of observations: 10000\n",
      "Batch. Average waiting time: 11.829701392170858Number of observations: 10000\n",
      "Batch. Average waiting time: 6.581724195480052Number of observations: 10000\n",
      "Batch. Average waiting time: 16.681128014725978Number of observations: 10000\n",
      "Batch. Average waiting time: 6.591455453355905Number of observations: 10000\n",
      "Batch. Average waiting time: 6.43485254499561Number of observations: 10000\n",
      "Batch. Average waiting time: 5.867099371725206Number of observations: 10000\n",
      "Batch. Average waiting time: 6.720846523451426Number of observations: 10000\n",
      "Batch. Average waiting time: 9.056576222625335Number of observations: 10000\n",
      "Batch. Average waiting time: 10.68069589932742Number of observations: 10000\n",
      "Batch. Average waiting time: 9.090939486755488Number of observations: 10000\n"
     ]
    }
   ],
   "source": [
    "onesim(s)"
   ]
  },
  {
   "cell_type": "code",
   "execution_count": 11,
   "metadata": {
    "collapsed": false
   },
   "outputs": [
    {
     "data": {
      "text/plain": [
       "9.625336422577398"
      ]
     },
     "execution_count": 11,
     "metadata": {},
     "output_type": "execute_result"
    }
   ],
   "source": [
    "average(meanWaits)"
   ]
  },
  {
   "cell_type": "code",
   "execution_count": 12,
   "metadata": {
    "collapsed": false
   },
   "outputs": [
    {
     "data": {
      "text/plain": [
       "30"
      ]
     },
     "execution_count": 12,
     "metadata": {},
     "output_type": "execute_result"
    }
   ],
   "source": [
    "nobs(meanWaits)"
   ]
  },
  {
   "cell_type": "code",
   "execution_count": 13,
   "metadata": {
    "collapsed": false
   },
   "outputs": [
    {
     "data": {
      "text/plain": [
       "ci_normal (generic function with 1 method)"
      ]
     },
     "execution_count": 13,
     "metadata": {},
     "output_type": "execute_result"
    }
   ],
   "source": [
    "function ci_normal(n::Int64, mean::Float64, stdev::Float64, α::Float64)\n",
    "    z = quantile(Normal(), 1-α/2)\n",
    "    w = z*stdev/sqrt(n)\n",
    "    # Lower bound\n",
    "    l = mean - w\n",
    "    # Upper bound\n",
    "    u = mean + w\n",
    "    \n",
    "    return l, u\n",
    "end"
   ]
  },
  {
   "cell_type": "code",
   "execution_count": 14,
   "metadata": {
    "collapsed": false
   },
   "outputs": [
    {
     "data": {
      "text/plain": [
       "(8.62299505704682,10.627677788107976)"
      ]
     },
     "execution_count": 14,
     "metadata": {},
     "output_type": "execute_result"
    }
   ],
   "source": [
    "ci_normal(nobs(meanWaits), average(meanWaits), stdev(meanWaits), 0.05)"
   ]
  },
  {
   "cell_type": "code",
   "execution_count": 15,
   "metadata": {
    "collapsed": false,
    "scrolled": true
   },
   "outputs": [
    {
     "data": {
      "text/plain": [
       "ci_tdist (generic function with 1 method)"
      ]
     },
     "execution_count": 15,
     "metadata": {},
     "output_type": "execute_result"
    }
   ],
   "source": [
    "function ci_tdist(n::Int64, mean::Float64, stdev::Float64, α::Float64)\n",
    "    z = quantile(TDist(n-1), 1-α/2)\n",
    "    w = z*stdev/sqrt(n)\n",
    "    # Lower bound\n",
    "    l = mean - w\n",
    "    # Upper bound\n",
    "    u = mean + w\n",
    "    \n",
    "    return l, u\n",
    "end"
   ]
  },
  {
   "cell_type": "code",
   "execution_count": 16,
   "metadata": {
    "collapsed": false
   },
   "outputs": [
    {
     "data": {
      "text/plain": [
       "(8.55985600482606,10.690816840328736)"
      ]
     },
     "execution_count": 16,
     "metadata": {},
     "output_type": "execute_result"
    }
   ],
   "source": [
    "ci_tdist(nobs(meanWaits)-1, average(meanWaits), stdev(meanWaits), 0.05)"
   ]
  },
  {
   "cell_type": "markdown",
   "metadata": {},
   "source": [
    "Average waiting time according to M/M/1 formulas. In stationnary regime, the mean waiting time is\n",
    "$$ \\overline{W} = \\frac{\\frac{\\rho}{\\mu}}{1-\\rho} = \\frac{\\rho}{\\mu-\\lambda}. $$"
   ]
  },
  {
   "cell_type": "code",
   "execution_count": 17,
   "metadata": {
    "collapsed": false
   },
   "outputs": [
    {
     "data": {
      "text/plain": [
       "9.499999999999991"
      ]
     },
     "execution_count": 17,
     "metadata": {},
     "output_type": "execute_result"
    }
   ],
   "source": [
    "w = (ρ/μ)/(1-ρ)"
   ]
  },
  {
   "cell_type": "code",
   "execution_count": null,
   "metadata": {
    "collapsed": true
   },
   "outputs": [],
   "source": []
  }
 ],
 "metadata": {
  "kernelspec": {
   "display_name": "Julia 0.5.0",
   "language": "julia",
   "name": "julia-0.5"
  },
  "language_info": {
   "file_extension": ".jl",
   "mimetype": "application/julia",
   "name": "julia",
   "version": "0.5.0"
  }
 },
 "nbformat": 4,
 "nbformat_minor": 0
}
