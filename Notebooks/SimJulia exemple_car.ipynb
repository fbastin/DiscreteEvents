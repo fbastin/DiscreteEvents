{
 "cells": [
  {
   "cell_type": "markdown",
   "metadata": {},
   "source": [
    "# Un premier exemple!"
   ]
  },
  {
   "cell_type": "markdown",
   "metadata": {},
   "source": [
    "Dans ce bloc-notes, nous introduirons les concepts de base de la simulation à événements discrets et son implémentation dans SimJulia.\n",
    "\n",
    "Ce bloc-note est adapté de http://simjuliajl.readthedocs.io/en/stable/10_min/2_basic_concepts.html\n",
    "\n",
    "En Julia, l'installation de SimJulia se fait à l'aide de la commande"
   ]
  },
  {
   "cell_type": "code",
   "execution_count": null,
   "metadata": {
    "collapsed": false
   },
   "outputs": [],
   "source": [
    "Pkg.add(\"SimJulia\")"
   ]
  },
  {
   "cell_type": "markdown",
   "metadata": {},
   "source": [
    "Pour mettre à jour les librairies, nous pourrons utiliser la commande"
   ]
  },
  {
   "cell_type": "code",
   "execution_count": null,
   "metadata": {
    "collapsed": false
   },
   "outputs": [],
   "source": [
    "Pkg.update()"
   ]
  },
  {
   "cell_type": "code",
   "execution_count": null,
   "metadata": {
    "collapsed": false
   },
   "outputs": [],
   "source": [
    "Par la suite, nous indiquerons que nous souhaitons utiliser SimJulia en indiquant"
   ]
  },
  {
   "cell_type": "code",
   "execution_count": null,
   "metadata": {
    "collapsed": false
   },
   "outputs": [],
   "source": [
    "using SimJulia"
   ]
  },
  {
   "cell_type": "markdown",
   "metadata": {
    "collapsed": true
   },
   "source": [
    "SimJulia travaille principalement avec l'approche par processus. Le comportement des éléments du système sont modélisés à l'aide de processus, qui se déroulent à l'intérieur d'un environnement. L'interaction des composantes entre elles et avec l'environnement se fait à partir d'événements.\n",
    "\n",
    "Quand un processus pose un événement, ce processus est suspendu, jusqu'à ce que l'événement se produire. Plusieurs processus peuvent attendre le même événement. SimJulia les redémarre dans l'ordre dans lequel ils ont été mis en attente.\n",
    "\n",
    "L'exemple suivant définit le comportement d'une voiture qui passe alternativement de l'état \"stationnée\" à l'état en marche. On voit plusieurs fonctions apparaître: now qui donne la valeur de l'horloge de simulation, yield qui met le processus en attente et Timeout qui permet de définir une durée dans le temps de la simulation."
   ]
  },
  {
   "cell_type": "code",
   "execution_count": null,
   "metadata": {
    "collapsed": false
   },
   "outputs": [],
   "source": [
    "function car(env::Environment)\n",
    "         while true\n",
    "           println(\"Start parking at $(now(env))\")\n",
    "           parking_duration = 5.0\n",
    "           yield(Timeout(env, parking_duration))\n",
    "           println(\"Start driving at $(now(env))\")\n",
    "           trip_duration = 2.0\n",
    "           yield(Timeout(env, trip_duration))\n",
    "         end\n",
    "       end"
   ]
  },
  {
   "cell_type": "code",
   "execution_count": null,
   "metadata": {
    "collapsed": false
   },
   "outputs": [],
   "source": [
    "env = Environment()"
   ]
  },
  {
   "cell_type": "markdown",
   "metadata": {},
   "source": [
    "Crée le processus car qui doit être démarré et ajouté à l'environnement. Syntaxe: Process(env, func)\n",
    "\n",
    "Dans SimJulia, un Process est techniquement un événement, héritant du type AbstractEvent."
   ]
  },
  {
   "cell_type": "code",
   "execution_count": null,
   "metadata": {
    "collapsed": false
   },
   "outputs": [],
   "source": [
    "Process(env, car)"
   ]
  },
  {
   "cell_type": "markdown",
   "metadata": {},
   "source": [
    "Lance la simulation. Le deuxième argument donne la durée de la simulation."
   ]
  },
  {
   "cell_type": "code",
   "execution_count": null,
   "metadata": {
    "collapsed": false
   },
   "outputs": [],
   "source": [
    "run(env, 15.0)"
   ]
  },
  {
   "cell_type": "markdown",
   "metadata": {
    "collapsed": true
   },
   "source": [
    "Supposons à présent que nous avons une voiture électrique et qu'il faut prévoir de rechercher la voiture, ce que nous faisons avec la fonction"
   ]
  },
  {
   "cell_type": "code",
   "execution_count": null,
   "metadata": {
    "collapsed": false
   },
   "outputs": [],
   "source": [
    "function charge(env::Environment, duration::Float64)\n",
    "         yield(Timeout(env, duration))\n",
    "       end"
   ]
  },
  {
   "cell_type": "markdown",
   "metadata": {},
   "source": [
    "Mettons à jour notre définition de processus et construisons la simulation de la même manière que précédemment."
   ]
  },
  {
   "cell_type": "code",
   "execution_count": null,
   "metadata": {
    "collapsed": false
   },
   "outputs": [],
   "source": [
    "function car(env::Environment)\n",
    "         while true\n",
    "           println(\"Start parking and charging at $(now(env))\")\n",
    "           charge_duration = 5.0\n",
    "           charge_proc = Process(env, charge, charge_duration)\n",
    "           yield(charge_proc)\n",
    "           println(\"Start driving at $(now(env))\")\n",
    "           trip_duration = 2.0\n",
    "           yield(Timeout(env, trip_duration))\n",
    "         end\n",
    "       end"
   ]
  },
  {
   "cell_type": "code",
   "execution_count": null,
   "metadata": {
    "collapsed": false
   },
   "outputs": [],
   "source": [
    "env = Environment()"
   ]
  },
  {
   "cell_type": "code",
   "execution_count": null,
   "metadata": {
    "collapsed": false
   },
   "outputs": [],
   "source": [
    "Process(env, car)"
   ]
  },
  {
   "cell_type": "code",
   "execution_count": null,
   "metadata": {
    "collapsed": false
   },
   "outputs": [],
   "source": [
    "run(env, 15.0)"
   ]
  }
 ],
 "metadata": {
  "kernelspec": {
   "display_name": "Julia 0.4.6",
   "language": "julia",
   "name": "julia-0.4"
  },
  "language_info": {
   "file_extension": ".jl",
   "mimetype": "application/julia",
   "name": "julia",
   "version": "0.5.0"
  }
 },
 "nbformat": 4,
 "nbformat_minor": 0
}
