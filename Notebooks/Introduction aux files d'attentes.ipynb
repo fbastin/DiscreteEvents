{
 "cells": [
  {
   "cell_type": "markdown",
   "metadata": {},
   "source": [
    "## Introduction à la théorie des files d'attente"
   ]
  },
  {
   "cell_type": "markdown",
   "metadata": {},
   "source": [
    "Un système de file d'attente consiste d'un ou de plusieurs serveurs qui fournissent un service d'une certaine nature à des clients qui se présentent. Les clients qui arrivent et trouvent tous les serveurs occupés\n",
    "rejoindront (généralement) une ou plusieurs files (ou lignes) devant les serveurs, d'où la qualification de file d'attente."
   ]
  },
  {
   "cell_type": "markdown",
   "metadata": {},
   "source": [
    "Le système de file d'attente est caractérisé par trois composants:\n",
    "- le processus d'arrivée,\n",
    "- le mécanisme de service,\n",
    "- la discipline de file."
   ]
  },
  {
   "cell_type": "markdown",
   "metadata": {},
   "source": [
    "### Processus d'arrivée\n",
    "\n",
    "Spécifier le processus d'arrivée pour un système de file d'attente revient à décrire comment les clients arrivent dans le système. Soit\n",
    "$A_i$ le temps d'inter-arrivées entre les arrivées des $(i-1)^e$ et $i^e$ clients. Si $A_1$, $A_2,\\ldots$, sont supposés être des\n",
    "variables i.i.d., nous dénoterons le temps d'interarrivée moyen (ou espéré) par $E[A]$ et appellerons $\\lambda = 1/E[A]$ le taux d'arrivée\n",
    "des clients."
   ]
  },
  {
   "cell_type": "markdown",
   "metadata": {},
   "source": [
    "### Mécanisme de service\n",
    "\n",
    "Le mécanisme de service pour un système de file d'attente est articulé en spécifiant le nombre de serveurs (dénoté par $s$), où chaque serveur a sa propre file ou au contraire une seule file alimente tous les serveurs, et la distribution de probabilité des temps de service des clients.\n",
    "\n",
    "Soit $S_i$ le temps de service du $i^e$ client. Si $S_1,\\ldots$ sont des variables aléatoires i.i.d., nous dénoterons le temps de service moyen d'un client par $E[S]$ et appelleront $\\omega = 1/E[S]$ le taux de service d'un serveur."
   ]
  },
  {
   "cell_type": "markdown",
   "metadata": {},
   "source": [
    "### Discipline de file\n",
    "\n",
    "En d'autres termes, le premier client arrivé dans la file est le premier servi.\n",
    "La discipline de file réfère à la manière dont un serveur choisit le prochain client à partir d'une file (s'il en existe une) quand le serveur termine le service du client courant. Les disciplines courantes sont\n",
    "- la règle FIFO (first-in, first-out: premier arrivé, premier servi),\n",
    "- la règle LIFO (last-in, first-out: dernier arrivé, premier servi),\n",
    "- la règle par priorités (les clients sont servis suivant leur importance, ou sur base des exigences de leur service).\n",
    "\n",
    "En général, nous supposerons que le mécanisme est de tye FIFO: first-in first-out."
   ]
  },
  {
   "cell_type": "markdown",
   "metadata": {},
   "source": [
    "### Notation de Kendall\n",
    "\n",
    "Il est d'usage d'utiliser la notation introduite par David George Kendall en 1953, de forme A/S/C où A décrit le temps entre les arrivées dans la file, S le temps de service et C le nombre de serveurs. La notation a par la suite été étendue à 6 paramètres, mais nous ne considérons que la version à 3 paramètres. Supposons en particulier que\n",
    "- $s$ serveurs existent en parallèle, et une queue FIFO alimente tous les serveurs;\n",
    "- $A_1$, $A_2,\\ldots$ sont des variables aléatoires i.i.d;\n",
    "- $S_1$, $S_2,\\ldots$ sont des variables aléatoires i.i.d;\n",
    "- les $A_i$ et les $S_i$ sont indépendants.\n",
    "\n",
    "Un tel système sera dénoté une file $GI/G/s$, où $GI$ (general independant) réfère à la distribution des $A_i$ et $G$ (general) réfère à la distribution des $S_i$. Si des distributions spécifiques sont données pour les $A_i$ et les $S_i$, des symboles dénotant ces distributions sont utilisés en place de $GI$ et de $G$. En particulier, le symbole $M$ est utilisé pour la distribution exponentielle en raison de son caractère markovien, i.e. la propriété\n",
    "sans mémoire. La lettre $D$ est employée pour des temps déterministes, ou en d'autres termes constants. $s$ désigne le nombre de serveurs. Dés lors, un système de file d'attente avec un seul serveur et des temps d'inter-arrivées et de service exponentiels, et une discipline de file FIFO, est appelé file $M/M/1$."
   ]
  },
  {
   "cell_type": "markdown",
   "metadata": {},
   "source": [
    "Pour n'importe quelle file $GI/G/s$, nous appellerons la quantité\n",
    "$$\n",
    "\\rho = \\frac{\\lambda}{s\\omega}\n",
    "$$\n",
    "le facteur d'utilisation du système de file d'attente ($s\\omega$ est le taux de service quand tous\n",
    "les serveurs sont occupés). C'est une mesure de l'importance d'utilisation des ressources du\n",
    "système de file d'attente."
   ]
  },
  {
   "cell_type": "markdown",
   "metadata": {},
   "source": [
    "### Mesures de performance pour les files d'attente\n",
    "\n",
    "Il existe de nombreuses mesures de performance possibles pour les systèmes de file d'attente; parmi celles-ci, nous en retiendrons quatre fréquemment utilisées pour les études mathématiques de tels systèmes.\n",
    "Posons\n",
    "- $W_i$: délai dans la file du $i^e$ client;\n",
    "- $D_i = W_i+S_i$: temps d'attente dans le système du $i^e$ client;\n",
    "- $q(t)$: nombre de clients dans la file au temps $t$;\n",
    "- $L(t)$: nombre de clients dans le système au temps $t$, i.e. $q(t)$ plus le nombre de clients en train d'être servis au temps $t$."
   ]
  },
  {
   "cell_type": "markdown",
   "metadata": {},
   "source": [
    "Les mesures\n",
    "$$\n",
    "w = \\lim_{n \\rightarrow \\infty} \\frac{\\sum_{i = 1}^n W_i}{n} \\quad\n",
    "\\mbox{a.p. 1}, \\quad \\mbox{et} \\quad\n",
    "d = \\lim_{n \\rightarrow \\infty} \\frac{\\sum_{i = 1}^n D_i}{n} \\quad\n",
    "\\mbox{a.p. 1},\n",
    "$$\n",
    "si elles existent, sont appelées délai moyen en état stable et temps\n",
    "d'attente moyen en état stable.\n",
    "Similairement, les mesures\n",
    "$$\n",
    "q = \\lim_{T \\rightarrow \\infty} \\frac{\\int_0^T q(t) dt}{T} \\quad\n",
    "\\mbox{a.p. 1}, \\quad \\mbox{et} \\quad\n",
    "L = \\lim_{T \\rightarrow \\infty} \\frac{\\int_0^T L(t) dt}{T} \\quad\n",
    "\\mbox{a.p. 1},\n",
    "$$\n",
    "si elles existent, sont appelées nombre moyen par unité de temps en\n",
    "état stable dans la file, et nombre moyen par unité de temps en état\n",
    "stable dans le système."
   ]
  },
  {
   "cell_type": "markdown",
   "metadata": {},
   "source": [
    "Notons que $\\rho < 1$ est une condition nécessaire pour que $d$, $w$,\n",
    "$q$ et $L$ existent pour une file d'attente $GI/G/1$.\n",
    "Dans ce cas, si $d$ et $w$ existent, nous avons les équations de conservation\n",
    "$$\n",
    "q = \\lambda w \\quad \\mbox{et} \\quad L = \\lambda d.\n",
    "$$\n",
    "Une autre égalité d'intérêt pratique est donnée par\n",
    "$$\n",
    "d = w+E[S],\n",
    "$$\n",
    "et donc\n",
    "$$\n",
    "q = L - \\rho.\n",
    "$$\n",
    "Dans le cas d'une file $M/M/1$, nous pouvons en outre montrer que le nombre moyen en état stable dans le système est donné par\n",
    "$$\n",
    "L = \\frac{\\rho}{1-\\rho}.\n",
    "$$"
   ]
  },
  {
   "cell_type": "markdown",
   "metadata": {},
   "source": [
    "### Loi de Little\n",
    "\n",
    "La loi de Little dit que le nombre moyen $N$ de clients dans un système stable (ou sur un horizon infini), est égal à leur fréquence moyenne d'arrivée $\\lambda$, multipliée par leur temps moyen $T$ passé dans le système:\n",
    "$$\n",
    "N = \\lambda T\n",
    "$$\n",
    "L'équation est valable sous des conditions assez générales. Encore faut-il que le système soit en état stable!"
   ]
  },
  {
   "cell_type": "code",
   "execution_count": null,
   "metadata": {
    "collapsed": true
   },
   "outputs": [],
   "source": []
  }
 ],
 "metadata": {
  "kernelspec": {
   "display_name": "Julia 0.5.0",
   "language": "julia",
   "name": "julia-0.5"
  },
  "language_info": {
   "file_extension": ".jl",
   "mimetype": "application/julia",
   "name": "julia",
   "version": "0.5.0"
  }
 },
 "nbformat": 4,
 "nbformat_minor": 0
}
