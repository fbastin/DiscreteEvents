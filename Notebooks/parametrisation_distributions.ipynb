{
 "cells": [
  {
   "cell_type": "markdown",
   "metadata": {},
   "source": [
    "## Paramétrisation des distributions aléatoires"
   ]
  },
  {
   "cell_type": "markdown",
   "metadata": {},
   "source": [
    "La paramétrisation des variables aléatoires n'est pas toujours unique, et il faudra toujours vérifier l'implémentation retenue dans la librairies pour éviter des mauvaises suprises. Un exemple type est la loi géométrique, dont la fonction de masse de probabilité peut s'exprimer comme\n",
    "$$\n",
    "P[X=x] = p(1-p)^x \\mbox{ pour } x=0,1,\\dots.\n",
    "$$\n",
    "ou\n",
    "$$\n",
    "P[X=x] = p(1-p)^{x-1} \\mbox{ pour } x=1,\\dots.\n",
    "$$\n",
    "Dans le premier cas, la variable aléatoire mesure le nombre d'échecs jusqu'au premier succès, tandis que dans le second cas, la variable représente le nombre d'essais jusqu'au premier succès.\n",
    "\n",
    "Il importe toujours de vérifier la définition retenue dans le librairie utilisée. Avec la librairie Julia, quelle définition est employée?"
   ]
  },
  {
   "cell_type": "code",
   "execution_count": 2,
   "metadata": {
    "collapsed": false
   },
   "outputs": [],
   "source": [
    "using Distributions"
   ]
  },
  {
   "cell_type": "markdown",
   "metadata": {},
   "source": [
    "Il est possible d'obtenir de l'aide sur une fonction en précédant le nom de la fonction d'un point d'interrogation."
   ]
  },
  {
   "cell_type": "code",
   "execution_count": 4,
   "metadata": {
    "collapsed": false,
    "scrolled": true
   },
   "outputs": [
    {
     "data": {
      "text/markdown": [
       "```\n",
       "Geometric(p)\n",
       "```\n",
       "\n",
       "A *Geometric distribution* characterizes the number of failures before the first success in a sequence of independent Bernoulli trials with success rate `p`.\n",
       "\n",
       "$$\n",
       "P(X = k) = p (1 - p)^k, \\quad \\text{for } k = 0, 1, 2, \\ldots.\n",
       "$$\n",
       "\n",
       "```julia\n",
       "Geometric()    # Geometric distribution with success rate 0.5\n",
       "Geometric(p)   # Geometric distribution with success rate p\n",
       "\n",
       "params(d)      # Get the parameters, i.e. (p,)\n",
       "succprob(d)    # Get the success rate, i.e. p\n",
       "failprob(d)    # Get the failure rate, i.e. 1 - p\n",
       "```\n",
       "\n",
       "External links\n",
       "\n",
       "  * [Geometric distribution on Wikipedia](http://en.wikipedia.org/wiki/Geometric_distribution)\n"
      ],
      "text/plain": [
       "```\n",
       "Geometric(p)\n",
       "```\n",
       "\n",
       "A *Geometric distribution* characterizes the number of failures before the first success in a sequence of independent Bernoulli trials with success rate `p`.\n",
       "\n",
       "$$\n",
       "P(X = k) = p (1 - p)^k, \\quad \\text{for } k = 0, 1, 2, \\ldots.\n",
       "$$\n",
       "\n",
       "```julia\n",
       "Geometric()    # Geometric distribution with success rate 0.5\n",
       "Geometric(p)   # Geometric distribution with success rate p\n",
       "\n",
       "params(d)      # Get the parameters, i.e. (p,)\n",
       "succprob(d)    # Get the success rate, i.e. p\n",
       "failprob(d)    # Get the failure rate, i.e. 1 - p\n",
       "```\n",
       "\n",
       "External links\n",
       "\n",
       "  * [Geometric distribution on Wikipedia](http://en.wikipedia.org/wiki/Geometric_distribution)\n"
      ]
     },
     "execution_count": 4,
     "metadata": {},
     "output_type": "execute_result"
    }
   ],
   "source": [
    "?Geometric()"
   ]
  },
  {
   "cell_type": "markdown",
   "metadata": {},
   "source": [
    "En d'autres termes, c'est la première définition qui est utilisée, ce que nous pouvons vérifier avec le calcul de la masse de probabilité."
   ]
  },
  {
   "cell_type": "code",
   "execution_count": 9,
   "metadata": {
    "collapsed": false
   },
   "outputs": [
    {
     "data": {
      "text/plain": [
       "Distributions.Geometric(p=0.7)"
      ]
     },
     "execution_count": 9,
     "metadata": {},
     "output_type": "execute_result"
    }
   ],
   "source": [
    "p = 0.7\n",
    "g = Geometric(p)"
   ]
  },
  {
   "cell_type": "code",
   "execution_count": 10,
   "metadata": {
    "collapsed": false
   },
   "outputs": [
    {
     "data": {
      "text/plain": [
       "0.7"
      ]
     },
     "execution_count": 10,
     "metadata": {},
     "output_type": "execute_result"
    }
   ],
   "source": [
    "pdf(g, 0)"
   ]
  },
  {
   "cell_type": "code",
   "execution_count": 11,
   "metadata": {
    "collapsed": false
   },
   "outputs": [
    {
     "data": {
      "text/plain": [
       "0.21000000000000002"
      ]
     },
     "execution_count": 11,
     "metadata": {},
     "output_type": "execute_result"
    }
   ],
   "source": [
    "pdf(g, 1)"
   ]
  },
  {
   "cell_type": "code",
   "execution_count": null,
   "metadata": {
    "collapsed": true
   },
   "outputs": [],
   "source": [
    "De la même manière, nous pouvons vérifier la paramétrisation de l'exponentielle."
   ]
  },
  {
   "cell_type": "code",
   "execution_count": 17,
   "metadata": {
    "collapsed": false
   },
   "outputs": [
    {
     "data": {
      "text/markdown": [
       "```\n",
       "Exponential(θ)\n",
       "```\n",
       "\n",
       "The *Exponential distribution* with scale parameter `θ` has probability density function\n",
       "\n",
       "$$\n",
       "f(x; \\theta) = \\frac{1}{\\theta} e^{-\\frac{x}{\\theta}}, \\quad x > 0\n",
       "$$\n",
       "\n",
       "```julia\n",
       "Exponential()      # Exponential distribution with unit scale, i.e. Exponential(1.0)\n",
       "Exponential(b)     # Exponential distribution with scale b\n",
       "\n",
       "params(d)          # Get the parameters, i.e. (b,)\n",
       "scale(d)           # Get the scale parameter, i.e. b\n",
       "rate(d)            # Get the rate parameter, i.e. 1 / b\n",
       "```\n",
       "\n",
       "External links\n",
       "\n",
       "  * [Exponential distribution on Wikipedia](http://en.wikipedia.org/wiki/Exponential_distribution)\n"
      ],
      "text/plain": [
       "```\n",
       "Exponential(θ)\n",
       "```\n",
       "\n",
       "The *Exponential distribution* with scale parameter `θ` has probability density function\n",
       "\n",
       "$$\n",
       "f(x; \\theta) = \\frac{1}{\\theta} e^{-\\frac{x}{\\theta}}, \\quad x > 0\n",
       "$$\n",
       "\n",
       "```julia\n",
       "Exponential()      # Exponential distribution with unit scale, i.e. Exponential(1.0)\n",
       "Exponential(b)     # Exponential distribution with scale b\n",
       "\n",
       "params(d)          # Get the parameters, i.e. (b,)\n",
       "scale(d)           # Get the scale parameter, i.e. b\n",
       "rate(d)            # Get the rate parameter, i.e. 1 / b\n",
       "```\n",
       "\n",
       "External links\n",
       "\n",
       "  * [Exponential distribution on Wikipedia](http://en.wikipedia.org/wiki/Exponential_distribution)\n"
      ]
     },
     "execution_count": 17,
     "metadata": {},
     "output_type": "execute_result"
    }
   ],
   "source": [
    "?Exponential()"
   ]
  },
  {
   "cell_type": "markdown",
   "metadata": {},
   "source": [
    "Dans le cas de la géométrique, la définition basée sur le nombre d'échecs avant le premier succès permet de la considérer comme cas particulier de la binomiale négative, qui compte le nombre d'échecs avant le $r^\\text{ème}$ succès dans une séquence de tirs indépendants suivant une même loi de Bernoulli."
   ]
  },
  {
   "cell_type": "code",
   "execution_count": 27,
   "metadata": {
    "collapsed": false
   },
   "outputs": [
    {
     "data": {
      "text/markdown": [
       "```\n",
       "NegativeBinomial(r,p)\n",
       "```\n",
       "\n",
       "A *Negative binomial distribution* describes the number of failures before the `r`th success in a sequence of independent Bernoulli trials. It is parameterized by `r`, the number of successes, and `p`, the probability of success in an individual trial.\n",
       "\n",
       "$$\n",
       "P(X = k) = {k + r - 1 \\choose k} p^r (1 - p)^k, \\quad \\text{for } k = 0,1,2,\\ldots.\n",
       "$$\n",
       "\n",
       "The distribution remains well-defined for any positive `r`, in which case\n",
       "\n",
       "$$\n",
       "P(X = k) = \\frac{\\Gamma(k+r)}{k! \\Gamma(r)} p^r (1 - p)^k, \\quad \\text{for } k = 0,1,2,\\ldots.\n",
       "$$\n",
       "\n",
       "```julia\n",
       "NegativeBinomial()        # Negative binomial distribution with r = 1 and p = 0.5\n",
       "NegativeBinomial(r, p)    # Negative binomial distribution with r successes and success rate p\n",
       "\n",
       "params(d)       # Get the parameters, i.e. (r, p)\n",
       "succprob(d)     # Get the success rate, i.e. p\n",
       "failprob(d)     # Get the failure rate, i.e. 1 - p\n",
       "```\n",
       "\n",
       "External links:\n",
       "\n",
       "  * [Negative binomial distribution on Wikipedia](http://en.wikipedia.org/wiki/Negative_binomial_distribution)\n"
      ],
      "text/plain": [
       "```\n",
       "NegativeBinomial(r,p)\n",
       "```\n",
       "\n",
       "A *Negative binomial distribution* describes the number of failures before the `r`th success in a sequence of independent Bernoulli trials. It is parameterized by `r`, the number of successes, and `p`, the probability of success in an individual trial.\n",
       "\n",
       "$$\n",
       "P(X = k) = {k + r - 1 \\choose k} p^r (1 - p)^k, \\quad \\text{for } k = 0,1,2,\\ldots.\n",
       "$$\n",
       "\n",
       "The distribution remains well-defined for any positive `r`, in which case\n",
       "\n",
       "$$\n",
       "P(X = k) = \\frac{\\Gamma(k+r)}{k! \\Gamma(r)} p^r (1 - p)^k, \\quad \\text{for } k = 0,1,2,\\ldots.\n",
       "$$\n",
       "\n",
       "```julia\n",
       "NegativeBinomial()        # Negative binomial distribution with r = 1 and p = 0.5\n",
       "NegativeBinomial(r, p)    # Negative binomial distribution with r successes and success rate p\n",
       "\n",
       "params(d)       # Get the parameters, i.e. (r, p)\n",
       "succprob(d)     # Get the success rate, i.e. p\n",
       "failprob(d)     # Get the failure rate, i.e. 1 - p\n",
       "```\n",
       "\n",
       "External links:\n",
       "\n",
       "  * [Negative binomial distribution on Wikipedia](http://en.wikipedia.org/wiki/Negative_binomial_distribution)\n"
      ]
     },
     "execution_count": 27,
     "metadata": {},
     "output_type": "execute_result"
    }
   ],
   "source": [
    "?NegativeBinomial()"
   ]
  },
  {
   "cell_type": "code",
   "execution_count": 28,
   "metadata": {
    "collapsed": false
   },
   "outputs": [
    {
     "data": {
      "text/plain": [
       "Distributions.NegativeBinomial(r=1.0, p=0.7)"
      ]
     },
     "execution_count": 28,
     "metadata": {},
     "output_type": "execute_result"
    }
   ],
   "source": [
    "nb = NegativeBinomial(1,p)"
   ]
  },
  {
   "cell_type": "code",
   "execution_count": 29,
   "metadata": {
    "collapsed": false
   },
   "outputs": [
    {
     "data": {
      "text/plain": [
       "0.7"
      ]
     },
     "execution_count": 29,
     "metadata": {},
     "output_type": "execute_result"
    }
   ],
   "source": [
    "pdf(nb, 0)"
   ]
  },
  {
   "cell_type": "code",
   "execution_count": 30,
   "metadata": {
    "collapsed": false
   },
   "outputs": [
    {
     "data": {
      "text/plain": [
       "0.21000000000000008"
      ]
     },
     "execution_count": 30,
     "metadata": {},
     "output_type": "execute_result"
    }
   ],
   "source": [
    "pdf(nb, 1)"
   ]
  },
  {
   "cell_type": "markdown",
   "metadata": {},
   "source": [
    "La loi de Bernoulli, à la base de la géométrique et de la binomiale négative, donne la probabilité d'un échec ou d'un succès.\n",
    "$$\n",
    "P[X=0] = 1-p,\\quad P[X=1] = p.\n",
    "$$"
   ]
  },
  {
   "cell_type": "code",
   "execution_count": 31,
   "metadata": {
    "collapsed": false
   },
   "outputs": [
    {
     "data": {
      "text/markdown": [
       "```\n",
       "Bernoulli(p)\n",
       "```\n",
       "\n",
       "A *Bernoulli distribution* is parameterized by a success rate `p`, which takes value 1 with probability `p` and 0 with probability `1-p`.\n",
       "\n",
       "$$\n",
       "P(X = k) = \\begin{cases}\n",
       "1 - p & \\quad \\text{for } k = 0, \\\\\n",
       "p & \\quad \\text{for } k = 1.\n",
       "\\end{cases}\n",
       "$$\n",
       "\n",
       "```julia\n",
       "Bernoulli()    # Bernoulli distribution with p = 0.5\n",
       "Bernoulli(p)   # Bernoulli distribution with success rate p\n",
       "\n",
       "params(d)      # Get the parameters, i.e. (p,)\n",
       "succprob(d)    # Get the success rate, i.e. p\n",
       "failprob(d)    # Get the failure rate, i.e. 1 - p\n",
       "```\n",
       "\n",
       "External links:\n",
       "\n",
       "  * [Bernoulli distribution on Wikipedia](http://en.wikipedia.org/wiki/Bernoulli_distribution)\n"
      ],
      "text/plain": [
       "```\n",
       "Bernoulli(p)\n",
       "```\n",
       "\n",
       "A *Bernoulli distribution* is parameterized by a success rate `p`, which takes value 1 with probability `p` and 0 with probability `1-p`.\n",
       "\n",
       "$$\n",
       "P(X = k) = \\begin{cases}\n",
       "1 - p & \\quad \\text{for } k = 0, \\\\\n",
       "p & \\quad \\text{for } k = 1.\n",
       "\\end{cases}\n",
       "$$\n",
       "\n",
       "```julia\n",
       "Bernoulli()    # Bernoulli distribution with p = 0.5\n",
       "Bernoulli(p)   # Bernoulli distribution with success rate p\n",
       "\n",
       "params(d)      # Get the parameters, i.e. (p,)\n",
       "succprob(d)    # Get the success rate, i.e. p\n",
       "failprob(d)    # Get the failure rate, i.e. 1 - p\n",
       "```\n",
       "\n",
       "External links:\n",
       "\n",
       "  * [Bernoulli distribution on Wikipedia](http://en.wikipedia.org/wiki/Bernoulli_distribution)\n"
      ]
     },
     "execution_count": 31,
     "metadata": {},
     "output_type": "execute_result"
    }
   ],
   "source": [
    "?Bernoulli()"
   ]
  },
  {
   "cell_type": "code",
   "execution_count": 4,
   "metadata": {
    "collapsed": false
   },
   "outputs": [
    {
     "data": {
      "text/plain": [
       "Distributions.Bernoulli(p=0.75)"
      ]
     },
     "execution_count": 4,
     "metadata": {},
     "output_type": "execute_result"
    }
   ],
   "source": [
    "b = Bernoulli(0.75)"
   ]
  },
  {
   "cell_type": "code",
   "execution_count": 5,
   "metadata": {
    "collapsed": false
   },
   "outputs": [
    {
     "data": {
      "text/html": [
       "3 methods for generic function <b>Type</b>:<ul><li> Distributions.Bernoulli() at <a href=\"https://github.com/JuliaStats/Distributions.jl/tree/f0b12936bcd3d34f9de6659ab372af75e81ca273/src/univariate/discrete/bernoulli.jl#L32\" target=\"_blank\">/home/bastin/.julia/v0.5/Distributions/src/univariate/discrete/bernoulli.jl:32</a></li> <li> Distributions.Bernoulli(p::<b>Real</b>) at <a href=\"https://github.com/JuliaStats/Distributions.jl/tree/f0b12936bcd3d34f9de6659ab372af75e81ca273/src/univariate/discrete/bernoulli.jl#L29\" target=\"_blank\">/home/bastin/.julia/v0.5/Distributions/src/univariate/discrete/bernoulli.jl:29</a></li> <li> (::<b>Type{T}</b>)<i>{T}</i>(arg) at <a href=\"https://github.com/JuliaLang/julia/tree/3c9d75391c72d7c32eea75ff187ce77b2d5effc8/base/sysimg.jl#L53\" target=\"_blank\">sysimg.jl:53</a></li> </ul>"
      ],
      "text/plain": [
       "# 3 methods for generic function \"(::Type)\":\n",
       "Distributions.Bernoulli() at /home/bastin/.julia/v0.5/Distributions/src/univariate/discrete/bernoulli.jl:32\n",
       "Distributions.Bernoulli(p::Real) at /home/bastin/.julia/v0.5/Distributions/src/univariate/discrete/bernoulli.jl:29\n",
       "(::Type{T}){T}(arg) at sysimg.jl:53"
      ]
     },
     "execution_count": 5,
     "metadata": {},
     "output_type": "execute_result"
    }
   ],
   "source": [
    "methods(Bernoulli)"
   ]
  },
  {
   "cell_type": "code",
   "execution_count": 8,
   "metadata": {
    "collapsed": false
   },
   "outputs": [
    {
     "data": {
      "text/plain": [
       "0.25"
      ]
     },
     "execution_count": 8,
     "metadata": {},
     "output_type": "execute_result"
    }
   ],
   "source": [
    "pdf(b,0)"
   ]
  },
  {
   "cell_type": "code",
   "execution_count": null,
   "metadata": {
    "collapsed": true
   },
   "outputs": [],
   "source": []
  }
 ],
 "metadata": {
  "kernelspec": {
   "display_name": "Julia 0.4.6",
   "language": "julia",
   "name": "julia-0.4"
  },
  "language_info": {
   "file_extension": ".jl",
   "mimetype": "application/julia",
   "name": "julia",
   "version": "0.5.0"
  }
 },
 "nbformat": 4,
 "nbformat_minor": 0
}
