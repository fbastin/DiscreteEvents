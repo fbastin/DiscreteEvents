{
 "cells": [
  {
   "cell_type": "markdown",
   "metadata": {},
   "source": [
    "# Inversion technique"
   ]
  },
  {
   "cell_type": "markdown",
   "metadata": {},
   "source": [
    "## Continuous distributions"
   ]
  },
  {
   "cell_type": "markdown",
   "metadata": {},
   "source": [
    "### Exponential distribution"
   ]
  },
  {
   "cell_type": "markdown",
   "metadata": {},
   "source": [
    "The cumulative distribution function of an exponential is\n",
    "$$\n",
    "1-e^{-\\lambda x}\n",
    "$$\n",
    "We can easily compute the inverse distribution function by solving the following equation with respect to $x$\n",
    "$$\n",
    "u = 1-e^{-\\lambda x}\n",
    "$$\n",
    "giving\n",
    "$$\n",
    "x = -\\frac{1}{\\lambda} \\ln (1-u)\n",
    "$$\n",
    "We can therefore generate an Exponential draw with the function"
   ]
  },
  {
   "cell_type": "code",
   "execution_count": 1,
   "metadata": {
    "collapsed": false
   },
   "outputs": [
    {
     "data": {
      "text/plain": [
       "generate_exponential (generic function with 1 method)"
      ]
     },
     "execution_count": 1,
     "metadata": {},
     "output_type": "execute_result"
    }
   ],
   "source": [
    "generate_exponential(u::Float64, θ::Float64) = -θ*log(1-u)"
   ]
  },
  {
   "cell_type": "code",
   "execution_count": 2,
   "metadata": {
    "collapsed": false
   },
   "outputs": [],
   "source": [
    "using Distributions"
   ]
  },
  {
   "cell_type": "markdown",
   "metadata": {},
   "source": [
    "Compare this function with the quantile function in the package Distributions."
   ]
  },
  {
   "cell_type": "code",
   "execution_count": 3,
   "metadata": {
    "collapsed": false
   },
   "outputs": [
    {
     "name": "stdout",
     "output_type": "stream",
     "text": [
      "x =0.4462871026284194\n",
      "y =0.44628710262841953\n"
     ]
    }
   ],
   "source": [
    "u = 0.2\n",
    "θ = 2.0\n",
    "d = Exponential(θ)\n",
    "x = generate_exponential(u,θ)\n",
    "y = quantile(d,u)\n",
    "println(\"x =\",x)\n",
    "println(\"y =\",y)"
   ]
  },
  {
   "cell_type": "code",
   "execution_count": 4,
   "metadata": {
    "collapsed": false
   },
   "outputs": [
    {
     "name": "stdout",
     "output_type": "stream",
     "text": [
      "x =9.210340371976182\n",
      "y =9.21034037197618\n"
     ]
    }
   ],
   "source": [
    "u = 0.99\n",
    "x = generate_exponential(u,θ)\n",
    "y = quantile(d,u)\n",
    "println(\"x =\",x)\n",
    "println(\"y =\",y)"
   ]
  },
  {
   "cell_type": "markdown",
   "metadata": {},
   "source": [
    "The numbers are very close, but not exaclty the same. To obtain the same numbers, we redefine the generatin function as"
   ]
  },
  {
   "cell_type": "code",
   "execution_count": 5,
   "metadata": {
    "collapsed": false
   },
   "outputs": [
    {
     "name": "stdout",
     "output_type": "stream",
     "text": [
      "search: log1p log10\n",
      "\n"
     ]
    },
    {
     "data": {
      "text/markdown": [
       "```\n",
       "log1p(x)\n",
       "```\n",
       "\n",
       "Accurate natural logarithm of `1+x`. Throws `DomainError` for `Real` arguments less than -1.\n",
       "\n",
       "There is an experimental variant in the `Base.Math.JuliaLibm` module, which is typically faster and more accurate.\n"
      ],
      "text/plain": [
       "```\n",
       "log1p(x)\n",
       "```\n",
       "\n",
       "Accurate natural logarithm of `1+x`. Throws `DomainError` for `Real` arguments less than -1.\n",
       "\n",
       "There is an experimental variant in the `Base.Math.JuliaLibm` module, which is typically faster and more accurate.\n"
      ]
     },
     "execution_count": 5,
     "metadata": {},
     "output_type": "execute_result"
    }
   ],
   "source": [
    "?log1p"
   ]
  },
  {
   "cell_type": "code",
   "execution_count": 9,
   "metadata": {
    "collapsed": false
   },
   "outputs": [
    {
     "name": "stderr",
     "output_type": "stream",
     "text": [
      "WARNING: Method definition generate_exponential(Float64, Float64) in module Main at In[1]:1 overwritten at In[9]:1.\n"
     ]
    },
    {
     "data": {
      "text/plain": [
       "generate_exponential (generic function with 1 method)"
      ]
     },
     "execution_count": 9,
     "metadata": {},
     "output_type": "execute_result"
    }
   ],
   "source": [
    "generate_exponential(u::Float64, θ::Float64) = -θ*log1p(-u)"
   ]
  },
  {
   "cell_type": "code",
   "execution_count": 10,
   "metadata": {
    "collapsed": false
   },
   "outputs": [
    {
     "name": "stdout",
     "output_type": "stream",
     "text": [
      "x =9.21034037197618\n",
      "y =9.21034037197618\n"
     ]
    }
   ],
   "source": [
    "u = 0.99\n",
    "x = generate_exponential(u,θ)\n",
    "y = quantile(d,u)\n",
    "println(\"x =\",x)\n",
    "println(\"y =\",y)"
   ]
  },
  {
   "cell_type": "markdown",
   "metadata": {},
   "source": [
    "On http://www.johndcook.com/julia_rng.html we find the code"
   ]
  },
  {
   "cell_type": "code",
   "execution_count": 11,
   "metadata": {
    "collapsed": false
   },
   "outputs": [
    {
     "data": {
      "text/plain": [
       "rand_exponential (generic function with 1 method)"
      ]
     },
     "execution_count": 11,
     "metadata": {},
     "output_type": "execute_result"
    }
   ],
   "source": [
    "function rand_exponential(mean)\n",
    "    if mean <= 0.0\n",
    "        error(\"mean must be positive\")\n",
    "    end\n",
    "    -mean*log(rand())\n",
    "end"
   ]
  },
  {
   "cell_type": "markdown",
   "metadata": {},
   "source": [
    "This does not correspond to the quantile function! It can raises issues when used in combination with variance reduction techniques.\n",
    "\n",
    "The standard library in Julia uses another approach."
   ]
  },
  {
   "cell_type": "code",
   "execution_count": 6,
   "metadata": {
    "collapsed": false
   },
   "outputs": [
    {
     "name": "stdout",
     "output_type": "stream",
     "text": [
      "search: randexp randexp! RangeIndex rsearchindex CartesianIndex\n",
      "\n"
     ]
    },
    {
     "data": {
      "text/markdown": [
       "```\n",
       "randexp([rng], [T=Float64], [dims...])\n",
       "```\n",
       "\n",
       "Generate a random number of type `T` according to the exponential distribution with scale 1. Optionally generate an array of such random numbers. The `Base` module currently provides an implementation for the types `Float16`, `Float32`, and `Float64` (the default).\n"
      ],
      "text/plain": [
       "```\n",
       "randexp([rng], [T=Float64], [dims...])\n",
       "```\n",
       "\n",
       "Generate a random number of type `T` according to the exponential distribution with scale 1. Optionally generate an array of such random numbers. The `Base` module currently provides an implementation for the types `Float16`, `Float32`, and `Float64` (the default).\n"
      ]
     },
     "execution_count": 6,
     "metadata": {},
     "output_type": "execute_result"
    }
   ],
   "source": [
    "?randexp"
   ]
  },
  {
   "cell_type": "markdown",
   "metadata": {},
   "source": [
    "From https://en.wikipedia.org/wiki/Ziggurat_algorithm, we learn that the \"ziggurat algorithm is an algorithm for pseudo-random number sampling. Belonging to the class of rejection sampling algorithms, it relies on an underlying source of uniformly-distributed random numbers, typically from a pseudo-random number generator, as well as precomputed tables.\"\n",
    "\n",
    "The algorithm can have performance issues with variance reduction techniques (especially quasi-Monte Carlo methods), and we will avoid it."
   ]
  },
  {
   "cell_type": "markdown",
   "metadata": {},
   "source": [
    "The ziggurat method is also used for the normal distribution. In addition to the previous remark, we note from https://en.wikipedia.org/wiki/Inverse_transform_sampling that \"on the other hand, it is possible to approximate the quantile function of the normal distribution extremely accurately using moderate-degree polynomials, and in fact the method of doing this is fast enough that inversion sampling is now the default method for sampling from a normal distribution in the statistical package R.\""
   ]
  },
  {
   "cell_type": "markdown",
   "metadata": {},
   "source": [
    "Julia used an interpolation of the error function as basis for the normal distribution."
   ]
  },
  {
   "cell_type": "code",
   "execution_count": 7,
   "metadata": {
    "collapsed": false
   },
   "outputs": [
    {
     "name": "stdout",
     "output_type": "stream",
     "text": [
      "search: randn randn! sprandn randstring ZeroMeanDiagNormal\n",
      "\n"
     ]
    },
    {
     "data": {
      "text/markdown": [
       "```\n",
       "randn([rng], [T=Float64], [dims...])\n",
       "```\n",
       "\n",
       "Generate a normally-distributed random number of type `T` with mean 0 and standard deviation 1. Optionally generate an array of normally-distributed random numbers. The `Base` module currently provides an implementation for the types `Float16`, `Float32`, and `Float64` (the default).\n"
      ],
      "text/plain": [
       "```\n",
       "randn([rng], [T=Float64], [dims...])\n",
       "```\n",
       "\n",
       "Generate a normally-distributed random number of type `T` with mean 0 and standard deviation 1. Optionally generate an array of normally-distributed random numbers. The `Base` module currently provides an implementation for the types `Float16`, `Float32`, and `Float64` (the default).\n"
      ]
     },
     "execution_count": 7,
     "metadata": {},
     "output_type": "execute_result"
    }
   ],
   "source": [
    "?randn"
   ]
  },
  {
   "cell_type": "code",
   "execution_count": 8,
   "metadata": {
    "collapsed": false
   },
   "outputs": [
    {
     "name": "stdout",
     "output_type": "stream",
     "text": [
      "search: erf erfi erfc erfcx erfinv erfcinv OverflowError StackOverflowError\n",
      "\n"
     ]
    },
    {
     "data": {
      "text/markdown": [
       "```\n",
       "erf(x)\n",
       "```\n",
       "\n",
       "Compute the error function of `x`, defined by $\\frac{2}{\\sqrt{\\pi}} \\int_0^x e^{-t^2} dt$ for arbitrary complex `x`.\n"
      ],
      "text/plain": [
       "```\n",
       "erf(x)\n",
       "```\n",
       "\n",
       "Compute the error function of `x`, defined by $\\frac{2}{\\sqrt{\\pi}} \\int_0^x e^{-t^2} dt$ for arbitrary complex `x`.\n"
      ]
     },
     "execution_count": 8,
     "metadata": {},
     "output_type": "execute_result"
    }
   ],
   "source": [
    "?erf"
   ]
  },
  {
   "cell_type": "code",
   "execution_count": 10,
   "metadata": {
    "collapsed": false
   },
   "outputs": [
    {
     "data": {
      "text/plain": [
       "Distributions.Normal{Int64}(μ=1, σ=2)"
      ]
     },
     "execution_count": 10,
     "metadata": {},
     "output_type": "execute_result"
    }
   ],
   "source": [
    "d = Normal(1,2)"
   ]
  },
  {
   "cell_type": "code",
   "execution_count": 12,
   "metadata": {
    "collapsed": false
   },
   "outputs": [
    {
     "data": {
      "text/plain": [
       "4.289707253902943"
      ]
     },
     "execution_count": 12,
     "metadata": {},
     "output_type": "execute_result"
    }
   ],
   "source": [
    "quantile(d,0.95)"
   ]
  },
  {
   "cell_type": "code",
   "execution_count": null,
   "metadata": {
    "collapsed": true
   },
   "outputs": [],
   "source": []
  }
 ],
 "metadata": {
  "kernelspec": {
   "display_name": "Julia 0.4.6",
   "language": "julia",
   "name": "julia-0.4"
  },
  "language_info": {
   "file_extension": ".jl",
   "mimetype": "application/julia",
   "name": "julia",
   "version": "0.5.0"
  }
 },
 "nbformat": 4,
 "nbformat_minor": 0
}
