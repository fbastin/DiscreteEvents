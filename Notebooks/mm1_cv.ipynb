{
 "cells": [
  {
   "cell_type": "markdown",
   "metadata": {},
   "source": [
    "# Simulation of a M/M/1 queue\n",
    "\n",
    "## Efficiency improvement"
   ]
  },
  {
   "cell_type": "markdown",
   "metadata": {},
   "source": [
    "### Control Variate"
   ]
  },
  {
   "cell_type": "code",
   "execution_count": 6,
   "metadata": {
    "collapsed": false
   },
   "outputs": [
    {
     "data": {
      "text/plain": [
       "stdev (generic function with 1 method)"
      ]
     },
     "execution_count": 6,
     "metadata": {},
     "output_type": "execute_result"
    }
   ],
   "source": [
    "include(\"tally.jl\")"
   ]
  },
  {
   "cell_type": "code",
   "execution_count": 7,
   "metadata": {
    "collapsed": false
   },
   "outputs": [
    {
     "data": {
      "text/plain": [
       "add (generic function with 2 methods)"
      ]
     },
     "execution_count": 7,
     "metadata": {},
     "output_type": "execute_result"
    }
   ],
   "source": [
    "include(\"tallystore.jl\")"
   ]
  },
  {
   "cell_type": "code",
   "execution_count": 8,
   "metadata": {
    "collapsed": false
   },
   "outputs": [
    {
     "name": "stderr",
     "output_type": "stream",
     "text": [
      "WARNING: Method definition rand_dist(RandomStreams.MRG32k3a, Distributions.Distribution) in module Main at In[1]:8 overwritten at In[8]:7.\n"
     ]
    },
    {
     "data": {
      "text/plain": [
       "Seed for next MRG32k3a generator:\n",
       "[12345,12345,12345,12345,12345,12345]"
      ]
     },
     "execution_count": 8,
     "metadata": {},
     "output_type": "execute_result"
    }
   ],
   "source": [
    "using SimJulia\n",
    "using Distributions\n",
    "using RandomStreams\n",
    "\n",
    "const SEED = 12345\n",
    "\n",
    "rand_dist(rng::MRG32k3a, Dist::Distribution) = quantile(Dist, rand(rng))\n",
    "\n",
    "seeds = [SEED, SEED, SEED, SEED, SEED, SEED]\n",
    "gen = MRG32k3aGen(seeds)"
   ]
  },
  {
   "cell_type": "code",
   "execution_count": 9,
   "metadata": {
    "collapsed": false
   },
   "outputs": [
    {
     "name": "stderr",
     "output_type": "stream",
     "text": [
      "WARNING: Method definition ci_normal(Int64, Float64, Float64, Float64) in module Main at In[2]:2 overwritten at In[9]:2.\n"
     ]
    },
    {
     "data": {
      "text/plain": [
       "ci_normal (generic function with 1 method)"
      ]
     },
     "execution_count": 9,
     "metadata": {},
     "output_type": "execute_result"
    }
   ],
   "source": [
    "function ci_normal(n::Int64, mean::Float64, stdev::Float64, α::Float64)\n",
    "    z = quantile(Normal(), 1-α/2)\n",
    "    w = z*stdev/sqrt(n)\n",
    "    # Lower bound\n",
    "    l = mean - w\n",
    "    # Upper bound\n",
    "    u = mean + w\n",
    "    \n",
    "    return l, u\n",
    "end"
   ]
  },
  {
   "cell_type": "code",
   "execution_count": 10,
   "metadata": {
    "collapsed": false,
    "scrolled": true
   },
   "outputs": [
    {
     "name": "stderr",
     "output_type": "stream",
     "text": [
      "WARNING: Method definition ci_tdist(Int64, Float64, Float64, Float64) in module Main at In[3]:2 overwritten at In[10]:2.\n"
     ]
    },
    {
     "data": {
      "text/plain": [
       "ci_tdist (generic function with 1 method)"
      ]
     },
     "execution_count": 10,
     "metadata": {},
     "output_type": "execute_result"
    }
   ],
   "source": [
    "function ci_tdist(n::Int64, mean::Float64, stdev::Float64, α::Float64)\n",
    "    z = quantile(TDist(n-1), 1-α/2)\n",
    "    w = z*stdev/sqrt(n)\n",
    "    # Lower bound\n",
    "    l = mean - w\n",
    "    # Upper bound\n",
    "    u = mean + w\n",
    "    \n",
    "    return l, u\n",
    "end"
   ]
  },
  {
   "cell_type": "code",
   "execution_count": 11,
   "metadata": {
    "collapsed": false
   },
   "outputs": [
    {
     "data": {
      "text/plain": [
       "ci_ratio (generic function with 1 method)"
      ]
     },
     "execution_count": 11,
     "metadata": {},
     "output_type": "execute_result"
    }
   ],
   "source": [
    "function ci_ratio(x, y::TallyStore, α::Float64)\n",
    "    n = nobs(x.t)\n",
    "    z = quantile(TDist(n-1), 1-α/2)\n",
    "\n",
    "    μ1 = average(x.t)\n",
    "    μ2 = average(y.t)\n",
    "    # Ratio estimator\n",
    "    if (μ2 == 0)\n",
    "        ν = NaN\n",
    "    else\n",
    "        ν = μ1/μ2\n",
    "    end\n",
    "    \n",
    "    # Variance of the ratio\n",
    "    σ = sqrt((variance(x.t) + variance(y.t)*ν*ν - 2*cov(x.obs, y.obs)*ν)/(μ2*μ2))\n",
    "\n",
    "    w = z*σ/sqrt(n)\n",
    "\n",
    "    # Lower bound\n",
    "    l = ν - w\n",
    "    # Upper bound\n",
    "    u = ν + w\n",
    "    \n",
    "    return ν, l, u\n",
    "end"
   ]
  },
  {
   "cell_type": "code",
   "execution_count": 13,
   "metadata": {
    "collapsed": false
   },
   "outputs": [
    {
     "name": "stdout",
     "output_type": "stream",
     "text": [
      "M/M/1 with processes\n"
     ]
    },
    {
     "data": {
      "text/plain": [
       "set_busynessFactor (generic function with 1 method)"
      ]
     },
     "execution_count": 13,
     "metadata": {},
     "output_type": "execute_result"
    }
   ],
   "source": [
    "println(\"M/M/1 with processes\")\n",
    "\n",
    "# rates\n",
    "λ = 150.0\n",
    "μ = 300.0\n",
    "ρ = λ/μ\n",
    "\n",
    "# Working periods\n",
    "periods = 13\n",
    "# Period length\n",
    "period_length = 1.0\n",
    "\n",
    "# occupancy factor\n",
    "B = [0.8, 1.0, 1.2, 1.4]\n",
    "pB = [0.25, 0.55, 0.15, 0.05]\n",
    "\n",
    "# We consider independent days, so there is no warmup to apply.\n",
    "warmup = 0;\n",
    "\n",
    "type System\n",
    "    W\n",
    "    B\n",
    "    arrival\n",
    "    service\n",
    "    counter\n",
    "    arrgen\n",
    "    servgen\n",
    "    day\n",
    "    \n",
    "    calls\n",
    "    limit\n",
    "    \n",
    "    function System(text::String)\n",
    "        s = new()\n",
    "        s.W = Tally(text)\n",
    "        s.B = 1.0\n",
    "        s.arrival = Exponential(1.0/λ)\n",
    "        s.service = Exponential(1.0/μ)\n",
    "        s.arrgen = next_stream(gen)\n",
    "        s.servgen = next_stream(gen)\n",
    "        s.day = next_stream(gen)\n",
    "        \n",
    "        s.calls = 0\n",
    "        s.limit = 1.0/180.0\n",
    "        \n",
    "        return s;\n",
    "    end\n",
    "end\n",
    "\n",
    "function restart(s::System)\n",
    "    init(s.W)\n",
    "    s.calls = 0\n",
    "    next_substream!(s.arrgen)\n",
    "    next_substream!(s.servgen)\n",
    "    next_substream!(s.day)\n",
    "end\n",
    "\n",
    "function set_busynessFactor(s::System, B::Float64)\n",
    "    s.B = B\n",
    "    s.arrival = Exponential(1.0/(B*λ))\n",
    "end"
   ]
  },
  {
   "cell_type": "code",
   "execution_count": 14,
   "metadata": {
    "collapsed": false
   },
   "outputs": [
    {
     "data": {
      "text/plain": [
       "1-element Array{Float64,1}:\n",
       " 1.0"
      ]
     },
     "execution_count": 14,
     "metadata": {},
     "output_type": "execute_result"
    }
   ],
   "source": [
    "# Compute the expectation of B\n",
    "EB = pB'*B"
   ]
  },
  {
   "cell_type": "code",
   "execution_count": 15,
   "metadata": {
    "collapsed": false
   },
   "outputs": [
    {
     "data": {
      "text/plain": [
       "1950.0"
      ]
     },
     "execution_count": 15,
     "metadata": {},
     "output_type": "execute_result"
    }
   ],
   "source": [
    "# Expected arrivals\n",
    "EA = periods*period_length*λ"
   ]
  },
  {
   "cell_type": "code",
   "execution_count": 21,
   "metadata": {
    "collapsed": false
   },
   "outputs": [
    {
     "data": {
      "text/plain": [
       "System(Tally(\"Waiting Times\",0,0.0,Inf,-Inf,0.0,0.0,0.0),1.0,Distributions.Exponential{Float64}(θ=0.006666666666666667),Distributions.Exponential{Float64}(θ=0.0033333333333333335),#undef,Full state of MRG32k3a generator:\n",
       "Cg = [12345,12345,12345,12345,12345,12345]\n",
       "Bg = [12345,12345,12345,12345,12345,12345]\n",
       "Ig = [12345,12345,12345,12345,12345,12345],Full state of MRG32k3a generator:\n",
       "Cg = [3692455944,1366884236,2968912127,335948734,4161675175,475798818]\n",
       "Bg = [3692455944,1366884236,2968912127,335948734,4161675175,475798818]\n",
       "Ig = [3692455944,1366884236,2968912127,335948734,4161675175,475798818],Full state of MRG32k3a generator:\n",
       "Cg = [1015873554,1310354410,2249465273,994084013,2912484720,3876682925]\n",
       "Bg = [1015873554,1310354410,2249465273,994084013,2912484720,3876682925]\n",
       "Ig = [1015873554,1310354410,2249465273,994084013,2912484720,3876682925],0,0.005555555555555556)"
      ]
     },
     "execution_count": 21,
     "metadata": {},
     "output_type": "execute_result"
    }
   ],
   "source": [
    "s = System(\"Waiting Times\")"
   ]
  },
  {
   "cell_type": "code",
   "execution_count": 16,
   "metadata": {
    "collapsed": false
   },
   "outputs": [
    {
     "data": {
      "text/plain": [
       "customer (generic function with 1 method)"
      ]
     },
     "execution_count": 16,
     "metadata": {},
     "output_type": "execute_result"
    }
   ],
   "source": [
    "# Allow a simulation with a fixed number of clients\n",
    "\n",
    "function source(env::Environment, s::System, limit::Float64)\n",
    "    i = 0\n",
    "    while (true)\n",
    "        yield(Timeout(env, rand_dist(s.arrgen, s.arrival)))\n",
    "        if (now(env) > limit) break end\n",
    "        i += 1\n",
    "        Process(env, customer, s, i, s.counter)\n",
    "    end\n",
    "end\n",
    "\n",
    "function source_fixed(env::Environment, s::System, counter::Resource, nCusts::Int64)\n",
    "    for i = 1:nCusts\n",
    "        yield(Timeout(env, rand_dist(s.arrgen, s.arrival)))\n",
    "        Process(env, customer, s, i, counter)\n",
    "    end\n",
    "end\n",
    "\n",
    "function customer(env::Environment, s::System, idx::Int, counter::Resource)\n",
    "    # Record the arrival time in the system\n",
    "    arrive = now(env)\n",
    "    yield(Request(counter))\n",
    "    # The simulation clock now contains the time when the client goes to the server.\n",
    "    # Record the waiting time\n",
    "    if (idx > warmup)\n",
    "        wait = now(env) - arrive\n",
    "        add(s.W, wait)\n",
    "        if (wait <= s.limit)\n",
    "            s.calls += 1\n",
    "        end\n",
    "    end\n",
    "    yield(Timeout(env, rand_dist(s.servgen, s.service)))\n",
    "    yield(Release(counter))\n",
    "end"
   ]
  },
  {
   "cell_type": "code",
   "execution_count": 18,
   "metadata": {
    "collapsed": false
   },
   "outputs": [
    {
     "name": "stderr",
     "output_type": "stream",
     "text": [
      "WARNING: Method definition gen_day(Main.System) in module Main at In[17]:2 overwritten at In[18]:2.\n"
     ]
    },
    {
     "data": {
      "text/plain": [
       "gen_day (generic function with 1 method)"
      ]
     },
     "execution_count": 18,
     "metadata": {},
     "output_type": "execute_result"
    }
   ],
   "source": [
    "function gen_day(s::System)\n",
    "    u = rand(s.day)\n",
    "    i = 1\n",
    "    p = pB[1]\n",
    "    while (p < u)\n",
    "        i += 1\n",
    "        p += pB[i]\n",
    "    end\n",
    "    s.B = B[i]\n",
    "    s.arrival = Exponential(1.0/(s.B*λ))\n",
    "    # println(\"B: $(s.B), u: $u, i: $i\")\n",
    "end"
   ]
  },
  {
   "cell_type": "code",
   "execution_count": 19,
   "metadata": {
    "collapsed": false
   },
   "outputs": [
    {
     "data": {
      "text/plain": [
       "onesim (generic function with 1 method)"
      ]
     },
     "execution_count": 19,
     "metadata": {},
     "output_type": "execute_result"
    }
   ],
   "source": [
    "function onesim(s::System)    \n",
    "    env = Environment()\n",
    "    s.counter = Resource(env, 1)\n",
    "\n",
    "    # We consider a system over 24 hours\n",
    "    Process(env, source, s, periods*period_length)\n",
    "    run(env)\n",
    "end"
   ]
  },
  {
   "cell_type": "code",
   "execution_count": 22,
   "metadata": {
    "collapsed": false
   },
   "outputs": [],
   "source": [
    "# We genereate the day-dependent quantities\n",
    "gen_day(s)\n",
    "    \n",
    "onesim(s)"
   ]
  },
  {
   "cell_type": "code",
   "execution_count": 23,
   "metadata": {
    "collapsed": false
   },
   "outputs": [
    {
     "data": {
      "text/plain": [
       "0.0033006779213345626"
      ]
     },
     "execution_count": 23,
     "metadata": {},
     "output_type": "execute_result"
    }
   ],
   "source": [
    "average(s.W)"
   ]
  },
  {
   "cell_type": "code",
   "execution_count": 24,
   "metadata": {
    "collapsed": false
   },
   "outputs": [
    {
     "data": {
      "text/plain": [
       "1972"
      ]
     },
     "execution_count": 24,
     "metadata": {},
     "output_type": "execute_result"
    }
   ],
   "source": [
    "nobs(s.W)"
   ]
  },
  {
   "cell_type": "code",
   "execution_count": 25,
   "metadata": {
    "collapsed": false
   },
   "outputs": [
    {
     "data": {
      "text/plain": [
       "1558"
      ]
     },
     "execution_count": 25,
     "metadata": {},
     "output_type": "execute_result"
    }
   ],
   "source": [
    "s.calls"
   ]
  },
  {
   "cell_type": "code",
   "execution_count": 26,
   "metadata": {
    "collapsed": false
   },
   "outputs": [
    {
     "data": {
      "text/plain": [
       "0.7900608519269777"
      ]
     },
     "execution_count": 26,
     "metadata": {},
     "output_type": "execute_result"
    }
   ],
   "source": [
    "# Service levels\n",
    "SL = s.calls/nobs(s.W)"
   ]
  },
  {
   "cell_type": "code",
   "execution_count": 27,
   "metadata": {
    "collapsed": false
   },
   "outputs": [
    {
     "data": {
      "text/plain": [
       "TallyStore(Float64[],Tally(\"Average waiting times\",0,0.0,Inf,-Inf,0.0,0.0,0.0))"
      ]
     },
     "execution_count": 27,
     "metadata": {},
     "output_type": "execute_result"
    }
   ],
   "source": [
    "meanWaits = TallyStore(\"Average waiting times\")"
   ]
  },
  {
   "cell_type": "code",
   "execution_count": 28,
   "metadata": {
    "collapsed": false
   },
   "outputs": [
    {
     "data": {
      "text/plain": [
       "TallyStore(Float64[],Tally(\"Cumulative waiting times\",0,0.0,Inf,-Inf,0.0,0.0,0.0))"
      ]
     },
     "execution_count": 28,
     "metadata": {},
     "output_type": "execute_result"
    }
   ],
   "source": [
    "totWaits = TallyStore(\"Cumulative waiting times\")"
   ]
  },
  {
   "cell_type": "code",
   "execution_count": 29,
   "metadata": {
    "collapsed": false
   },
   "outputs": [
    {
     "data": {
      "text/plain": [
       "TallyStore(Float64[],Tally(\"Number of calls answered in more than 20.0 seconds\",0,0.0,Inf,-Inf,0.0,0.0,0.0))"
      ]
     },
     "execution_count": 29,
     "metadata": {},
     "output_type": "execute_result"
    }
   ],
   "source": [
    "nObs = TallyStore(\"Number of observations\")\n",
    "nCalls = TallyStore(\"Number of calls answered in less than $(s.limit*3600) seconds\")\n",
    "nOver = TallyStore(\"Number of calls answered in more than $(s.limit*3600) seconds\")"
   ]
  },
  {
   "cell_type": "code",
   "execution_count": 30,
   "metadata": {
    "collapsed": false
   },
   "outputs": [
    {
     "data": {
      "text/plain": [
       "100"
      ]
     },
     "execution_count": 30,
     "metadata": {},
     "output_type": "execute_result"
    }
   ],
   "source": [
    "nSim = 100"
   ]
  },
  {
   "cell_type": "code",
   "execution_count": 31,
   "metadata": {
    "collapsed": false
   },
   "outputs": [
    {
     "name": "stdout",
     "output_type": "stream",
     "text": [
      "Sim 1. Average waiting time: 0.003720571871425421. Number of observations: 1941\n",
      "Sim 2. Average waiting time: 0.0033023487299231784. Number of observations: 1946\n",
      "Sim 3. Average waiting time: 0.003308842792981638. Number of observations: 1985\n",
      "Sim 4. Average waiting time: 0.0020712515586998885. Number of observations: 1599\n",
      "Sim 5. Average waiting time: 0.00318239428812974. Number of observations: 1969\n",
      "Sim 6. Average waiting time: 0.0022165349423393715. Number of observations: 1565\n",
      "Sim 7. Average waiting time: 0.0031093091894904513. Number of observations: 1911\n",
      "Sim 8. Average waiting time: 0.0035067456703061703. Number of observations: 1913\n",
      "Sim 9. Average waiting time: 0.004361536640892026. Number of observations: 2332\n",
      "Sim 10. Average waiting time: 0.002788153049901509. Number of observations: 1543\n",
      "Sim 11. Average waiting time: 0.0033044579571697465. Number of observations: 2009\n",
      "Sim 12. Average waiting time: 0.005351663428118502. Number of observations: 2354\n",
      "Sim 13. Average waiting time: 0.0037011665935685538. Number of observations: 1969\n",
      "Sim 14. Average waiting time: 0.002222835692320654. Number of observations: 1585\n",
      "Sim 15. Average waiting time: 0.003083746690268348. Number of observations: 2001\n",
      "Sim 16. Average waiting time: 0.002981714412114932. Number of observations: 1911\n",
      "Sim 17. Average waiting time: 0.0030555114420788305. Number of observations: 1912\n",
      "Sim 18. Average waiting time: 0.003506207953125015. Number of observations: 1952\n",
      "Sim 19. Average waiting time: 0.002147729622634049. Number of observations: 1524\n",
      "Sim 20. Average waiting time: 0.004017856775483353. Number of observations: 1974\n",
      "Sim 21. Average waiting time: 0.002485216084133899. Number of observations: 1546\n",
      "Sim 22. Average waiting time: 0.004661197599766311. Number of observations: 2024\n",
      "Sim 23. Average waiting time: 0.004966603990133761. Number of observations: 2289\n",
      "Sim 24. Average waiting time: 0.0034056000818116225. Number of observations: 2004\n",
      "Sim 25. Average waiting time: 0.002185046938322891. Number of observations: 1527\n",
      "Sim 26. Average waiting time: 0.005131626400502986. Number of observations: 2297\n",
      "Sim 27. Average waiting time: 0.0035400720213672604. Number of observations: 1976\n",
      "Sim 28. Average waiting time: 0.003925742844799619. Number of observations: 2001\n",
      "Sim 29. Average waiting time: 0.002159921613170449. Number of observations: 1580\n",
      "Sim 30. Average waiting time: 0.006826953493210012. Number of observations: 2386\n",
      "Sim 31. Average waiting time: 0.004455497009499094. Number of observations: 2338\n",
      "Sim 32. Average waiting time: 0.002100989397221596. Number of observations: 1561\n",
      "Sim 33. Average waiting time: 0.00352848272757416. Number of observations: 1982\n",
      "Sim 34. Average waiting time: 0.004230986820538758. Number of observations: 2309\n",
      "Sim 35. Average waiting time: 0.002739789663713523. Number of observations: 1998\n",
      "Sim 36. Average waiting time: 0.0034294708876148007. Number of observations: 1963\n",
      "Sim 37. Average waiting time: 0.0026234106096698797. Number of observations: 1860\n",
      "Sim 38. Average waiting time: 0.003076118354897628. Number of observations: 1987\n",
      "Sim 39. Average waiting time: 0.0019343895700099703. Number of observations: 1546\n",
      "Sim 40. Average waiting time: 0.004483529987310878. Number of observations: 2301\n",
      "Sim 41. Average waiting time: 0.005583573815630634. Number of observations: 2396\n",
      "Sim 42. Average waiting time: 0.004268794482114983. Number of observations: 2379\n",
      "Sim 43. Average waiting time: 0.007036793306398343. Number of observations: 2680\n",
      "Sim 44. Average waiting time: 0.002070422473702122. Number of observations: 1523\n",
      "Sim 45. Average waiting time: 0.0028692847724691526. Number of observations: 1870\n",
      "Sim 46. Average waiting time: 0.0029869276748592196. Number of observations: 1915\n",
      "Sim 47. Average waiting time: 0.0033796155465497285. Number of observations: 1897\n",
      "Sim 48. Average waiting time: 0.0026807871314295634. Number of observations: 1907\n",
      "Sim 49. Average waiting time: 0.003201227638651335. Number of observations: 1943\n",
      "Sim 50. Average waiting time: 0.0035021930466402375. Number of observations: 1955\n",
      "Sim 51. Average waiting time: 0.0032460889196848195. Number of observations: 1860\n",
      "Sim 52. Average waiting time: 0.006551053413253542. Number of observations: 2631\n",
      "Sim 53. Average waiting time: 0.004011178022626635. Number of observations: 2025\n",
      "Sim 54. Average waiting time: 0.0023507725443465983. Number of observations: 1562\n",
      "Sim 55. Average waiting time: 0.003598456628406958. Number of observations: 1882\n",
      "Sim 56. Average waiting time: 0.0037543619702599786. Number of observations: 1989\n",
      "Sim 57. Average waiting time: 0.002293895654865687. Number of observations: 1556\n",
      "Sim 58. Average waiting time: 0.0017167234751628273. Number of observations: 1468\n",
      "Sim 59. Average waiting time: 0.003225295360282114. Number of observations: 1918\n",
      "Sim 60. Average waiting time: 0.0026874339820442644. Number of observations: 1587\n",
      "Sim 61. Average waiting time: 0.002373378603908627. Number of observations: 1566\n",
      "Sim 62. Average waiting time: 0.007539973663741074. Number of observations: 2776\n",
      "Sim 63. Average waiting time: 0.0054043294059095736. Number of observations: 2431\n",
      "Sim 64. Average waiting time: 0.0034142224158132902. Number of observations: 1958\n",
      "Sim 65. Average waiting time: 0.003595158561912034. Number of observations: 1905\n",
      "Sim 66. Average waiting time: 0.004524966945656877. Number of observations: 2300\n",
      "Sim 67. Average waiting time: 0.005227245274521963. Number of observations: 2362\n",
      "Sim 68. Average waiting time: 0.002124035108624874. Number of observations: 1595\n",
      "Sim 69. Average waiting time: 0.003965701884256056. Number of observations: 2025\n",
      "Sim 70. Average waiting time: 0.002991405995208019. Number of observations: 1876\n",
      "Sim 71. Average waiting time: 0.0019775434650848886. Number of observations: 1610\n",
      "Sim 72. Average waiting time: 0.0026371549320197475. Number of observations: 1894\n",
      "Sim 73. Average waiting time: 0.003956835286060474. Number of observations: 1945\n",
      "Sim 74. Average waiting time: 0.0035845956210402347. Number of observations: 1988\n",
      "Sim 75. Average waiting time: 0.003203398131711602. Number of observations: 1926\n",
      "Sim 76. Average waiting time: 0.002793836123756446. Number of observations: 1926\n",
      "Sim 77. Average waiting time: 0.003840152506316152. Number of observations: 2011\n",
      "Sim 78. Average waiting time: 0.0035558692053428076. Number of observations: 1981\n",
      "Sim 79. Average waiting time: 0.0036073116135940846. Number of observations: 1924\n",
      "Sim 80. Average waiting time: 0.0025413869174538244. Number of observations: 1933\n",
      "Sim 81. Average waiting time: 0.002289314187629245. Number of observations: 1592\n",
      "Sim 82. Average waiting time: 0.0036922998675991987. Number of observations: 2001\n",
      "Sim 83. Average waiting time: 0.0033322202236578274. Number of observations: 1981\n",
      "Sim 84. Average waiting time: 0.0020868459129171086. Number of observations: 1536\n",
      "Sim 85. Average waiting time: 0.003205900093939716. Number of observations: 1964\n",
      "Sim 86. Average waiting time: 0.009808768526355002. Number of observations: 2762\n",
      "Sim 87. Average waiting time: 0.0037189215923070485. Number of observations: 1975\n",
      "Sim 88. Average waiting time: 0.004781296103707322. Number of observations: 2321\n",
      "Sim 89. Average waiting time: 0.0023608684354718542. Number of observations: 1637\n",
      "Sim 90. Average waiting time: 0.0029689934147985133. Number of observations: 1931\n",
      "Sim 91. Average waiting time: 0.004861925800462296. Number of observations: 2330\n",
      "Sim 92. Average waiting time: 0.0027863192705589617. Number of observations: 1978\n",
      "Sim 93. Average waiting time: 0.0020736865475774104. Number of observations: 1545\n",
      "Sim 94. Average waiting time: 0.004020642014971374. Number of observations: 2338\n",
      "Sim 95. Average waiting time: 0.002239474249580041. Number of observations: 1558\n",
      "Sim 96. Average waiting time: 0.0034113089551479486. Number of observations: 1914\n",
      "Sim 97. Average waiting time: 0.003129351054501316. Number of observations: 1976\n",
      "Sim 98. Average waiting time: 0.0021993465817713746. Number of observations: 1558\n",
      "Sim 99. Average waiting time: 0.008001207400572509. Number of observations: 2654\n",
      "Sim 100. Average waiting time: 0.0036504215793713777. Number of observations: 1896\n"
     ]
    }
   ],
   "source": [
    "for n=1:nSim\n",
    "    restart(s)\n",
    "    gen_day(s)\n",
    "    onesim(s)\n",
    "    w = average(s.W)\n",
    "    N = nobs(s.W)\n",
    "    add(meanWaits, w)\n",
    "    add(totWaits, sum(s.W))\n",
    "    add(nObs, Float64(N))\n",
    "    add(nCalls, Float64(s.calls))\n",
    "    add(nOver, Float64(N-s.calls))\n",
    "    println(\"Sim $n. Average waiting time: $w. Number of observations: $N\")\n",
    "end"
   ]
  },
  {
   "cell_type": "code",
   "execution_count": 32,
   "metadata": {
    "collapsed": false
   },
   "outputs": [
    {
     "data": {
      "text/plain": [
       "1956.9199999999994"
      ]
     },
     "execution_count": 32,
     "metadata": {},
     "output_type": "execute_result"
    }
   ],
   "source": [
    "average(nObs.t)"
   ]
  },
  {
   "cell_type": "code",
   "execution_count": 33,
   "metadata": {
    "collapsed": false
   },
   "outputs": [
    {
     "data": {
      "text/plain": [
       "1498.4399999999998"
      ]
     },
     "execution_count": 33,
     "metadata": {},
     "output_type": "execute_result"
    }
   ],
   "source": [
    "average(nCalls.t)"
   ]
  },
  {
   "cell_type": "code",
   "execution_count": 34,
   "metadata": {
    "collapsed": false
   },
   "outputs": [
    {
     "data": {
      "text/plain": [
       "11962.854949494951"
      ]
     },
     "execution_count": 34,
     "metadata": {},
     "output_type": "execute_result"
    }
   ],
   "source": [
    "variance(nCalls.t)"
   ]
  },
  {
   "cell_type": "code",
   "execution_count": 35,
   "metadata": {
    "collapsed": false
   },
   "outputs": [
    {
     "data": {
      "text/plain": [
       "119.62854949494951"
      ]
     },
     "execution_count": 35,
     "metadata": {},
     "output_type": "execute_result"
    }
   ],
   "source": [
    "variance(nCalls.t)/nSim"
   ]
  },
  {
   "cell_type": "code",
   "execution_count": 36,
   "metadata": {
    "collapsed": false
   },
   "outputs": [
    {
     "data": {
      "text/plain": [
       "1491.52"
      ]
     },
     "execution_count": 36,
     "metadata": {},
     "output_type": "execute_result"
    }
   ],
   "source": [
    "# Indirect estimator\n",
    "EA-average(nOver.t)"
   ]
  },
  {
   "cell_type": "code",
   "execution_count": 37,
   "metadata": {
    "collapsed": false
   },
   "outputs": [
    {
     "data": {
      "text/plain": [
       "48599.908686868665"
      ]
     },
     "execution_count": 37,
     "metadata": {},
     "output_type": "execute_result"
    }
   ],
   "source": [
    "variance(nOver.t)"
   ]
  },
  {
   "cell_type": "code",
   "execution_count": 38,
   "metadata": {
    "collapsed": false
   },
   "outputs": [
    {
     "data": {
      "text/plain": [
       "27481.611313131314"
      ]
     },
     "execution_count": 38,
     "metadata": {},
     "output_type": "execute_result"
    }
   ],
   "source": [
    "covariance = cov(nCalls.obs, nObs.obs)"
   ]
  },
  {
   "cell_type": "code",
   "execution_count": 39,
   "metadata": {
    "collapsed": false
   },
   "outputs": [
    {
     "data": {
      "text/plain": [
       "1496.3638845357636"
      ]
     },
     "execution_count": 39,
     "metadata": {},
     "output_type": "execute_result"
    }
   ],
   "source": [
    "# Estimator with control variate\n",
    "average(nCalls.t)-covariance*(average(nObs.t)-EA)/variance(nObs.t)"
   ]
  },
  {
   "cell_type": "code",
   "execution_count": 40,
   "metadata": {
    "collapsed": false
   },
   "outputs": [],
   "source": [
    "# Construct the new estimator\n",
    "x_vc = Tally(\"Control Variate estimator\")\n",
    "\n",
    "for i = 1:nSim\n",
    "    add(x_vc, nCalls.obs[i]-covariance*(nObs.obs[i]-EA)/variance(nObs.t))\n",
    "end"
   ]
  },
  {
   "cell_type": "code",
   "execution_count": 41,
   "metadata": {
    "collapsed": false
   },
   "outputs": [
    {
     "data": {
      "text/plain": [
       "1496.363884535764"
      ]
     },
     "execution_count": 41,
     "metadata": {},
     "output_type": "execute_result"
    }
   ],
   "source": [
    "average(x_vc)"
   ]
  },
  {
   "cell_type": "code",
   "execution_count": 42,
   "metadata": {
    "collapsed": false
   },
   "outputs": [
    {
     "data": {
      "text/plain": [
       "3717.9130088411243"
      ]
     },
     "execution_count": 42,
     "metadata": {},
     "output_type": "execute_result"
    }
   ],
   "source": [
    "variance(x_vc)"
   ]
  },
  {
   "cell_type": "markdown",
   "metadata": {},
   "source": [
    "### Stratification"
   ]
  },
  {
   "cell_type": "code",
   "execution_count": 64,
   "metadata": {
    "collapsed": false
   },
   "outputs": [],
   "source": [
    "# We first define the number of observations per strate\n",
    "nB = length(B)\n",
    "nDays = Array(Int64, nB)\n",
    "for i = 1:nB\n",
    "    nDays[i] = round(nSim*pB[i])\n",
    "end"
   ]
  },
  {
   "cell_type": "code",
   "execution_count": 65,
   "metadata": {
    "collapsed": false
   },
   "outputs": [
    {
     "data": {
      "text/plain": [
       "4-element Array{Int64,1}:\n",
       "  50\n",
       " 110\n",
       "  30\n",
       "  10"
      ]
     },
     "execution_count": 65,
     "metadata": {},
     "output_type": "execute_result"
    }
   ],
   "source": [
    "nDays"
   ]
  },
  {
   "cell_type": "markdown",
   "metadata": {},
   "source": [
    "Note: this allocation could be improved by ensuring that each strate has enough observations and that the sum is equal to the number of simulations previously set."
   ]
  },
  {
   "cell_type": "code",
   "execution_count": 66,
   "metadata": {
    "collapsed": false
   },
   "outputs": [],
   "source": [
    "servedCalls = Array(Tally, nB)\n",
    "\n",
    "for i=1:nB\n",
    "    servedCalls[i] = Tally(\"Served calls in time for strate %i\")\n",
    "end"
   ]
  },
  {
   "cell_type": "code",
   "execution_count": 67,
   "metadata": {
    "collapsed": false
   },
   "outputs": [],
   "source": [
    "for i = 1:nB\n",
    "    set_busynessFactor(s, B[i])\n",
    "    for n=1:nDays[i]\n",
    "        restart(s)\n",
    "        onesim(s)\n",
    "        add(servedCalls[i], Float64(s.calls))\n",
    "    end\n",
    "end"
   ]
  },
  {
   "cell_type": "code",
   "execution_count": 68,
   "metadata": {
    "collapsed": false
   },
   "outputs": [
    {
     "name": "stdout",
     "output_type": "stream",
     "text": [
      "Strate 1. Mean: 1335.3 Variance: 1677.6428571428562\n",
      "Strate 2. Mean: 1523.6272727272733 Variance: 2157.5203502919044\n",
      "Strate 3. Mean: 1613.7666666666667 Variance: 2814.8057471264337\n",
      "Strate 4. Mean: 1552.5 Variance: 2472.277777777778\n"
     ]
    }
   ],
   "source": [
    "# Strate details\n",
    "\n",
    "for i = 1:nB\n",
    "    println(\"Strate $i. Mean: \", average(servedCalls[i]),\n",
    "            \" Variance: \", variance(servedCalls[i]))\n",
    "end"
   ]
  },
  {
   "cell_type": "code",
   "execution_count": 72,
   "metadata": {
    "collapsed": true
   },
   "outputs": [],
   "source": [
    "mean = 0.0\n",
    "for i = 1:nB\n",
    "    mean += pB[i]*average(servedCalls[i])\n",
    "end"
   ]
  },
  {
   "cell_type": "code",
   "execution_count": 73,
   "metadata": {
    "collapsed": false
   },
   "outputs": [
    {
     "data": {
      "text/plain": [
       "1491.5100000000004"
      ]
     },
     "execution_count": 73,
     "metadata": {},
     "output_type": "execute_result"
    }
   ],
   "source": [
    "mean"
   ]
  },
  {
   "cell_type": "code",
   "execution_count": 74,
   "metadata": {
    "collapsed": false
   },
   "outputs": [
    {
     "data": {
      "text/plain": [
       "2151.881657904116"
      ]
     },
     "execution_count": 74,
     "metadata": {},
     "output_type": "execute_result"
    }
   ],
   "source": [
    "σ2 = 0.0\n",
    "for i = 1:nB\n",
    "    σ2 += pB[i]*pB[i]*variance(servedCalls[i])/nobs(servedCalls[i])\n",
    "end\n",
    "σ2 *= nSim"
   ]
  },
  {
   "cell_type": "code",
   "execution_count": 75,
   "metadata": {
    "collapsed": false
   },
   "outputs": [],
   "source": [
    "total = 0\n",
    "nSim = 200\n",
    "for i=1:nB\n",
    "    nDays[i] = round(pB[i]*stdev(servedCalls[i]))\n",
    "    total += nDays[i]\n",
    "end\n",
    "for i = 1:nB\n",
    "    nDays[i] = round(nDays[i]*nSim/total)\n",
    "end"
   ]
  },
  {
   "cell_type": "code",
   "execution_count": 76,
   "metadata": {
    "collapsed": false
   },
   "outputs": [
    {
     "data": {
      "text/plain": [
       "4-element Array{Int64,1}:\n",
       "  43\n",
       " 113\n",
       "  35\n",
       "   9"
      ]
     },
     "execution_count": 76,
     "metadata": {},
     "output_type": "execute_result"
    }
   ],
   "source": [
    "nDays"
   ]
  },
  {
   "cell_type": "code",
   "execution_count": 77,
   "metadata": {
    "collapsed": true
   },
   "outputs": [],
   "source": [
    "for i=1:nB\n",
    "    servedCalls[i] = Tally(\"Served calls in time for strate %i\")\n",
    "end\n",
    "\n",
    "for i = 1:nB\n",
    "    set_busynessFactor(s, B[i])\n",
    "    for n=1:nDays[i]\n",
    "        restart(s)\n",
    "        onesim(s)\n",
    "        add(servedCalls[i], Float64(s.calls))\n",
    "    end\n",
    "end"
   ]
  },
  {
   "cell_type": "code",
   "execution_count": 78,
   "metadata": {
    "collapsed": false
   },
   "outputs": [
    {
     "name": "stdout",
     "output_type": "stream",
     "text": [
      "Strate 1. Mean: 1331.9302325581398 Variance: 1472.3045404208187\n",
      "Strate 2. Mean: 1522.8761061946902 Variance: 1675.7880847029064\n",
      "Strate 3. Mean: 1602.7428571428572 Variance: 2005.9025210083983\n",
      "Strate 4. Mean: 1579.0 Variance: 3685.2499999999995\n"
     ]
    }
   ],
   "source": [
    "# Strate details\n",
    "\n",
    "for i = 1:nB\n",
    "    println(\"Strate $i. Mean: \", average(servedCalls[i]),\n",
    "            \" Variance: \", variance(servedCalls[i]))\n",
    "end"
   ]
  },
  {
   "cell_type": "code",
   "execution_count": 79,
   "metadata": {
    "collapsed": false
   },
   "outputs": [
    {
     "data": {
      "text/plain": [
       "1787.8473443018017"
      ]
     },
     "execution_count": 79,
     "metadata": {},
     "output_type": "execute_result"
    }
   ],
   "source": [
    "σ2 = 0.0\n",
    "for i = 1:nB\n",
    "    σ2 += pB[i]*pB[i]*variance(servedCalls[i])/nobs(servedCalls[i])\n",
    "end\n",
    "σ2 *= nSim"
   ]
  },
  {
   "cell_type": "code",
   "execution_count": null,
   "metadata": {
    "collapsed": true
   },
   "outputs": [],
   "source": []
  }
 ],
 "metadata": {
  "kernelspec": {
   "display_name": "Julia 0.5.0",
   "language": "julia",
   "name": "julia-0.5"
  },
  "language_info": {
   "file_extension": ".jl",
   "mimetype": "application/julia",
   "name": "julia",
   "version": "0.5.0"
  }
 },
 "nbformat": 4,
 "nbformat_minor": 0
}
